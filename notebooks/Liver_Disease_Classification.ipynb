{
 "cells": [
  {
   "cell_type": "markdown",
   "metadata": {},
   "source": [
    "#### Raviteja Padala\n",
    "<img align=\"left\" img src= in.png height = 20 width=\"20\"/>   https://www.linkedin.com/in/raviteja-padala/ <br>\n",
    "\n",
    "<img align=\"left\" img src= github.png height = 20 width=\"20\"/> https://github.com/raviteja-padala\n"
   ]
  },
  {
   "cell_type": "markdown",
   "metadata": {},
   "source": [
    "# Liver_Disease_Classification"
   ]
  },
  {
   "cell_type": "markdown",
   "metadata": {
    "id": "-qVmq1N68fdP"
   },
   "source": [
    "### Objective:\n",
    "\n",
    "The objective of this analysis was to build a predictive model for liver disease classification using the Liver Disease Classification dataset. The goal was to understand the dataset, perform necessary preprocessing, train a machine learning model, and choose appropriate evaluation metrics, with a focus on achieving a high recall score due to the importance of minimizing false negatives in medical predictions."
   ]
  },
  {
   "cell_type": "code",
   "execution_count": 1,
   "metadata": {
    "id": "Fwp0bpag8aYY"
   },
   "outputs": [],
   "source": [
    "#importing libraries to perfom analysis\n",
    "import pandas as pd\n",
    "import numpy as np\n",
    "import seaborn as sns\n",
    "import matplotlib.pyplot as plt\n",
    "import warnings\n",
    "warnings.filterwarnings('ignore')\n",
    "%matplotlib inline"
   ]
  },
  {
   "cell_type": "code",
   "execution_count": 2,
   "metadata": {
    "id": "Uey9iD-xKcJ4"
   },
   "outputs": [],
   "source": [
    "## Machine Learning libraries\n",
    "import sklearn\n",
    "from sklearn.model_selection import train_test_split, GridSearchCV\n",
    "from sklearn.preprocessing import StandardScaler\n",
    "\n",
    "from sklearn.decomposition import PCA\n",
    "from sklearn.svm import SVC\n",
    "from sklearn.tree import DecisionTreeClassifier\n",
    "from sklearn.ensemble import RandomForestClassifier, BaggingClassifier, ExtraTreesClassifier, VotingClassifier, AdaBoostClassifier, GradientBoostingClassifier\n",
    "from xgboost import XGBClassifier\n",
    "from sklearn.linear_model import LogisticRegression\n",
    "from sklearn.metrics import confusion_matrix, accuracy_score, precision_score, recall_score, roc_auc_score\n",
    "from sklearn.pipeline import Pipeline\n",
    "from sklearn.impute import SimpleImputer\n",
    "from sklearn.preprocessing import  StandardScaler\n",
    "from sklearn.compose import ColumnTransformer\n",
    "\n",
    "### To save the model\n",
    "import pickle"
   ]
  },
  {
   "cell_type": "code",
   "execution_count": 3,
   "metadata": {
    "id": "jxZ3melsG77M"
   },
   "outputs": [],
   "source": [
    "#loading the dataset\n",
    "df = pd.read_csv(\"https://raw.githubusercontent.com/raviteja-padala/Datasets/main/indian_liver_patient.csv\")"
   ]
  },
  {
   "cell_type": "code",
   "execution_count": 4,
   "metadata": {
    "colab": {
     "base_uri": "https://localhost:8080/"
    },
    "id": "ZkQ8libTHBBW",
    "outputId": "16266102-6a50-4add-c4fb-7709301a881c"
   },
   "outputs": [
    {
     "data": {
      "text/plain": [
       "(583, 11)"
      ]
     },
     "execution_count": 4,
     "metadata": {},
     "output_type": "execute_result"
    }
   ],
   "source": [
    "#shape of the dataset\n",
    "df.shape"
   ]
  },
  {
   "cell_type": "code",
   "execution_count": 5,
   "metadata": {
    "colab": {
     "base_uri": "https://localhost:8080/"
    },
    "id": "sGkYDbZuHCQU",
    "outputId": "1f2c411d-b054-4f6a-9bf0-ec7bd2f7399d"
   },
   "outputs": [
    {
     "name": "stdout",
     "output_type": "stream",
     "text": [
      "<class 'pandas.core.frame.DataFrame'>\n",
      "RangeIndex: 583 entries, 0 to 582\n",
      "Data columns (total 11 columns):\n",
      " #   Column                      Non-Null Count  Dtype  \n",
      "---  ------                      --------------  -----  \n",
      " 0   Age                         583 non-null    int64  \n",
      " 1   Gender                      583 non-null    object \n",
      " 2   Total_Bilirubin             583 non-null    float64\n",
      " 3   Direct_Bilirubin            583 non-null    float64\n",
      " 4   Alkaline_Phosphotase        583 non-null    int64  \n",
      " 5   Alamine_Aminotransferase    583 non-null    int64  \n",
      " 6   Aspartate_Aminotransferase  583 non-null    int64  \n",
      " 7   Total_Protiens              583 non-null    float64\n",
      " 8   Albumin                     583 non-null    float64\n",
      " 9   Albumin_and_Globulin_Ratio  579 non-null    float64\n",
      " 10  Dataset                     583 non-null    int64  \n",
      "dtypes: float64(5), int64(5), object(1)\n",
      "memory usage: 50.2+ KB\n"
     ]
    }
   ],
   "source": [
    "#info of the dataset\n",
    "df.info()"
   ]
  },
  {
   "cell_type": "markdown",
   "metadata": {
    "id": "HQJrfr4iYVV6"
   },
   "source": [
    "### About the dataset\n",
    "\n",
    "The Indian Liver Patient Dataset is a dataset contains various medical and clinical features of patients, and the goal is to predict whether a patient has a liver disease or not.\n",
    "\n",
    "Here are some typical features in the ILPD dataset:\n",
    "\n",
    "1. Age: The age of the patient.\n",
    "2. Gender: The gender of the patient\n",
    "3. Total Bilirubin: A measurement of bilirubin in the blood, which can be elevated in liver diseases.\n",
    "4. Direct Bilirubin: A specific type of bilirubin measurement.\n",
    "5. Alkaline Phosphotase: A liver enzyme often measured in liver function tests.\n",
    "6. Alamine Aminotransferase (ALT or SGPT): Another liver enzyme.\n",
    "7. Aspartate Aminotransferase (AST or SGOT): Yet another liver enzyme.\n",
    "8. Total Proteins: The total amount of proteins in the blood.\n",
    "9. Albumin: A specific protein in the blood often used as an indicator of liver function.\n",
    "10. A/G Ratio: The ratio of albumin to globulin in the blood.\n",
    "11. Total Albumin and Globulin Ratio: Another ratio of albumin and globulin.\n",
    "\n",
    "The target variable in the ILPD dataset is typically whether or not a patient has a liver disease, with binary values (e.g., 1 for liver disease, 2 for no liver disease).\n",
    "\n",
    "Dataset : https://www.kaggle.com/datasets/uciml/indian-liver-patient-records"
   ]
  },
  {
   "cell_type": "code",
   "execution_count": 6,
   "metadata": {
    "colab": {
     "base_uri": "https://localhost:8080/",
     "height": 226
    },
    "id": "BKxJiLEvHEgb",
    "outputId": "ea455096-ce2a-4eee-92d2-2504de73d0bb"
   },
   "outputs": [
    {
     "data": {
      "text/html": [
       "<div>\n",
       "<style scoped>\n",
       "    .dataframe tbody tr th:only-of-type {\n",
       "        vertical-align: middle;\n",
       "    }\n",
       "\n",
       "    .dataframe tbody tr th {\n",
       "        vertical-align: top;\n",
       "    }\n",
       "\n",
       "    .dataframe thead th {\n",
       "        text-align: right;\n",
       "    }\n",
       "</style>\n",
       "<table border=\"1\" class=\"dataframe\">\n",
       "  <thead>\n",
       "    <tr style=\"text-align: right;\">\n",
       "      <th></th>\n",
       "      <th>Age</th>\n",
       "      <th>Gender</th>\n",
       "      <th>Total_Bilirubin</th>\n",
       "      <th>Direct_Bilirubin</th>\n",
       "      <th>Alkaline_Phosphotase</th>\n",
       "      <th>Alamine_Aminotransferase</th>\n",
       "      <th>Aspartate_Aminotransferase</th>\n",
       "      <th>Total_Protiens</th>\n",
       "      <th>Albumin</th>\n",
       "      <th>Albumin_and_Globulin_Ratio</th>\n",
       "      <th>Dataset</th>\n",
       "    </tr>\n",
       "  </thead>\n",
       "  <tbody>\n",
       "    <tr>\n",
       "      <th>0</th>\n",
       "      <td>65</td>\n",
       "      <td>Female</td>\n",
       "      <td>0.7</td>\n",
       "      <td>0.1</td>\n",
       "      <td>187</td>\n",
       "      <td>16</td>\n",
       "      <td>18</td>\n",
       "      <td>6.8</td>\n",
       "      <td>3.3</td>\n",
       "      <td>0.90</td>\n",
       "      <td>1</td>\n",
       "    </tr>\n",
       "    <tr>\n",
       "      <th>1</th>\n",
       "      <td>62</td>\n",
       "      <td>Male</td>\n",
       "      <td>10.9</td>\n",
       "      <td>5.5</td>\n",
       "      <td>699</td>\n",
       "      <td>64</td>\n",
       "      <td>100</td>\n",
       "      <td>7.5</td>\n",
       "      <td>3.2</td>\n",
       "      <td>0.74</td>\n",
       "      <td>1</td>\n",
       "    </tr>\n",
       "    <tr>\n",
       "      <th>2</th>\n",
       "      <td>62</td>\n",
       "      <td>Male</td>\n",
       "      <td>7.3</td>\n",
       "      <td>4.1</td>\n",
       "      <td>490</td>\n",
       "      <td>60</td>\n",
       "      <td>68</td>\n",
       "      <td>7.0</td>\n",
       "      <td>3.3</td>\n",
       "      <td>0.89</td>\n",
       "      <td>1</td>\n",
       "    </tr>\n",
       "    <tr>\n",
       "      <th>3</th>\n",
       "      <td>58</td>\n",
       "      <td>Male</td>\n",
       "      <td>1.0</td>\n",
       "      <td>0.4</td>\n",
       "      <td>182</td>\n",
       "      <td>14</td>\n",
       "      <td>20</td>\n",
       "      <td>6.8</td>\n",
       "      <td>3.4</td>\n",
       "      <td>1.00</td>\n",
       "      <td>1</td>\n",
       "    </tr>\n",
       "    <tr>\n",
       "      <th>4</th>\n",
       "      <td>72</td>\n",
       "      <td>Male</td>\n",
       "      <td>3.9</td>\n",
       "      <td>2.0</td>\n",
       "      <td>195</td>\n",
       "      <td>27</td>\n",
       "      <td>59</td>\n",
       "      <td>7.3</td>\n",
       "      <td>2.4</td>\n",
       "      <td>0.40</td>\n",
       "      <td>1</td>\n",
       "    </tr>\n",
       "  </tbody>\n",
       "</table>\n",
       "</div>"
      ],
      "text/plain": [
       "   Age  Gender  Total_Bilirubin  Direct_Bilirubin  Alkaline_Phosphotase  \\\n",
       "0   65  Female              0.7               0.1                   187   \n",
       "1   62    Male             10.9               5.5                   699   \n",
       "2   62    Male              7.3               4.1                   490   \n",
       "3   58    Male              1.0               0.4                   182   \n",
       "4   72    Male              3.9               2.0                   195   \n",
       "\n",
       "   Alamine_Aminotransferase  Aspartate_Aminotransferase  Total_Protiens  \\\n",
       "0                        16                          18             6.8   \n",
       "1                        64                         100             7.5   \n",
       "2                        60                          68             7.0   \n",
       "3                        14                          20             6.8   \n",
       "4                        27                          59             7.3   \n",
       "\n",
       "   Albumin  Albumin_and_Globulin_Ratio  Dataset  \n",
       "0      3.3                        0.90        1  \n",
       "1      3.2                        0.74        1  \n",
       "2      3.3                        0.89        1  \n",
       "3      3.4                        1.00        1  \n",
       "4      2.4                        0.40        1  "
      ]
     },
     "execution_count": 6,
     "metadata": {},
     "output_type": "execute_result"
    }
   ],
   "source": [
    "df.head()"
   ]
  },
  {
   "cell_type": "code",
   "execution_count": 7,
   "metadata": {
    "colab": {
     "base_uri": "https://localhost:8080/"
    },
    "id": "X3xyJfuMKya_",
    "outputId": "f86ebd38-fcb5-429a-8d40-dbde08bf7eac"
   },
   "outputs": [
    {
     "data": {
      "text/plain": [
       "Age                           0\n",
       "Gender                        0\n",
       "Total_Bilirubin               0\n",
       "Direct_Bilirubin              0\n",
       "Alkaline_Phosphotase          0\n",
       "Alamine_Aminotransferase      0\n",
       "Aspartate_Aminotransferase    0\n",
       "Total_Protiens                0\n",
       "Albumin                       0\n",
       "Albumin_and_Globulin_Ratio    4\n",
       "Dataset                       0\n",
       "dtype: int64"
      ]
     },
     "execution_count": 7,
     "metadata": {},
     "output_type": "execute_result"
    }
   ],
   "source": [
    "#finding the null values\n",
    "df.isnull().sum()"
   ]
  },
  {
   "cell_type": "code",
   "execution_count": 8,
   "metadata": {
    "colab": {
     "base_uri": "https://localhost:8080/"
    },
    "id": "-Utzqdn_LeA4",
    "outputId": "5f1b8a45-5417-4f40-8590-616221de4a43"
   },
   "outputs": [
    {
     "data": {
      "text/plain": [
       "Male      441\n",
       "Female    142\n",
       "Name: Gender, dtype: int64"
      ]
     },
     "execution_count": 8,
     "metadata": {},
     "output_type": "execute_result"
    }
   ],
   "source": [
    "df['Gender'].value_counts()"
   ]
  },
  {
   "cell_type": "code",
   "execution_count": 9,
   "metadata": {
    "id": "ptvrOqKnL6Ln"
   },
   "outputs": [],
   "source": [
    "# Define the mapping of values\n",
    "gender_mapping = {'Male': 1, 'Female': 0}\n",
    "\n",
    "# Apply the mapping to the 'Gender' column\n",
    "df['Gender'] = df['Gender'].map(gender_mapping)"
   ]
  },
  {
   "cell_type": "code",
   "execution_count": 10,
   "metadata": {
    "colab": {
     "base_uri": "https://localhost:8080/"
    },
    "id": "odVSZgI5aaZU",
    "outputId": "e0c4ba85-714e-4468-b5cb-c330ba5f6d6e"
   },
   "outputs": [
    {
     "data": {
      "text/plain": [
       "1    441\n",
       "0    142\n",
       "Name: Gender, dtype: int64"
      ]
     },
     "execution_count": 10,
     "metadata": {},
     "output_type": "execute_result"
    }
   ],
   "source": [
    "df['Gender'].value_counts()"
   ]
  },
  {
   "cell_type": "code",
   "execution_count": 11,
   "metadata": {
    "colab": {
     "base_uri": "https://localhost:8080/"
    },
    "id": "m2REn31UbF5J",
    "outputId": "559800b7-233d-4f02-ed58-5bd810f997ef"
   },
   "outputs": [
    {
     "name": "stdout",
     "output_type": "stream",
     "text": [
      "------------------------------------------------------------------------------------------\n",
      "Age : [65 62 58 72 46 26 29 17 55 57 64 74 61 25 38 33 40 51 63 34 20 84 52 30\n",
      " 48 47 45 42 50 85 35 21 32 31 54 37 66 60 19 75 68 70 49 14 13 18 39 27\n",
      " 36 24 28 53 15 56 44 41  7 22  8  6  4 43 23 12 69 16 78 11 73 67 10 90]\n",
      "------------------------------------------------------------------------------------------\n",
      "Gender : [0 1]\n",
      "------------------------------------------------------------------------------------------\n",
      "Total_Bilirubin : [ 0.7 10.9  7.3  1.   3.9  1.8  0.9  0.6  2.7  1.1  1.6  2.2  2.9  6.8\n",
      "  1.9  4.1  6.2  4.   2.6  1.3 14.2  1.4  2.4 18.4  3.1  8.9  0.8  2.8\n",
      "  2.   5.7  8.6  5.8  5.2  3.8  6.6  0.5  5.3  3.2  1.2 12.7 15.9 18.\n",
      " 23.  22.7  1.7  3.  11.3  4.7  4.2  3.5  5.9  8.7 11.  11.5  4.5 75.\n",
      " 22.8 14.1 14.8 10.6  8.   1.5  2.1  6.3  2.3 27.2  2.5  3.6 30.5 16.4\n",
      " 14.5 18.5 23.2  3.7  3.3  7.1  6.7 22.6  7.5  5.   4.9  8.2  0.4  7.4\n",
      " 23.3  7.9  3.4 19.8 32.6 17.7 20.  26.3  4.4  9.4 30.8 19.6 15.8  5.5\n",
      " 20.2 27.7 11.1 10.2 42.8 15.2 16.6 17.3 22.5 16.7  7.7 15.6 12.1 25.\n",
      " 15. ]\n",
      "------------------------------------------------------------------------------------------\n",
      "Direct_Bilirubin : [ 0.1  5.5  4.1  0.4  2.   0.7  0.2  0.3  1.3  0.8  0.5  1.   3.   1.9\n",
      "  1.2  7.8  0.6  1.1  3.2  1.8  8.8  1.6  4.5  2.8  4.   2.7  2.4  1.5\n",
      "  2.3  3.6  6.2  7.   8.2 11.3 10.2  2.5  1.4  1.7  5.6  2.2  2.1  4.9\n",
      "  5.   0.9 12.6  7.6  9.   4.6 11.8 14.2  8.9  6.4  9.5  3.3 11.4  4.3\n",
      "  3.7  2.6  3.9  5.1 12.8 10.4 17.1 14.1  8.5 10.  12.1  2.9  5.2 18.3\n",
      "  7.2 11.7 10.8  6.1  4.2 19.7  7.7  8.4  6.  13.7]\n",
      "------------------------------------------------------------------------------------------\n",
      "Alkaline_Phosphotase : [ 187  699  490  182  195  208  154  202  290  210  260  310  214  145\n",
      "  183  342  165  293  610  482  542  231  194  289  240  128  188  190\n",
      "  156  410  374  263  275  168  160  630  415  150  230  176  206  170\n",
      "  161  253  198  272  175  367  158  259  470  215  239  186  205  171\n",
      "  162  518 1620  146  670  915   75  148  258  237  269  320  298  538\n",
      "  238  308  204  282  265  312  243  224  225  486  257  179  661 1580\n",
      " 1630  280  300  178  177  201  802  248 1896  512  199 1110  380  159\n",
      "  332  189  392  286  180  218  462  196  750 1050  599  292  962  950\n",
      "  200 1020  562  386  250  191  614  314  209 1124  664  142  169 1420\n",
      "  135  163  285  350  220  219  401  100  116  125  147  192  400  120\n",
      "  173  157 2110  360  316  498  480  680  152  859  901  335  245  505\n",
      "  228  185  247  348  140  358  110  235  460  262  144  123  575  155\n",
      "  315  174  340  234  430  588  527  574  106  216   63  302  211  458\n",
      "  375  405  650  115  621  256  418  271  130  558  326  331  172  105\n",
      "  102  149  580   92  719  554  555  509  690  862  592  450 1350  246\n",
      "  166 1750  236  212  279  181 1550 1100  686  309  164  270  137   90\n",
      "  167  197  226  352  103  850  276  193  805  151  349  365  305  127\n",
      "  254  108  268  138  466  227  395   97  406  114  153  768  232  390\n",
      "  356  388  143  251  134  612  515  560  500   98  184]\n",
      "------------------------------------------------------------------------------------------\n",
      "Alamine_Aminotransferase : [  16   64   60   14   27   19   22   53   51   31   61   91  168   15\n",
      "  232   17  116   52  875 1680   20   13   45   35   59  102   18   38\n",
      "  123   33   42   25  407   48   36 1630   39   21   80   86   26   24\n",
      "   37   40   62   55  166  189   95   12  194   58   28  119  412  404\n",
      "  220  126  190   97  308   32   29   11   63  181   88   74 2000 1350\n",
      " 1250  482  322  133   46   57   50   34   72   84   30   70  140   99\n",
      "   43  378  112   71   23   79  114  118  107  790  950   82   41   56\n",
      "   85  149  230   69   90   89  148   65  205   96  152  390   10  120\n",
      "   78  178  179   47  160   54  198   44  349  110  115   94  142  137\n",
      "  155  157  141  284  440   93   76   49  425  159  622  779  132  154\n",
      "  196   68  509   67  139  382   75  321  233  173  213  131]\n",
      "------------------------------------------------------------------------------------------\n",
      "Aspartate_Aminotransferase : [  18  100   68   20   59   14   12   11   19   58   56   30   41   53\n",
      "  441   23  245   28   34   66   55   45  731  850   21  111   44   57\n",
      "   80   36   77   73   50  110   47  576   15  178   27  960  406  150\n",
      "   61   54   24   16   43   97   86   88   95   26   17  397   29   22\n",
      "  127   79  142  152   31  350  794  400  202  630  950  161  405   92\n",
      "   39   10  116   98  285   64  149 2946 1600 1050  275  113   84   25\n",
      "   40   83   65 4929   90  140  139   87   38   42  233  138   82   35\n",
      "   32  187   62   74   67   37  602   63   99  103  145  247  114  104\n",
      "   51   60 1500   33  180  148   46   13   85  231  156   89  298   48\n",
      "  130   75  500  105  250  232  143  176   70   52   91  236  108  190\n",
      "   71  126  141  102   81  511   72  135  497  844  368  188  248  401\n",
      "   76  221  235  185  230  540  181  155  200  186  623  220   78  348\n",
      "  125  330  562  384  367  101  168  134   49]\n",
      "------------------------------------------------------------------------------------------\n",
      "Total_Protiens : [6.8 7.5 7.  7.3 7.6 6.7 7.4 5.9 8.1 5.8 5.5 6.4 4.3 6.  5.  7.2 3.9 5.2\n",
      " 4.9 5.6 6.9 6.2 5.1 6.1 6.5 5.7 6.6 6.3 8.  4.4 5.3 4.6 4.7 5.4 7.1 4.\n",
      " 3.7 2.7 3.  3.8 7.8 4.5 4.1 4.8 7.9 8.5 7.7 8.2 2.8 9.5 9.6 8.3 8.6 8.4\n",
      " 8.9 8.7 3.6 9.2]\n",
      "------------------------------------------------------------------------------------------\n",
      "Albumin : [3.3 3.2 3.4 2.4 4.4 3.5 3.6 4.1 2.7 3.  2.3 3.1 2.6 1.6 3.9 4.  1.9 1.5\n",
      " 2.9 2.  2.2 2.8 1.8 2.5 2.1 3.7 3.8 4.3 1.7 4.2 4.5 0.9 1.4 4.7 5.5 4.9\n",
      " 4.6 4.8 5.  1. ]\n",
      "------------------------------------------------------------------------------------------\n",
      "Albumin_and_Globulin_Ratio : [0.9  0.74 0.89 1.   0.4  1.3  1.1  1.2  0.8  0.6  0.87 0.7  0.92 0.55\n",
      " 0.5  1.85 0.95 1.4  1.18 0.61 1.34 1.39 1.6  1.58 1.25 0.78 0.76 1.55\n",
      " 0.71 0.62 0.67 0.75 1.16 1.5  1.66 0.96 1.38 0.52 0.47 0.93 0.48 0.58\n",
      " 0.69 1.27 1.12 1.06 0.53 1.03 0.68  nan 1.9  1.7  1.8  0.3  0.97 0.35\n",
      " 1.51 0.64 0.45 1.36 0.88 1.09 1.11 1.72 2.8  0.46 0.39 1.02 2.5  0.37]\n",
      "------------------------------------------------------------------------------------------\n",
      "Dataset : [1 2]\n"
     ]
    }
   ],
   "source": [
    "# unique values in the dataset\n",
    "\n",
    "for feature in df:\n",
    "    print(\"-\"*90)\n",
    "    print(f\"{feature} : {df[feature].unique()}\")"
   ]
  },
  {
   "cell_type": "code",
   "execution_count": 12,
   "metadata": {
    "colab": {
     "base_uri": "https://localhost:8080/",
     "height": 853
    },
    "id": "aCCA058daeKw",
    "outputId": "1aa53bb6-ca11-49a3-b393-88de844ff321"
   },
   "outputs": [
    {
     "data": {
      "image/png": "[encoded data removed]",
      "text/plain": [
       "<Figure size 1152x720 with 12 Axes>"
      ]
     },
     "metadata": {
      "needs_background": "light"
     },
     "output_type": "display_data"
    }
   ],
   "source": [
    "#Distribution of data in columns\n",
    "\n",
    "df.hist(figsize=(16, 10))\n",
    "plt.show()"
   ]
  },
  {
   "cell_type": "code",
   "execution_count": 13,
   "metadata": {
    "colab": {
     "base_uri": "https://localhost:8080/",
     "height": 320
    },
    "id": "IDVODpZ6aeN4",
    "outputId": "338aec05-c7d9-48de-9c71-414419bbd677"
   },
   "outputs": [
    {
     "data": {
      "text/html": [
       "<div>\n",
       "<style scoped>\n",
       "    .dataframe tbody tr th:only-of-type {\n",
       "        vertical-align: middle;\n",
       "    }\n",
       "\n",
       "    .dataframe tbody tr th {\n",
       "        vertical-align: top;\n",
       "    }\n",
       "\n",
       "    .dataframe thead th {\n",
       "        text-align: right;\n",
       "    }\n",
       "</style>\n",
       "<table border=\"1\" class=\"dataframe\">\n",
       "  <thead>\n",
       "    <tr style=\"text-align: right;\">\n",
       "      <th></th>\n",
       "      <th>Age</th>\n",
       "      <th>Gender</th>\n",
       "      <th>Total_Bilirubin</th>\n",
       "      <th>Direct_Bilirubin</th>\n",
       "      <th>Alkaline_Phosphotase</th>\n",
       "      <th>Alamine_Aminotransferase</th>\n",
       "      <th>Aspartate_Aminotransferase</th>\n",
       "      <th>Total_Protiens</th>\n",
       "      <th>Albumin</th>\n",
       "      <th>Albumin_and_Globulin_Ratio</th>\n",
       "      <th>Dataset</th>\n",
       "    </tr>\n",
       "  </thead>\n",
       "  <tbody>\n",
       "    <tr>\n",
       "      <th>count</th>\n",
       "      <td>583.000000</td>\n",
       "      <td>583.000000</td>\n",
       "      <td>583.000000</td>\n",
       "      <td>583.000000</td>\n",
       "      <td>583.000000</td>\n",
       "      <td>583.000000</td>\n",
       "      <td>583.000000</td>\n",
       "      <td>583.000000</td>\n",
       "      <td>583.000000</td>\n",
       "      <td>579.000000</td>\n",
       "      <td>583.000000</td>\n",
       "    </tr>\n",
       "    <tr>\n",
       "      <th>mean</th>\n",
       "      <td>44.746141</td>\n",
       "      <td>0.756432</td>\n",
       "      <td>3.298799</td>\n",
       "      <td>1.486106</td>\n",
       "      <td>290.576329</td>\n",
       "      <td>80.713551</td>\n",
       "      <td>109.910806</td>\n",
       "      <td>6.483190</td>\n",
       "      <td>3.141852</td>\n",
       "      <td>0.947064</td>\n",
       "      <td>1.286449</td>\n",
       "    </tr>\n",
       "    <tr>\n",
       "      <th>std</th>\n",
       "      <td>16.189833</td>\n",
       "      <td>0.429603</td>\n",
       "      <td>6.209522</td>\n",
       "      <td>2.808498</td>\n",
       "      <td>242.937989</td>\n",
       "      <td>182.620356</td>\n",
       "      <td>288.918529</td>\n",
       "      <td>1.085451</td>\n",
       "      <td>0.795519</td>\n",
       "      <td>0.319592</td>\n",
       "      <td>0.452490</td>\n",
       "    </tr>\n",
       "    <tr>\n",
       "      <th>min</th>\n",
       "      <td>4.000000</td>\n",
       "      <td>0.000000</td>\n",
       "      <td>0.400000</td>\n",
       "      <td>0.100000</td>\n",
       "      <td>63.000000</td>\n",
       "      <td>10.000000</td>\n",
       "      <td>10.000000</td>\n",
       "      <td>2.700000</td>\n",
       "      <td>0.900000</td>\n",
       "      <td>0.300000</td>\n",
       "      <td>1.000000</td>\n",
       "    </tr>\n",
       "    <tr>\n",
       "      <th>25%</th>\n",
       "      <td>33.000000</td>\n",
       "      <td>1.000000</td>\n",
       "      <td>0.800000</td>\n",
       "      <td>0.200000</td>\n",
       "      <td>175.500000</td>\n",
       "      <td>23.000000</td>\n",
       "      <td>25.000000</td>\n",
       "      <td>5.800000</td>\n",
       "      <td>2.600000</td>\n",
       "      <td>0.700000</td>\n",
       "      <td>1.000000</td>\n",
       "    </tr>\n",
       "    <tr>\n",
       "      <th>50%</th>\n",
       "      <td>45.000000</td>\n",
       "      <td>1.000000</td>\n",
       "      <td>1.000000</td>\n",
       "      <td>0.300000</td>\n",
       "      <td>208.000000</td>\n",
       "      <td>35.000000</td>\n",
       "      <td>42.000000</td>\n",
       "      <td>6.600000</td>\n",
       "      <td>3.100000</td>\n",
       "      <td>0.930000</td>\n",
       "      <td>1.000000</td>\n",
       "    </tr>\n",
       "    <tr>\n",
       "      <th>75%</th>\n",
       "      <td>58.000000</td>\n",
       "      <td>1.000000</td>\n",
       "      <td>2.600000</td>\n",
       "      <td>1.300000</td>\n",
       "      <td>298.000000</td>\n",
       "      <td>60.500000</td>\n",
       "      <td>87.000000</td>\n",
       "      <td>7.200000</td>\n",
       "      <td>3.800000</td>\n",
       "      <td>1.100000</td>\n",
       "      <td>2.000000</td>\n",
       "    </tr>\n",
       "    <tr>\n",
       "      <th>max</th>\n",
       "      <td>90.000000</td>\n",
       "      <td>1.000000</td>\n",
       "      <td>75.000000</td>\n",
       "      <td>19.700000</td>\n",
       "      <td>2110.000000</td>\n",
       "      <td>2000.000000</td>\n",
       "      <td>4929.000000</td>\n",
       "      <td>9.600000</td>\n",
       "      <td>5.500000</td>\n",
       "      <td>2.800000</td>\n",
       "      <td>2.000000</td>\n",
       "    </tr>\n",
       "  </tbody>\n",
       "</table>\n",
       "</div>"
      ],
      "text/plain": [
       "              Age      Gender  Total_Bilirubin  Direct_Bilirubin  \\\n",
       "count  583.000000  583.000000       583.000000        583.000000   \n",
       "mean    44.746141    0.756432         3.298799          1.486106   \n",
       "std     16.189833    0.429603         6.209522          2.808498   \n",
       "min      4.000000    0.000000         0.400000          0.100000   \n",
       "25%     33.000000    1.000000         0.800000          0.200000   \n",
       "50%     45.000000    1.000000         1.000000          0.300000   \n",
       "75%     58.000000    1.000000         2.600000          1.300000   \n",
       "max     90.000000    1.000000        75.000000         19.700000   \n",
       "\n",
       "       Alkaline_Phosphotase  Alamine_Aminotransferase  \\\n",
       "count            583.000000                583.000000   \n",
       "mean             290.576329                 80.713551   \n",
       "std              242.937989                182.620356   \n",
       "min               63.000000                 10.000000   \n",
       "25%              175.500000                 23.000000   \n",
       "50%              208.000000                 35.000000   \n",
       "75%              298.000000                 60.500000   \n",
       "max             2110.000000               2000.000000   \n",
       "\n",
       "       Aspartate_Aminotransferase  Total_Protiens     Albumin  \\\n",
       "count                  583.000000      583.000000  583.000000   \n",
       "mean                   109.910806        6.483190    3.141852   \n",
       "std                    288.918529        1.085451    0.795519   \n",
       "min                     10.000000        2.700000    0.900000   \n",
       "25%                     25.000000        5.800000    2.600000   \n",
       "50%                     42.000000        6.600000    3.100000   \n",
       "75%                     87.000000        7.200000    3.800000   \n",
       "max                   4929.000000        9.600000    5.500000   \n",
       "\n",
       "       Albumin_and_Globulin_Ratio     Dataset  \n",
       "count                  579.000000  583.000000  \n",
       "mean                     0.947064    1.286449  \n",
       "std                      0.319592    0.452490  \n",
       "min                      0.300000    1.000000  \n",
       "25%                      0.700000    1.000000  \n",
       "50%                      0.930000    1.000000  \n",
       "75%                      1.100000    2.000000  \n",
       "max                      2.800000    2.000000  "
      ]
     },
     "execution_count": 13,
     "metadata": {},
     "output_type": "execute_result"
    }
   ],
   "source": [
    "df.describe()"
   ]
  },
  {
   "cell_type": "code",
   "execution_count": 14,
   "metadata": {
    "colab": {
     "base_uri": "https://localhost:8080/",
     "height": 820
    },
    "id": "4McmY-koaeR_",
    "outputId": "1baef189-4a93-4494-f62b-95249d575ea3"
   },
   "outputs": [
    {
     "data": {
      "image/png": "[encoded data removed]",
      "text/plain": [
       "<Figure size 1296x576 with 2 Axes>"
      ]
     },
     "metadata": {
      "needs_background": "light"
     },
     "output_type": "display_data"
    }
   ],
   "source": [
    "# The correlation matrix measures the linear relationship between pairs of variables in the DataFrame.\n",
    "\n",
    "fig, ax = plt.subplots(figsize=(18, 8))\n",
    "\n",
    "# drawing the plot\n",
    "\n",
    "sns.heatmap(data=df.corr(),annot=True) # values of Pearson coefficient\n",
    "\n",
    "plt.show()"
   ]
  },
  {
   "cell_type": "code",
   "execution_count": 15,
   "metadata": {
    "colab": {
     "base_uri": "https://localhost:8080/"
    },
    "id": "nNq3q4f-dqb5",
    "outputId": "2901f493-b925-4b01-94b2-207b01c7044e"
   },
   "outputs": [
    {
     "name": "stdout",
     "output_type": "stream",
     "text": [
      "Dataset                       1.000000\n",
      "Direct_Bilirubin              0.246046\n",
      "Total_Bilirubin               0.220208\n",
      "Alkaline_Phosphotase          0.184866\n",
      "Alamine_Aminotransferase      0.163416\n",
      "Albumin_and_Globulin_Ratio    0.163131\n",
      "Albumin                       0.161388\n",
      "Aspartate_Aminotransferase    0.151934\n",
      "Age                           0.137351\n",
      "Gender                        0.082416\n",
      "Total_Protiens                0.035008\n",
      "Name: Dataset, dtype: float64\n"
     ]
    }
   ],
   "source": [
    "# correlation coefficients between the \"target\" variable and other variables\n",
    "print(df.corr()[\"Dataset\"].abs().sort_values(ascending=False))"
   ]
  },
  {
   "cell_type": "markdown",
   "metadata": {
    "id": "bLd_7kT2ujO9"
   },
   "source": [
    "\"Direct_Bilirubin\" and \"Total_Bilirubin\" have the highest positive correlations with the \"Dataset\" variable, while \"Total_Protiens\" has a relatively low positive correlation."
   ]
  },
  {
   "cell_type": "code",
   "execution_count": 16,
   "metadata": {
    "colab": {
     "base_uri": "https://localhost:8080/"
    },
    "id": "yNJudOtYfykC",
    "outputId": "09a76dc4-d9de-4dcc-d2e1-37fb08c7b6e0"
   },
   "outputs": [
    {
     "data": {
      "text/plain": [
       "1    416\n",
       "2    167\n",
       "Name: Dataset, dtype: int64"
      ]
     },
     "execution_count": 16,
     "metadata": {},
     "output_type": "execute_result"
    }
   ],
   "source": [
    "df['Dataset'].value_counts()"
   ]
  },
  {
   "cell_type": "code",
   "execution_count": 17,
   "metadata": {
    "id": "25LY5klzgwD5"
   },
   "outputs": [],
   "source": [
    "# Assuming 'df' is your DataFrame\n",
    "df['Dataset'] = df['Dataset'].replace(2, 0)"
   ]
  },
  {
   "cell_type": "markdown",
   "metadata": {
    "id": "GSZ8X0QzgZ7Q"
   },
   "source": [
    "The target variable whether or not a patient has a liver disease, with binary values (e.g., 1 for liver disease, 2 for no liver disease). we will map 0 for no liver disease."
   ]
  },
  {
   "cell_type": "code",
   "execution_count": 18,
   "metadata": {
    "colab": {
     "base_uri": "https://localhost:8080/"
    },
    "id": "2auH_hJPg3p7",
    "outputId": "da98ab9d-c9d4-404e-c1d8-8ac7ecbd04a6"
   },
   "outputs": [
    {
     "data": {
      "text/plain": [
       "1    416\n",
       "0    167\n",
       "Name: Dataset, dtype: int64"
      ]
     },
     "execution_count": 18,
     "metadata": {},
     "output_type": "execute_result"
    }
   ],
   "source": [
    "df['Dataset'].value_counts()"
   ]
  },
  {
   "cell_type": "code",
   "execution_count": 19,
   "metadata": {
    "colab": {
     "base_uri": "https://localhost:8080/",
     "height": 259
    },
    "id": "KBuuckfQhAbr",
    "outputId": "c75f4306-d6d3-44ff-964b-d25e5bddecd8"
   },
   "outputs": [
    {
     "data": {
      "text/plain": [
       "<AxesSubplot:xlabel='count', ylabel='Dataset'>"
      ]
     },
     "execution_count": 19,
     "metadata": {},
     "output_type": "execute_result"
    },
    {
     "data": {
      "image/png": "[encoded data removed]",
      "text/plain": [
       "<Figure size 720x144 with 1 Axes>"
      ]
     },
     "metadata": {
      "needs_background": "light"
     },
     "output_type": "display_data"
    }
   ],
   "source": [
    "column_name = 'Dataset'\n",
    "\n",
    "# Create the horizontal countplot\n",
    "plt.figure(figsize=(10, 2))\n",
    "\n",
    "sns.set(style=\"whitegrid\")\n",
    "sns.countplot(data=df, y=column_name)"
   ]
  },
  {
   "cell_type": "markdown",
   "metadata": {
    "id": "PgeKpjmghIzy"
   },
   "source": [
    "There is imbalance in the dataset, we have to balance it."
   ]
  },
  {
   "cell_type": "code",
   "execution_count": 20,
   "metadata": {
    "colab": {
     "base_uri": "https://localhost:8080/",
     "height": 226
    },
    "id": "8oacTZF-HsKU",
    "outputId": "b65821dc-39dc-4fc2-b56f-248952813b00"
   },
   "outputs": [
    {
     "data": {
      "text/html": [
       "<div>\n",
       "<style scoped>\n",
       "    .dataframe tbody tr th:only-of-type {\n",
       "        vertical-align: middle;\n",
       "    }\n",
       "\n",
       "    .dataframe tbody tr th {\n",
       "        vertical-align: top;\n",
       "    }\n",
       "\n",
       "    .dataframe thead th {\n",
       "        text-align: right;\n",
       "    }\n",
       "</style>\n",
       "<table border=\"1\" class=\"dataframe\">\n",
       "  <thead>\n",
       "    <tr style=\"text-align: right;\">\n",
       "      <th></th>\n",
       "      <th>Age</th>\n",
       "      <th>Gender</th>\n",
       "      <th>Total_Bilirubin</th>\n",
       "      <th>Direct_Bilirubin</th>\n",
       "      <th>Alkaline_Phosphotase</th>\n",
       "      <th>Alamine_Aminotransferase</th>\n",
       "      <th>Aspartate_Aminotransferase</th>\n",
       "      <th>Total_Protiens</th>\n",
       "      <th>Albumin</th>\n",
       "      <th>Albumin_and_Globulin_Ratio</th>\n",
       "    </tr>\n",
       "  </thead>\n",
       "  <tbody>\n",
       "    <tr>\n",
       "      <th>0</th>\n",
       "      <td>65</td>\n",
       "      <td>0</td>\n",
       "      <td>0.7</td>\n",
       "      <td>0.1</td>\n",
       "      <td>187</td>\n",
       "      <td>16</td>\n",
       "      <td>18</td>\n",
       "      <td>6.8</td>\n",
       "      <td>3.3</td>\n",
       "      <td>0.90</td>\n",
       "    </tr>\n",
       "    <tr>\n",
       "      <th>1</th>\n",
       "      <td>62</td>\n",
       "      <td>1</td>\n",
       "      <td>10.9</td>\n",
       "      <td>5.5</td>\n",
       "      <td>699</td>\n",
       "      <td>64</td>\n",
       "      <td>100</td>\n",
       "      <td>7.5</td>\n",
       "      <td>3.2</td>\n",
       "      <td>0.74</td>\n",
       "    </tr>\n",
       "    <tr>\n",
       "      <th>2</th>\n",
       "      <td>62</td>\n",
       "      <td>1</td>\n",
       "      <td>7.3</td>\n",
       "      <td>4.1</td>\n",
       "      <td>490</td>\n",
       "      <td>60</td>\n",
       "      <td>68</td>\n",
       "      <td>7.0</td>\n",
       "      <td>3.3</td>\n",
       "      <td>0.89</td>\n",
       "    </tr>\n",
       "    <tr>\n",
       "      <th>3</th>\n",
       "      <td>58</td>\n",
       "      <td>1</td>\n",
       "      <td>1.0</td>\n",
       "      <td>0.4</td>\n",
       "      <td>182</td>\n",
       "      <td>14</td>\n",
       "      <td>20</td>\n",
       "      <td>6.8</td>\n",
       "      <td>3.4</td>\n",
       "      <td>1.00</td>\n",
       "    </tr>\n",
       "    <tr>\n",
       "      <th>4</th>\n",
       "      <td>72</td>\n",
       "      <td>1</td>\n",
       "      <td>3.9</td>\n",
       "      <td>2.0</td>\n",
       "      <td>195</td>\n",
       "      <td>27</td>\n",
       "      <td>59</td>\n",
       "      <td>7.3</td>\n",
       "      <td>2.4</td>\n",
       "      <td>0.40</td>\n",
       "    </tr>\n",
       "  </tbody>\n",
       "</table>\n",
       "</div>"
      ],
      "text/plain": [
       "   Age  Gender  Total_Bilirubin  Direct_Bilirubin  Alkaline_Phosphotase  \\\n",
       "0   65       0              0.7               0.1                   187   \n",
       "1   62       1             10.9               5.5                   699   \n",
       "2   62       1              7.3               4.1                   490   \n",
       "3   58       1              1.0               0.4                   182   \n",
       "4   72       1              3.9               2.0                   195   \n",
       "\n",
       "   Alamine_Aminotransferase  Aspartate_Aminotransferase  Total_Protiens  \\\n",
       "0                        16                          18             6.8   \n",
       "1                        64                         100             7.5   \n",
       "2                        60                          68             7.0   \n",
       "3                        14                          20             6.8   \n",
       "4                        27                          59             7.3   \n",
       "\n",
       "   Albumin  Albumin_and_Globulin_Ratio  \n",
       "0      3.3                        0.90  \n",
       "1      3.2                        0.74  \n",
       "2      3.3                        0.89  \n",
       "3      3.4                        1.00  \n",
       "4      2.4                        0.40  "
      ]
     },
     "execution_count": 20,
     "metadata": {},
     "output_type": "execute_result"
    }
   ],
   "source": [
    "X= df.drop(\"Dataset\", axis=1)\n",
    "X.head()"
   ]
  },
  {
   "cell_type": "code",
   "execution_count": 21,
   "metadata": {
    "colab": {
     "base_uri": "https://localhost:8080/"
    },
    "id": "xAEIUFvLImH8",
    "outputId": "9a2d29fa-0f69-49d1-f191-ecbf98d8f832"
   },
   "outputs": [
    {
     "data": {
      "text/plain": [
       "0    1\n",
       "1    1\n",
       "2    1\n",
       "3    1\n",
       "4    1\n",
       "Name: Dataset, dtype: int64"
      ]
     },
     "execution_count": 21,
     "metadata": {},
     "output_type": "execute_result"
    }
   ],
   "source": [
    "y = df['Dataset']\n",
    "y.head()"
   ]
  },
  {
   "cell_type": "code",
   "execution_count": 22,
   "metadata": {
    "colab": {
     "base_uri": "https://localhost:8080/"
    },
    "id": "40ulaHHUI0Dl",
    "outputId": "783f00cf-d6c6-41b5-a1d6-911dee827df5"
   },
   "outputs": [
    {
     "data": {
      "text/plain": [
       "1    416\n",
       "0    167\n",
       "Name: Dataset, dtype: int64"
      ]
     },
     "execution_count": 22,
     "metadata": {},
     "output_type": "execute_result"
    }
   ],
   "source": [
    "y.value_counts()"
   ]
  },
  {
   "cell_type": "code",
   "execution_count": null,
   "metadata": {
    "id": "EEjesfcoKaWw"
   },
   "outputs": [],
   "source": []
  },
  {
   "cell_type": "code",
   "execution_count": 23,
   "metadata": {
    "colab": {
     "base_uri": "https://localhost:8080/"
    },
    "id": "ZxZO0wyzKPe7",
    "outputId": "268a21df-2d56-4de3-fee8-a3d535225d5b"
   },
   "outputs": [
    {
     "name": "stdout",
     "output_type": "stream",
     "text": [
      "Continuous Features:\n",
      "['Age', 'Total_Bilirubin', 'Direct_Bilirubin', 'Alkaline_Phosphotase', 'Alamine_Aminotransferase', 'Aspartate_Aminotransferase', 'Total_Protiens', 'Albumin', 'Albumin_and_Globulin_Ratio']\n",
      "\n",
      "Categorical Features:\n",
      "['Gender']\n"
     ]
    }
   ],
   "source": [
    "# Initialize lists to store continuous and categorical feature names\n",
    "continuous_features = []\n",
    "categorical_features = []\n",
    "\n",
    "# Set the threshold for the number of unique values to differentiate\n",
    "unique_value_threshold = 6\n",
    "\n",
    "# Loop through the columns and categorize them based on unique values\n",
    "for column in X.columns:\n",
    "    unique_values = X[column].nunique()\n",
    "    if unique_values < unique_value_threshold:\n",
    "        categorical_features.append(column)\n",
    "    else:\n",
    "        continuous_features.append(column)\n",
    "\n",
    "print(\"Continuous Features:\")\n",
    "print(continuous_features)\n",
    "\n",
    "print(\"\\nCategorical Features:\")\n",
    "print(categorical_features)\n"
   ]
  },
  {
   "cell_type": "code",
   "execution_count": 24,
   "metadata": {
    "id": "DRa8iQdBKsCe"
   },
   "outputs": [],
   "source": [
    "\n",
    "# Create a numerical pipeline for continuous features:\n",
    "num_pipeline = Pipeline(\n",
    "    steps=[\n",
    "        (\"imputer\", SimpleImputer(strategy=\"median\")),  # Impute missing values with median\n",
    "        (\"scaler\", StandardScaler())  # Scale features to have mean=0 and variance=1\n",
    "    ]\n",
    ")\n",
    "\n",
    "# Create a categorical pipeline for categorical features:\n",
    "cat_pipeline = Pipeline(\n",
    "    steps=[\n",
    "        (\"imputer\", SimpleImputer(strategy=\"most_frequent\"))  # Impute missing values with the most frequent value\n",
    "\n",
    "    ]\n",
    ")\n",
    "\n",
    "# Create a preprocessor using ColumnTransformer to handle both types of features:\n",
    "preprocessor = ColumnTransformer(\n",
    "    transformers=[\n",
    "        (\"num_pipeline\", num_pipeline, continuous_features),  # Apply num_pipeline to continuous features\n",
    "        (\"cat_pipelines\", cat_pipeline, categorical_features)  # Apply cat_pipeline to categorical features\n",
    "    ]\n",
    ")\n"
   ]
  },
  {
   "cell_type": "code",
   "execution_count": 25,
   "metadata": {
    "id": "tI8ea6F9SXA_"
   },
   "outputs": [],
   "source": [
    "X = preprocessor.fit_transform(X)"
   ]
  },
  {
   "cell_type": "code",
   "execution_count": 26,
   "metadata": {
    "id": "cJiSweAUI2DL"
   },
   "outputs": [],
   "source": [
    "from imblearn.combine import SMOTETomek\n",
    "\n",
    "# Initialize the SMOTETomek sampler\n",
    "smk = SMOTETomek()\n",
    "\n",
    "# Apply SMOTETomek to balance the dataset\n",
    "X_bal, y_bal = smk.fit_resample(X, y)\n"
   ]
  },
  {
   "cell_type": "code",
   "execution_count": 27,
   "metadata": {
    "colab": {
     "base_uri": "https://localhost:8080/"
    },
    "id": "CD2GljqHSm6v",
    "outputId": "29ac324a-836c-430e-eecd-63fdc8d24dc1"
   },
   "outputs": [
    {
     "name": "stdout",
     "output_type": "stream",
     "text": [
      "Balanced Value Counts:\n",
      "1    400\n",
      "0    400\n",
      "Name: Dataset, dtype: int64\n"
     ]
    }
   ],
   "source": [
    "# Check the balanced value counts after resampling\n",
    "balanced_value_counts = pd.Series(y_bal).value_counts()\n",
    "\n",
    "print(\"Balanced Value Counts:\")\n",
    "print(balanced_value_counts)"
   ]
  },
  {
   "cell_type": "code",
   "execution_count": 28,
   "metadata": {
    "colab": {
     "base_uri": "https://localhost:8080/"
    },
    "id": "P5mQYk6ASvA9",
    "outputId": "39fa0481-ee4b-4f5b-c72e-6a1a4d90f2b8"
   },
   "outputs": [
    {
     "data": {
      "text/plain": [
       "(800, 10)"
      ]
     },
     "execution_count": 28,
     "metadata": {},
     "output_type": "execute_result"
    }
   ],
   "source": [
    "X_bal.shape"
   ]
  },
  {
   "cell_type": "code",
   "execution_count": 29,
   "metadata": {
    "id": "RVS9Z3IGS_oE"
   },
   "outputs": [],
   "source": [
    "### random state train test split will be same with all people using random_state=1\n",
    "\n",
    "X_train, X_test, y_train, y_test = train_test_split(X_bal, y_bal, test_size=0.25, random_state=1)"
   ]
  },
  {
   "cell_type": "code",
   "execution_count": 30,
   "metadata": {
    "colab": {
     "base_uri": "https://localhost:8080/"
    },
    "id": "UJIJ4rP4TXvu",
    "outputId": "a7ab0106-6db7-4501-9df3-cea578666a0d"
   },
   "outputs": [
    {
     "name": "stdout",
     "output_type": "stream",
     "text": [
      "X_train.shape=(600, 10)\n",
      "y_train.shape=(600,)\n",
      "X_test.shape=(200, 10)\n",
      "y_test.shape=(200,)\n"
     ]
    }
   ],
   "source": [
    "print(f\"{X_train.shape=}\")\n",
    "print(f\"{y_train.shape=}\")\n",
    "\n",
    "print(f\"{X_test.shape=}\")\n",
    "print(f\"{y_test.shape=}\")"
   ]
  },
  {
   "cell_type": "code",
   "execution_count": 31,
   "metadata": {
    "id": "qOe7aAYpTbke"
   },
   "outputs": [],
   "source": [
    "### Creating function that will evaluate model\n",
    "def model_evaluator(actual_val, pred_val):\n",
    "    \"\"\"\n",
    "    The function takes actual value and predicted value as argument\n",
    "    and returns Accuracy, Precision, Recall, F-1 Score rounded to\n",
    "    3 decimal places.\n",
    "    \"\"\"\n",
    "    acc=round(accuracy_score(actual_val, pred_val),5)\n",
    "    prec=round(precision_score(actual_val, pred_val),5)\n",
    "    rec=round(recall_score(actual_val, pred_val),5)\n",
    "    f1=round(2*prec*rec/(prec+rec),5)\n",
    "    roc_auc=round(roc_auc_score(actual_val, pred_val),5)\n",
    "    return acc, prec, rec, f1, roc_auc\n",
    "\n",
    "### creating dictionary containing model objects for different algorithmn\n",
    "models={\n",
    "    \"Logistic Regression\":LogisticRegression(),\n",
    "    \"Support Vector Classifier\":SVC(),\n",
    "    \"Decision Tree Classifier\":DecisionTreeClassifier(),\n",
    "    \"Random Forest Classifier\":RandomForestClassifier(),\n",
    "    \"Bagging Classifier\": BaggingClassifier(base_estimator=LogisticRegression()),\n",
    "    \"Extra Tree Classifier\": ExtraTreesClassifier(),\n",
    "    \"AdaBoost Classifier\": AdaBoostClassifier(),\n",
    "    \"GradientBoost Classifier\": GradientBoostingClassifier(),\n",
    "    \"XGBoost Classifier\": XGBClassifier()\n",
    "}\n",
    "\n",
    "\n",
    "\n",
    "### Creating function for model training\n",
    "def model_trainer(model, X_train_data, y_train_data, X_test_data):\n",
    "    \"\"\"\n",
    "    This function takes model object, X train data, y train data, and\n",
    "    X test data as argument, trains model and gives prediction for train data\n",
    "    and prediction for test data.\n",
    "    \"\"\"\n",
    "    model.fit(X_train_data, y_train_data)\n",
    "    y_train_pred=model.predict(X_train_data)\n",
    "    pred_val=model.predict(X_test_data)\n",
    "    return y_train_pred, pred_val"
   ]
  },
  {
   "cell_type": "code",
   "execution_count": 32,
   "metadata": {
    "colab": {
     "base_uri": "https://localhost:8080/"
    },
    "id": "bad9XYD-TeA3",
    "outputId": "4a435627-6dbe-4989-9116-ed939cc30929"
   },
   "outputs": [
    {
     "name": "stdout",
     "output_type": "stream",
     "text": [
      "Logistic Regression Model\n",
      "\n",
      "Model Performance for training dataset\n",
      "Accuracy score: 0.70833\n",
      "Precision Score: 0.79167\n",
      "Recall Score: 0.60317\n",
      "f1 Score: 0.68468\n",
      "Roc_Auc Score: 0.71387\n",
      "--------------------------------------------------\n",
      "Model Performance for Test dataset\n",
      "Accuracy score: 0.755\n",
      "Precision Score: 0.77273\n",
      "Recall Score: 0.6\n",
      "f1 Score: 0.6755\n",
      "Roc_Auc Score: 0.73478\n",
      "**************************************************\n",
      "\n",
      "\n",
      "Support Vector Classifier Model\n",
      "\n",
      "Model Performance for training dataset\n",
      "Accuracy score: 0.73167\n",
      "Precision Score: 0.85648\n",
      "Recall Score: 0.5873\n",
      "f1 Score: 0.6968\n",
      "Roc_Auc Score: 0.73926\n",
      "--------------------------------------------------\n",
      "Model Performance for Test dataset\n",
      "Accuracy score: 0.775\n",
      "Precision Score: 0.84483\n",
      "Recall Score: 0.57647\n",
      "f1 Score: 0.68532\n",
      "Roc_Auc Score: 0.7491\n",
      "**************************************************\n",
      "\n",
      "\n",
      "Decision Tree Classifier Model\n",
      "\n",
      "Model Performance for training dataset\n",
      "Accuracy score: 1.0\n",
      "Precision Score: 1.0\n",
      "Recall Score: 1.0\n",
      "f1 Score: 1.0\n",
      "Roc_Auc Score: 1.0\n",
      "--------------------------------------------------\n",
      "Model Performance for Test dataset\n",
      "Accuracy score: 0.68\n",
      "Precision Score: 0.61538\n",
      "Recall Score: 0.65882\n",
      "f1 Score: 0.63636\n",
      "Roc_Auc Score: 0.67724\n",
      "**************************************************\n",
      "\n",
      "\n",
      "Random Forest Classifier Model\n",
      "\n",
      "Model Performance for training dataset\n",
      "Accuracy score: 1.0\n",
      "Precision Score: 1.0\n",
      "Recall Score: 1.0\n",
      "f1 Score: 1.0\n",
      "Roc_Auc Score: 1.0\n",
      "--------------------------------------------------\n",
      "Model Performance for Test dataset\n",
      "Accuracy score: 0.81\n",
      "Precision Score: 0.77647\n",
      "Recall Score: 0.77647\n",
      "f1 Score: 0.77647\n",
      "Roc_Auc Score: 0.80563\n",
      "**************************************************\n",
      "\n",
      "\n",
      "Bagging Classifier Model\n",
      "\n",
      "Model Performance for training dataset\n",
      "Accuracy score: 0.71167\n",
      "Precision Score: 0.80085\n",
      "Recall Score: 0.6\n",
      "f1 Score: 0.68603\n",
      "Roc_Auc Score: 0.71754\n",
      "--------------------------------------------------\n",
      "Model Performance for Test dataset\n",
      "Accuracy score: 0.755\n",
      "Precision Score: 0.76471\n",
      "Recall Score: 0.61176\n",
      "f1 Score: 0.67974\n",
      "Roc_Auc Score: 0.73632\n",
      "**************************************************\n",
      "\n",
      "\n",
      "Extra Tree Classifier Model\n",
      "\n",
      "Model Performance for training dataset\n",
      "Accuracy score: 1.0\n",
      "Precision Score: 1.0\n",
      "Recall Score: 1.0\n",
      "f1 Score: 1.0\n",
      "Roc_Auc Score: 1.0\n",
      "--------------------------------------------------\n",
      "Model Performance for Test dataset\n",
      "Accuracy score: 0.85\n",
      "Precision Score: 0.87671\n",
      "Recall Score: 0.75294\n",
      "f1 Score: 0.81012\n",
      "Roc_Auc Score: 0.83734\n",
      "**************************************************\n",
      "\n",
      "\n",
      "AdaBoost Classifier Model\n",
      "\n",
      "Model Performance for training dataset\n",
      "Accuracy score: 0.825\n",
      "Precision Score: 0.85714\n",
      "Recall Score: 0.8\n",
      "f1 Score: 0.82758\n",
      "Roc_Auc Score: 0.82632\n",
      "--------------------------------------------------\n",
      "Model Performance for Test dataset\n",
      "Accuracy score: 0.76\n",
      "Precision Score: 0.72289\n",
      "Recall Score: 0.70588\n",
      "f1 Score: 0.71428\n",
      "Roc_Auc Score: 0.75294\n",
      "**************************************************\n",
      "\n",
      "\n",
      "GradientBoost Classifier Model\n",
      "\n",
      "Model Performance for training dataset\n",
      "Accuracy score: 0.94333\n",
      "Precision Score: 0.97627\n",
      "Recall Score: 0.91429\n",
      "f1 Score: 0.94426\n",
      "Roc_Auc Score: 0.94486\n",
      "--------------------------------------------------\n",
      "Model Performance for Test dataset\n",
      "Accuracy score: 0.78\n",
      "Precision Score: 0.74699\n",
      "Recall Score: 0.72941\n",
      "f1 Score: 0.7381\n",
      "Roc_Auc Score: 0.7734\n",
      "**************************************************\n",
      "\n",
      "\n",
      "XGBoost Classifier Model\n",
      "\n",
      "Model Performance for training dataset\n",
      "Accuracy score: 1.0\n",
      "Precision Score: 1.0\n",
      "Recall Score: 1.0\n",
      "f1 Score: 1.0\n",
      "Roc_Auc Score: 1.0\n",
      "--------------------------------------------------\n",
      "Model Performance for Test dataset\n",
      "Accuracy score: 0.8\n",
      "Precision Score: 0.77108\n",
      "Recall Score: 0.75294\n",
      "f1 Score: 0.7619\n",
      "Roc_Auc Score: 0.79386\n",
      "**************************************************\n",
      "\n",
      "\n"
     ]
    }
   ],
   "source": [
    "### Creating empty list to store model names\n",
    "model_list=[]\n",
    "### creating empty list to store accuracy score for each model\n",
    "acc_score_list=[]\n",
    "### creating empty list for storing precision score\n",
    "prec_score_list=[]\n",
    "### creating list to store recall score\n",
    "recall_list=[]\n",
    "### creating list to store f1_score score\n",
    "f1_score_list=[]\n",
    "### creating list to store roc_auc score\n",
    "roc_auc_list=[]\n",
    "\n",
    "\n",
    "### Training all models and getting their performance and storing it in empty list\n",
    "for num in range(len(list(models))):\n",
    "    ### selecting model\n",
    "    model=list(models.values())[num]\n",
    "\n",
    "    ### getting training data prediction and test data prediction\n",
    "    y_pred, pred_val=model_trainer(model,X_train, y_train, X_test)\n",
    "\n",
    "    ### Getting model performance parameters for training data\n",
    "    acc_score, prec_score, rec_score, f1_score, roc_auc=model_evaluator(y_train,y_pred )\n",
    "    print(\"{} Model\\n\".format(list(models.keys())[num]))\n",
    "    print(\"Model Performance for training dataset\")\n",
    "    print(\"Accuracy score: {}\\nPrecision Score: {}\\nRecall Score: {}\\nf1 Score: {}\\nRoc_Auc Score: {}\".format(acc_score,prec_score, rec_score, f1_score, roc_auc))\n",
    "    print(\"-\"*50)\n",
    "\n",
    "    ### Getting model performance parameters for test data\n",
    "    acc_score, prec_score, rec_score, f1_score, roc_auc=model_evaluator(y_test,pred_val)\n",
    "    print(\"Model Performance for Test dataset\")\n",
    "    print(\"Accuracy score: {}\\nPrecision Score: {}\\nRecall Score: {}\\nf1 Score: {}\\nRoc_Auc Score: {}\".format(acc_score,prec_score, rec_score, f1_score, roc_auc))\n",
    "\n",
    "    ### Appending model name and Performance score in seperate list so that models can be sorted in terms of performance\n",
    "    model_list.append(list(models.keys())[num])\n",
    "    acc_score_list.append(acc_score)\n",
    "    prec_score_list.append(prec_score)\n",
    "    recall_list.append(rec_score)\n",
    "    f1_score_list.append(f1_score)\n",
    "    roc_auc_list.append(roc_auc)\n",
    "    print(\"*\"*50)\n",
    "    print(\"\\n\")"
   ]
  },
  {
   "cell_type": "code",
   "execution_count": 33,
   "metadata": {
    "colab": {
     "base_uri": "https://localhost:8080/",
     "height": 331
    },
    "id": "D9gcYIFAi3rR",
    "outputId": "2ae392e0-9407-44c2-9a65-efcfa706d796"
   },
   "outputs": [
    {
     "data": {
      "text/html": [
       "<div>\n",
       "<style scoped>\n",
       "    .dataframe tbody tr th:only-of-type {\n",
       "        vertical-align: middle;\n",
       "    }\n",
       "\n",
       "    .dataframe tbody tr th {\n",
       "        vertical-align: top;\n",
       "    }\n",
       "\n",
       "    .dataframe thead th {\n",
       "        text-align: right;\n",
       "    }\n",
       "</style>\n",
       "<table border=\"1\" class=\"dataframe\">\n",
       "  <thead>\n",
       "    <tr style=\"text-align: right;\">\n",
       "      <th></th>\n",
       "      <th>Model</th>\n",
       "      <th>Accuracy</th>\n",
       "      <th>Precision</th>\n",
       "      <th>Recall</th>\n",
       "      <th>F1 Score</th>\n",
       "      <th>Roc_Auc Score</th>\n",
       "    </tr>\n",
       "  </thead>\n",
       "  <tbody>\n",
       "    <tr>\n",
       "      <th>0</th>\n",
       "      <td>Random Forest Classifier</td>\n",
       "      <td>0.810</td>\n",
       "      <td>0.77647</td>\n",
       "      <td>0.77647</td>\n",
       "      <td>0.77647</td>\n",
       "      <td>0.80563</td>\n",
       "    </tr>\n",
       "    <tr>\n",
       "      <th>1</th>\n",
       "      <td>Extra Tree Classifier</td>\n",
       "      <td>0.850</td>\n",
       "      <td>0.87671</td>\n",
       "      <td>0.75294</td>\n",
       "      <td>0.81012</td>\n",
       "      <td>0.83734</td>\n",
       "    </tr>\n",
       "    <tr>\n",
       "      <th>2</th>\n",
       "      <td>XGBoost Classifier</td>\n",
       "      <td>0.800</td>\n",
       "      <td>0.77108</td>\n",
       "      <td>0.75294</td>\n",
       "      <td>0.76190</td>\n",
       "      <td>0.79386</td>\n",
       "    </tr>\n",
       "    <tr>\n",
       "      <th>3</th>\n",
       "      <td>GradientBoost Classifier</td>\n",
       "      <td>0.780</td>\n",
       "      <td>0.74699</td>\n",
       "      <td>0.72941</td>\n",
       "      <td>0.73810</td>\n",
       "      <td>0.77340</td>\n",
       "    </tr>\n",
       "    <tr>\n",
       "      <th>4</th>\n",
       "      <td>AdaBoost Classifier</td>\n",
       "      <td>0.760</td>\n",
       "      <td>0.72289</td>\n",
       "      <td>0.70588</td>\n",
       "      <td>0.71428</td>\n",
       "      <td>0.75294</td>\n",
       "    </tr>\n",
       "    <tr>\n",
       "      <th>5</th>\n",
       "      <td>Decision Tree Classifier</td>\n",
       "      <td>0.680</td>\n",
       "      <td>0.61538</td>\n",
       "      <td>0.65882</td>\n",
       "      <td>0.63636</td>\n",
       "      <td>0.67724</td>\n",
       "    </tr>\n",
       "    <tr>\n",
       "      <th>6</th>\n",
       "      <td>Bagging Classifier</td>\n",
       "      <td>0.755</td>\n",
       "      <td>0.76471</td>\n",
       "      <td>0.61176</td>\n",
       "      <td>0.67974</td>\n",
       "      <td>0.73632</td>\n",
       "    </tr>\n",
       "    <tr>\n",
       "      <th>7</th>\n",
       "      <td>Logistic Regression</td>\n",
       "      <td>0.755</td>\n",
       "      <td>0.77273</td>\n",
       "      <td>0.60000</td>\n",
       "      <td>0.67550</td>\n",
       "      <td>0.73478</td>\n",
       "    </tr>\n",
       "    <tr>\n",
       "      <th>8</th>\n",
       "      <td>Support Vector Classifier</td>\n",
       "      <td>0.775</td>\n",
       "      <td>0.84483</td>\n",
       "      <td>0.57647</td>\n",
       "      <td>0.68532</td>\n",
       "      <td>0.74910</td>\n",
       "    </tr>\n",
       "  </tbody>\n",
       "</table>\n",
       "</div>"
      ],
      "text/plain": [
       "                       Model  Accuracy  Precision   Recall  F1 Score  \\\n",
       "0   Random Forest Classifier     0.810    0.77647  0.77647   0.77647   \n",
       "1      Extra Tree Classifier     0.850    0.87671  0.75294   0.81012   \n",
       "2         XGBoost Classifier     0.800    0.77108  0.75294   0.76190   \n",
       "3   GradientBoost Classifier     0.780    0.74699  0.72941   0.73810   \n",
       "4        AdaBoost Classifier     0.760    0.72289  0.70588   0.71428   \n",
       "5   Decision Tree Classifier     0.680    0.61538  0.65882   0.63636   \n",
       "6         Bagging Classifier     0.755    0.76471  0.61176   0.67974   \n",
       "7        Logistic Regression     0.755    0.77273  0.60000   0.67550   \n",
       "8  Support Vector Classifier     0.775    0.84483  0.57647   0.68532   \n",
       "\n",
       "   Roc_Auc Score  \n",
       "0        0.80563  \n",
       "1        0.83734  \n",
       "2        0.79386  \n",
       "3        0.77340  \n",
       "4        0.75294  \n",
       "5        0.67724  \n",
       "6        0.73632  \n",
       "7        0.73478  \n",
       "8        0.74910  "
      ]
     },
     "execution_count": 33,
     "metadata": {},
     "output_type": "execute_result"
    }
   ],
   "source": [
    "### Tabulating model performance in dataframe\n",
    "### Sorting the model based on Recall as this is a health related problem statement\n",
    "### So our main objective is to reduce False Negatives which may lead to serious medical complications.\n",
    "### False Negative => The person has cancer but model prediction is Negative(No Cancer).\n",
    "model_perf=pd.DataFrame(list(zip(model_list, acc_score_list,prec_score_list, recall_list,f1_score_list, roc_auc_list)), columns=['Model', 'Accuracy', 'Precision', 'Recall', 'F1 Score', 'Roc_Auc Score']).sort_values(by=['Recall'], ascending=False,).reset_index()\n",
    "model_perf.drop('index', axis=1, inplace=True)\n",
    "model_perf"
   ]
  },
  {
   "cell_type": "markdown",
   "metadata": {
    "id": "9JUzrDdkRLXK"
   },
   "source": [
    "# Hyperparameter Tuning DecisionTreeClassifier"
   ]
  },
  {
   "cell_type": "code",
   "execution_count": 34,
   "metadata": {},
   "outputs": [
    {
     "name": "stdout",
     "output_type": "stream",
     "text": [
      "Training Data Metrics:\n",
      "Accuracy: 1.00000\n",
      "Precision: 1.00000\n",
      "Recall: 1.00000\n",
      "F1 Score: 1.00000\n",
      "ROC AUC: 1.00000\n",
      "--------------------------------------------------\n",
      "Test Data Metrics:\n",
      "Accuracy: 0.72500\n",
      "Precision: 0.67442\n",
      "Recall: 0.68235\n",
      "F1 Score: 0.67836\n",
      "ROC AUC: 0.71944\n"
     ]
    }
   ],
   "source": [
    "from sklearn.tree import DecisionTreeClassifier\n",
    "\n",
    "# Create a Decision Tree classifier with hyperparameters\n",
    "decision_tree_model = DecisionTreeClassifier(\n",
    "    criterion='gini',          # The function to measure the quality of a split\n",
    "    splitter='best',           # The strategy used to choose the split at each node\n",
    "    max_depth=None,            # Maximum depth of the tree\n",
    "    min_samples_split=2,       # Minimum number of samples required to split an internal node\n",
    "    min_samples_leaf=1,        # Minimum number of samples required to be in a leaf node\n",
    "    max_features=None,         # The number of features to consider when looking for the best split\n",
    "    random_state=None,         # Seed for the random number generator\n",
    "    class_weight=None,         # Weights associated with classes\n",
    "    min_impurity_decrease=0.0  # A node will split if this split induces a decrease of the impurity greater than or equal to this value\n",
    ")\n",
    "\n",
    "\n",
    "# Fit the model to your training data\n",
    "decision_tree_model.fit(X_train, y_train)\n",
    "\n",
    "# After training, you can use the model for predictions\n",
    "y_train_pred = decision_tree_model.predict(X_train)  # Predictions on the training set\n",
    "y_test_pred = decision_tree_model.predict(X_test)    # Predictions on the test set\n",
    "\n",
    "from sklearn.metrics import accuracy_score, precision_score, recall_score, f1_score, roc_auc_score\n",
    "\n",
    "# Evaluate the model on the training data\n",
    "acc_train = accuracy_score(y_train, y_train_pred)\n",
    "prec_train = precision_score(y_train, y_train_pred)\n",
    "rec_train = recall_score(y_train, y_train_pred)\n",
    "f1_train = f1_score(y_train, y_train_pred)\n",
    "roc_auc_train = roc_auc_score(y_train, y_train_pred)\n",
    "\n",
    "# Evaluate the model on the test data\n",
    "acc_test = accuracy_score(y_test, y_test_pred)\n",
    "prec_test = precision_score(y_test, y_test_pred)\n",
    "rec_test = recall_score(y_test, y_test_pred)\n",
    "f1_test = f1_score(y_test, y_test_pred)\n",
    "roc_auc_test = roc_auc_score(y_test, y_test_pred)\n",
    "\n",
    "# Print the evaluation metrics for the training dataset\n",
    "print(\"Training Data Metrics:\")\n",
    "print(\"Accuracy: {:.5f}\".format(acc_train))\n",
    "print(\"Precision: {:.5f}\".format(prec_train))\n",
    "print(\"Recall: {:.5f}\".format(rec_train))\n",
    "print(\"F1 Score: {:.5f}\".format(f1_train))\n",
    "print(\"ROC AUC: {:.5f}\".format(roc_auc_train))\n",
    "print(\"-\" * 50)\n",
    "\n",
    "# Print the evaluation metrics for the test dataset\n",
    "print(\"Test Data Metrics:\")\n",
    "print(\"Accuracy: {:.5f}\".format(acc_test))\n",
    "print(\"Precision: {:.5f}\".format(prec_test))\n",
    "print(\"Recall: {:.5f}\".format(rec_test))\n",
    "print(\"F1 Score: {:.5f}\".format(f1_test))\n",
    "print(\"ROC AUC: {:.5f}\".format(roc_auc_test))\n"
   ]
  },
  {
   "cell_type": "markdown",
   "metadata": {},
   "source": [
    "# Hyper parameters for Xgboost classifier"
   ]
  },
  {
   "cell_type": "code",
   "execution_count": 35,
   "metadata": {},
   "outputs": [
    {
     "name": "stdout",
     "output_type": "stream",
     "text": [
      "Training Data Metrics:\n",
      "Accuracy: 1.00000\n",
      "Precision: 1.00000\n",
      "Recall: 1.00000\n",
      "F1 Score: 1.00000\n",
      "ROC AUC: 1.00000\n",
      "--------------------------------------------------\n",
      "Test Data Metrics:\n",
      "Accuracy: 0.80500\n",
      "Precision: 0.78750\n",
      "Recall: 0.74118\n",
      "F1 Score: 0.76364\n",
      "ROC AUC: 0.79668\n",
      "--------------------------------------------------\n"
     ]
    }
   ],
   "source": [
    "from xgboost import XGBClassifier\n",
    "\n",
    "\n",
    "# Define hyperparameters for the XGBoost classifier\n",
    "params = {\n",
    "    'n_estimators': 200,          # Number of boosting rounds (trees) to build\n",
    "    'learning_rate': 0.1,        # Step size shrinkage to prevent overfitting\n",
    "    'max_depth': 4,              # Maximum depth of each tree, controls complexity\n",
    "    'min_child_weight': 1,       # Minimum sum of instance weight needed in a child node, controls overfitting\n",
    "    'subsample': 0.8,            # Fraction of samples used for fitting trees, introduces randomness\n",
    "    'colsample_bytree': 0.8,     # Fraction of features used for building each tree, introduces feature randomness\n",
    "    'gamma': 0,                  # Minimum loss reduction required for further partition on a leaf node, controls tree growth\n",
    "    'reg_alpha': 0,              # L1 regularization term on weights, adds penalty to absolute values\n",
    "    'reg_lambda': 0.1,           # L2 regularization term on weights, adds penalty to square of weights\n",
    "    'scale_pos_weight': 1        # Controls balance of positive and negative weights, useful for imbalanced classes\n",
    "}\n",
    "\n",
    "\n",
    "# Create the XGBoost classifier with specified hyperparameters\n",
    "xgb_model = XGBClassifier(**params)\n",
    "\n",
    "# Fit the model to your training data\n",
    "xgb_model.fit(X_train, y_train)\n",
    "\n",
    "\n",
    "# Make predictions on the training data and test data\n",
    "y_train_pred = xgb_model.predict(X_train)\n",
    "# Evaluate the best model on your test data\n",
    "y_test_pred = xgb_model.predict(X_test)\n",
    "\n",
    "\n",
    "\n",
    "# Evaluate the model's performance on both training and test data\n",
    "def evaluate_model(y_true, y_pred, label):\n",
    "    acc = accuracy_score(y_true, y_pred)\n",
    "    prec = precision_score(y_true, y_pred)\n",
    "    rec = recall_score(y_true, y_pred)\n",
    "    f1 = f1_score(y_true, y_pred)\n",
    "    roc_auc = roc_auc_score(y_true, y_pred)\n",
    "\n",
    "    print(f\"{label} Metrics:\")\n",
    "    print(f\"Accuracy: {acc:.5f}\")\n",
    "    print(f\"Precision: {prec:.5f}\")\n",
    "    print(f\"Recall: {rec:.5f}\")\n",
    "    print(f\"F1 Score: {f1:.5f}\")\n",
    "    print(f\"ROC AUC: {roc_auc:.5f}\")\n",
    "    print(\"-\" * 50)\n",
    "\n",
    "# Evaluate the model on training data\n",
    "evaluate_model(y_train, y_train_pred, \"Training Data\")\n",
    "\n",
    "# Evaluate the model on test data\n",
    "evaluate_model(y_test, y_test_pred, \"Test Data\")\n"
   ]
  },
  {
   "cell_type": "markdown",
   "metadata": {},
   "source": [
    "# Hyperparameters for Extra tree classifier"
   ]
  },
  {
   "cell_type": "code",
   "execution_count": 36,
   "metadata": {
    "colab": {
     "base_uri": "https://localhost:8080/"
    },
    "id": "kzprVJi9nxVX",
    "outputId": "66eab2b6-ccff-480e-b98a-463b40d214b2"
   },
   "outputs": [
    {
     "name": "stdout",
     "output_type": "stream",
     "text": [
      "Training Data Metrics:\n",
      "Accuracy: 1.00000\n",
      "Precision: 1.00000\n",
      "Recall: 1.00000\n",
      "F1 Score: 1.00000\n",
      "ROC AUC: 1.00000\n",
      "--------------------------------------------------\n",
      "Test Data Metrics:\n",
      "Accuracy: 0.85000\n",
      "Precision: 0.87671\n",
      "Recall: 0.75294\n",
      "F1 Score: 0.81013\n",
      "ROC AUC: 0.83734\n"
     ]
    }
   ],
   "source": [
    "from sklearn.ensemble import ExtraTreesClassifier\n",
    "\n",
    "extra_trees_hyperparameters = {\n",
    "    'n_estimators': 100,         # Number of trees\n",
    "    'criterion': 'gini',        # Split criterion (or 'entropy')\n",
    "    'max_depth': None,          # Maximum depth of trees\n",
    "    'min_samples_split': 2,     # Minimum samples required to split\n",
    "    'min_samples_leaf': 1,      # Minimum samples required in a leaf\n",
    "    'max_features': 'auto',     # Number of features to consider\n",
    "    'random_state': 42          # Random seed for reproducibility\n",
    "}\n",
    "\n",
    "# Create the Extra Trees Classifier with the specified hyperparameters\n",
    "extra_trees_model = ExtraTreesClassifier(**extra_trees_hyperparameters)\n",
    "\n",
    "# Train the Random Forest Classifier on your training data\n",
    "extra_trees_model.fit(X_train, y_train)\n",
    "\n",
    "# After training, you can use the model for predictions\n",
    "y_train_pred = extra_trees_model.predict(X_train)  # Predictions on the training set\n",
    "y_test_pred = extra_trees_model.predict(X_test)    # Predictions on the test set\n",
    "\n",
    "from sklearn.metrics import accuracy_score, precision_score, recall_score, f1_score, roc_auc_score\n",
    "\n",
    "# Evaluate the model on the training data\n",
    "acc_train = accuracy_score(y_train, y_train_pred)\n",
    "prec_train = precision_score(y_train, y_train_pred)\n",
    "rec_train = recall_score(y_train, y_train_pred)\n",
    "f1_train = f1_score(y_train, y_train_pred)\n",
    "roc_auc_train = roc_auc_score(y_train, y_train_pred)\n",
    "\n",
    "# Evaluate the model on the test data\n",
    "acc_test = accuracy_score(y_test, y_test_pred)\n",
    "prec_test = precision_score(y_test, y_test_pred)\n",
    "rec_test = recall_score(y_test, y_test_pred)\n",
    "f1_test = f1_score(y_test, y_test_pred)\n",
    "roc_auc_test = roc_auc_score(y_test, y_test_pred)\n",
    "\n",
    "# Print the evaluation metrics for the training dataset\n",
    "print(\"Training Data Metrics:\")\n",
    "print(\"Accuracy: {:.5f}\".format(acc_train))\n",
    "print(\"Precision: {:.5f}\".format(prec_train))\n",
    "print(\"Recall: {:.5f}\".format(rec_train))\n",
    "print(\"F1 Score: {:.5f}\".format(f1_train))\n",
    "print(\"ROC AUC: {:.5f}\".format(roc_auc_train))\n",
    "print(\"-\" * 50)\n",
    "\n",
    "# Print the evaluation metrics for the test dataset\n",
    "print(\"Test Data Metrics:\")\n",
    "print(\"Accuracy: {:.5f}\".format(acc_test))\n",
    "print(\"Precision: {:.5f}\".format(prec_test))\n",
    "print(\"Recall: {:.5f}\".format(rec_test))\n",
    "print(\"F1 Score: {:.5f}\".format(f1_test))\n",
    "print(\"ROC AUC: {:.5f}\".format(roc_auc_test))\n"
   ]
  },
  {
   "cell_type": "markdown",
   "metadata": {
    "id": "DILj2Jo1RojZ"
   },
   "source": [
    "# Hyperparameter tuning RandomForestClassifier"
   ]
  },
  {
   "cell_type": "code",
   "execution_count": 37,
   "metadata": {
    "colab": {
     "base_uri": "https://localhost:8080/"
    },
    "id": "1yElessFtCO0",
    "outputId": "5ab5867f-a58c-4f38-bd78-9e28013202e2"
   },
   "outputs": [
    {
     "name": "stdout",
     "output_type": "stream",
     "text": [
      "Training Data Metrics:\n",
      "Accuracy: 1.00000\n",
      "Precision: 1.00000\n",
      "Recall: 1.00000\n",
      "F1 Score: 1.00000\n",
      "ROC AUC: 1.00000\n",
      "--------------------------------------------------\n",
      "Test Data Metrics:\n",
      "Accuracy: 0.69863\n",
      "Precision: 0.78761\n",
      "Recall: 0.81651\n",
      "F1 Score: 0.80180\n",
      "ROC AUC: 0.58393\n",
      "--------------------------------------------------\n"
     ]
    }
   ],
   "source": [
    "from sklearn.ensemble import RandomForestClassifier\n",
    "from sklearn.metrics import accuracy_score, precision_score, recall_score, f1_score, roc_auc_score\n",
    "from sklearn.model_selection import train_test_split\n",
    "\n",
    "# Split your data into training and test sets\n",
    "X_train, X_test, y_train, y_test = train_test_split(X, y, test_size=0.25, random_state=42)\n",
    "\n",
    "\n",
    "# Create a Random Forest Classifier with hyperparameters\n",
    "random_forest_model = RandomForestClassifier(\n",
    "    n_estimators=100,             # Number of decision trees in the forest\n",
    "    max_depth=None,               # Maximum depth of each decision tree, None allows full growth\n",
    "    min_samples_split=2,          # Minimum number of samples required to split an internal node\n",
    "    min_samples_leaf=1,           # Minimum number of samples required to be a leaf node\n",
    "    max_features='auto',          # Number of features to consider when looking for the best split ('auto' uses all features)\n",
    "    random_state=42               # Seed for random number generation (for reproducibility)\n",
    ")\n",
    "\n",
    "\n",
    "# Fit the model to the training data\n",
    "random_forest_model.fit(X_train, y_train)\n",
    "\n",
    "# Make predictions on the training data and test data\n",
    "y_train_pred = random_forest_model.predict(X_train)\n",
    "y_test_pred = random_forest_model.predict(X_test)\n",
    "\n",
    "# Evaluate the model's performance on both training and test data\n",
    "def evaluate_model(y_true, y_pred, label):\n",
    "    acc = accuracy_score(y_true, y_pred)\n",
    "    prec = precision_score(y_true, y_pred)\n",
    "    rec = recall_score(y_true, y_pred)\n",
    "    f1 = f1_score(y_true, y_pred)\n",
    "    roc_auc = roc_auc_score(y_true, y_pred)\n",
    "\n",
    "    print(f\"{label} Metrics:\")\n",
    "    print(f\"Accuracy: {acc:.5f}\")\n",
    "    print(f\"Precision: {prec:.5f}\")\n",
    "    print(f\"Recall: {rec:.5f}\")\n",
    "    print(f\"F1 Score: {f1:.5f}\")\n",
    "    print(f\"ROC AUC: {roc_auc:.5f}\")\n",
    "    print(\"-\" * 50)\n",
    "\n",
    "# Evaluate the model on training data\n",
    "evaluate_model(y_train, y_train_pred, \"Training Data\")\n",
    "\n",
    "# Evaluate the model on test data\n",
    "evaluate_model(y_test, y_test_pred, \"Test Data\")\n"
   ]
  },
  {
   "cell_type": "markdown",
   "metadata": {},
   "source": [
    "# HyperParameter Tuning with Grid search Cv for Best Parameters"
   ]
  },
  {
   "cell_type": "code",
   "execution_count": 38,
   "metadata": {},
   "outputs": [
    {
     "name": "stdout",
     "output_type": "stream",
     "text": [
      "Best Hyperparameters:\n",
      "{'criterion': 'gini', 'max_depth': 10, 'max_features': 'auto', 'min_samples_leaf': 1, 'min_samples_split': 2, 'n_estimators': 150, 'random_state': 42}\n",
      "Training Data Metrics:\n",
      "Accuracy: 0.99771\n",
      "Precision: 0.99675\n",
      "Recall: 1.00000\n",
      "F1 Score: 0.99837\n",
      "ROC AUC: 0.99615\n",
      "--------------------------------------------------\n",
      "Test Data Metrics:\n",
      "Accuracy: 0.72603\n",
      "Precision: 0.78992\n",
      "Recall: 0.86239\n",
      "F1 Score: 0.82456\n",
      "ROC AUC: 0.59335\n",
      "--------------------------------------------------\n"
     ]
    }
   ],
   "source": [
    "from sklearn.ensemble import RandomForestClassifier\n",
    "from sklearn.model_selection import GridSearchCV\n",
    "\n",
    "# Define the parameter grid to search\n",
    "param_grid = {\n",
    "    'n_estimators': [50, 100, 150],        # Number of trees\n",
    "    'criterion': ['gini', 'entropy'],     # Split criterion\n",
    "    'max_depth': [None, 10, 20, 30],      # Maximum depth of trees\n",
    "    'min_samples_split': [2, 5, 10],     # Minimum samples required to split\n",
    "    'min_samples_leaf': [1, 2, 4],       # Minimum samples required in a leaf\n",
    "    'max_features': ['auto', 'sqrt'],     # Number of features to consider\n",
    "    'random_state': [42]                 # Random seed for reproducibility\n",
    "}\n",
    "\n",
    "# Create the Random Forest Classifier\n",
    "random_forest_model = RandomForestClassifier()\n",
    "\n",
    "# Create the GridSearchCV object with cross-validation\n",
    "grid_search = GridSearchCV(random_forest_model, param_grid, cv=5, scoring='f1', n_jobs=-1)\n",
    "\n",
    "# Fit the grid search to your data\n",
    "grid_search.fit(X_train, y_train)\n",
    "\n",
    "# Get the best hyperparameters from the grid search\n",
    "best_params = grid_search.best_params_\n",
    "print(\"Best Hyperparameters:\")\n",
    "print(best_params)\n",
    "\n",
    "# Get the best model from the grid search\n",
    "best_model = grid_search.best_estimator_\n",
    "\n",
    "# Make predictions on the training data and test data\n",
    "y_train_pred = best_model.predict(X_train)\n",
    "# Evaluate the best model on your test data\n",
    "y_test_pred = best_model.predict(X_test)\n",
    "\n",
    "\n",
    "\n",
    "# Evaluate the model's performance on both training and test data\n",
    "def evaluate_model(y_true, y_pred, label):\n",
    "    acc = accuracy_score(y_true, y_pred)\n",
    "    prec = precision_score(y_true, y_pred)\n",
    "    rec = recall_score(y_true, y_pred)\n",
    "    f1 = f1_score(y_true, y_pred)\n",
    "    roc_auc = roc_auc_score(y_true, y_pred)\n",
    "\n",
    "    print(f\"{label} Metrics:\")\n",
    "    print(f\"Accuracy: {acc:.5f}\")\n",
    "    print(f\"Precision: {prec:.5f}\")\n",
    "    print(f\"Recall: {rec:.5f}\")\n",
    "    print(f\"F1 Score: {f1:.5f}\")\n",
    "    print(f\"ROC AUC: {roc_auc:.5f}\")\n",
    "    print(\"-\" * 50)\n",
    "\n",
    "# Evaluate the model on training data\n",
    "evaluate_model(y_train, y_train_pred, \"Training Data\")\n",
    "\n",
    "# Evaluate the model on test data\n",
    "evaluate_model(y_test, y_test_pred, \"Test Data\")\n"
   ]
  },
  {
   "cell_type": "code",
   "execution_count": 39,
   "metadata": {
    "colab": {
     "base_uri": "https://localhost:8080/"
    },
    "id": "71hX85QKTauW",
    "outputId": "972fb6eb-7ec4-41ab-c255-f0ae100808ad"
   },
   "outputs": [
    {
     "data": {
      "text/plain": [
       "array([[12, 25],\n",
       "       [15, 94]], dtype=int64)"
      ]
     },
     "execution_count": 39,
     "metadata": {},
     "output_type": "execute_result"
    }
   ],
   "source": [
    "cm = confusion_matrix(y_test, y_test_pred)\n",
    "cm"
   ]
  },
  {
   "cell_type": "code",
   "execution_count": 40,
   "metadata": {
    "colab": {
     "base_uri": "https://localhost:8080/",
     "height": 297
    },
    "id": "E8Ekw3rWTmuz",
    "outputId": "272f1536-ce70-44cd-dbb1-4542edfd8c05"
   },
   "outputs": [
    {
     "data": {
      "image/png": "[encoded data removed]",
      "text/plain": [
       "<Figure size 216x216 with 2 Axes>"
      ]
     },
     "metadata": {},
     "output_type": "display_data"
    }
   ],
   "source": [
    "from sklearn.metrics import confusion_matrix\n",
    "from sklearn.metrics import ConfusionMatrixDisplay\n",
    "# Calculate the confusion matrix\n",
    "cm = confusion_matrix(y_test, y_test_pred, labels=best_model.classes_)\n",
    "\n",
    "# Create a smaller figure with the desired size\n",
    "plt.figure(figsize=(3, 3))  # Adjust the width and height as needed\n",
    "\n",
    "# Create the ConfusionMatrixDisplay object\n",
    "disp = ConfusionMatrixDisplay(confusion_matrix=cm, display_labels=best_model.classes_)\n",
    "\n",
    "# Get the current axes and set the size within the axes\n",
    "ax = plt.gca()\n",
    "disp.plot(ax=ax)\n",
    "plt.show()"
   ]
  },
  {
   "cell_type": "code",
   "execution_count": 41,
   "metadata": {
    "colab": {
     "base_uri": "https://localhost:8080/"
    },
    "id": "L7bpA8xAT3Vn",
    "outputId": "6788a535-d0d9-4dcb-e16a-ea463da1ea8f"
   },
   "outputs": [
    {
     "name": "stdout",
     "output_type": "stream",
     "text": [
      "Random Forest Classification report\n",
      "              precision    recall  f1-score   support\n",
      "\n",
      "           0       0.44      0.32      0.38        37\n",
      "           1       0.79      0.86      0.82       109\n",
      "\n",
      "    accuracy                           0.73       146\n",
      "   macro avg       0.62      0.59      0.60       146\n",
      "weighted avg       0.70      0.73      0.71       146\n",
      "\n"
     ]
    }
   ],
   "source": [
    "# Getting metrices for the models\n",
    "from sklearn.metrics import classification_report\n",
    "\n",
    "print(\"Random Forest Classification report\")\n",
    "print( classification_report(y_test, y_test_pred))"
   ]
  },
  {
   "cell_type": "code",
   "execution_count": 42,
   "metadata": {},
   "outputs": [
    {
     "data": {
      "image/png": "[encoded data removed]",
      "text/plain": [
       "<Figure size 576x432 with 1 Axes>"
      ]
     },
     "metadata": {},
     "output_type": "display_data"
    }
   ],
   "source": [
    "from sklearn.metrics import roc_curve, roc_auc_score\n",
    "import matplotlib.pyplot as plt\n",
    "\n",
    "# Calculate the predicted probabilities for the positive class (class 1)\n",
    "y_test_probs = best_model.predict_proba(X_test)[:, 1]\n",
    "\n",
    "# Calculate the ROC AUC score\n",
    "roc_auc = roc_auc_score(y_test, y_test_probs)\n",
    "\n",
    "# Compute ROC curve\n",
    "fpr, tpr, thresholds = roc_curve(y_test, y_test_probs)\n",
    "\n",
    "# Plot ROC curve\n",
    "plt.figure(figsize=(8, 6))\n",
    "plt.plot(fpr, tpr, color='darkorange', lw=2, label='AUC = {:.2f})'.format(roc_auc))\n",
    "plt.plot([0, 1], [0, 1], color='navy', lw=2, linestyle='--')\n",
    "plt.xlim([0.0, 1.0])\n",
    "plt.ylim([0.0, 1.05])\n",
    "plt.xlabel('False Positive Rate')\n",
    "plt.ylabel('True Positive Rate')\n",
    "plt.title('Receiver Operating Characteristic (ROC)')\n",
    "plt.legend(loc='lower right')\n",
    "plt.show()\n"
   ]
  },
  {
   "cell_type": "code",
   "execution_count": 43,
   "metadata": {
    "id": "eNLry6BycUJD"
   },
   "outputs": [],
   "source": [
    "### Writing model to a file that will be used while deployment\n",
    "with open('model_liver.sav','wb') as f:\n",
    "    pickle.dump(best_model,f)"
   ]
  },
  {
   "cell_type": "markdown",
   "metadata": {},
   "source": [
    "## Making predictions"
   ]
  },
  {
   "cell_type": "code",
   "execution_count": 44,
   "metadata": {},
   "outputs": [
    {
     "name": "stdout",
     "output_type": "stream",
     "text": [
      "[1]\n"
     ]
    }
   ],
   "source": [
    "# Positive disease prediction\n",
    "\n",
    "# Load the pickled model from the file\n",
    "with open('model_liver.sav', 'rb') as f:\n",
    "    loaded_model = pickle.load(f)\n",
    "\n",
    "# Assuming you have a feature vector `X_new` for prediction\n",
    "X_new = np.array([65,0,0.7,0.1,187,16,18,6.8,3.3,0.90]).reshape(1, -1)\n",
    "\n",
    "# Make predictions using the loaded model\n",
    "y_pred = loaded_model.predict(X_new)\n",
    "\n",
    "# Print or use the predictions as needed\n",
    "print(y_pred)\n"
   ]
  },
  {
   "cell_type": "code",
   "execution_count": 67,
   "metadata": {},
   "outputs": [
    {
     "data": {
      "text/plain": [
       "array([ 1.25209764, -0.41887783, -0.49396398, -0.42671496, -0.35466541,\n",
       "       -0.31839333,  0.29211961,  0.19896867, -0.14752863,  0.        ])"
      ]
     },
     "execution_count": 67,
     "metadata": {},
     "output_type": "execute_result"
    }
   ],
   "source": [
    "X_bal[0]"
   ]
  },
  {
   "cell_type": "code",
   "execution_count": 52,
   "metadata": {},
   "outputs": [
    {
     "name": "stdout",
     "output_type": "stream",
     "text": [
      "[1]\n"
     ]
    }
   ],
   "source": [
    "# Negative disease prediction\n",
    "\n",
    "# Load the pickled model from the file\n",
    "with open('model_liver.sav', 'rb') as f:\n",
    "    loaded_model = pickle.load(f)\n",
    "\n",
    "# Assuming you have a feature vector `X_new` for prediction\n",
    "X_n = np.array([40,1,0.5,0.1,100,20,24,6.9,4.6,10]).reshape(1, -1)\n",
    "\n",
    "# Make predictions using the loaded model\n",
    "y_predn = loaded_model.predict(X_n)\n",
    "\n",
    "# Print or use the predictions as needed\n",
    "print(y_predn)"
   ]
  },
  {
   "cell_type": "code",
   "execution_count": 63,
   "metadata": {},
   "outputs": [
    {
     "data": {
      "text/plain": [
       "1    416\n",
       "0    167\n",
       "Name: Dataset, dtype: int64"
      ]
     },
     "execution_count": 63,
     "metadata": {},
     "output_type": "execute_result"
    }
   ],
   "source": [
    "df['Dataset'].value_counts()"
   ]
  },
  {
   "cell_type": "markdown",
   "metadata": {
    "id": "ztTE6Qt68Ukj"
   },
   "source": [
    "### Conclusion:\n",
    "\n",
    "The analysis of the Liver Disease Classification dataset aimed to create a predictive model for liver disease classification. The dataset required minimal preprocessing, and a machine learning model was successfully trained. The choice of evaluation metrics was driven by the medical context, with an emphasis on achieving a high recall score to minimize false negatives. The model was pickled for future use in real-world applications, where early detection and minimizing false negatives are critical in liver disease diagnosis."
   ]
  }
 ],
 "metadata": {
  "colab": {
   "provenance": []
  },
  "kernelspec": {
   "display_name": "Python 3 (ipykernel)",
   "language": "python",
   "name": "python3"
  },
  "language_info": {
   "codemirror_mode": {
    "name": "ipython",
    "version": 3
   },
   "file_extension": ".py",
   "mimetype": "text/x-python",
   "name": "python",
   "nbconvert_exporter": "python",
   "pygments_lexer": "ipython3",
   "version": "3.9.12"
  }
 },
 "nbformat": 4,
 "nbformat_minor": 1
}
