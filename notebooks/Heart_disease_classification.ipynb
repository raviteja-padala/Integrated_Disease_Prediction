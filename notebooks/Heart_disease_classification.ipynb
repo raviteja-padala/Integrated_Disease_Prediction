{
 "cells": [
  {
   "cell_type": "markdown",
   "metadata": {
    "id": "fO9BZP2adXN8"
   },
   "source": [
    "#### Raviteja Padala\n",
    "<img align=\"left\" img src= in.png height = 20 width=\"20\"/>   https://www.linkedin.com/in/raviteja-padala/ <br>\n",
    "\n",
    "<img align=\"left\" img src= github.png height = 20 width=\"20\"/> https://github.com/raviteja-padala\n"
   ]
  },
  {
   "cell_type": "markdown",
   "metadata": {},
   "source": [
    "# Heart_disease_classification"
   ]
  },
  {
   "cell_type": "markdown",
   "metadata": {
    "id": "IakDTJKq1zse"
   },
   "source": [
    "### Objective:\n",
    "\n",
    "The objective of this project was to develop a predictive model for heart disease classification using a given dataset. The goal was to build a machine learning model to predict heart disease."
   ]
  },
  {
   "cell_type": "code",
   "execution_count": 1,
   "metadata": {
    "id": "phVPeQgrdXv9"
   },
   "outputs": [],
   "source": [
    "#importing libraries to perfom analysis\n",
    "import pandas as pd\n",
    "import numpy as np\n",
    "import seaborn as sns\n",
    "import matplotlib.pyplot as plt\n",
    "%matplotlib inline"
   ]
  },
  {
   "cell_type": "code",
   "execution_count": 2,
   "metadata": {
    "id": "BWy3WAhXdZ9H"
   },
   "outputs": [],
   "source": [
    "#load dataset\n",
    "df = pd.read_csv(\"https://raw.githubusercontent.com/raviteja-padala/Datasets/main/heart_disease.csv\")"
   ]
  },
  {
   "cell_type": "code",
   "execution_count": 35,
   "metadata": {
    "colab": {
     "base_uri": "https://localhost:8080/",
     "height": 206
    },
    "id": "EPELZl6OdesN",
    "outputId": "1a1934b4-6385-47ab-a3e7-7c715a965cd7",
    "scrolled": true
   },
   "outputs": [
    {
     "data": {
      "text/html": [
       "<div>\n",
       "<style scoped>\n",
       "    .dataframe tbody tr th:only-of-type {\n",
       "        vertical-align: middle;\n",
       "    }\n",
       "\n",
       "    .dataframe tbody tr th {\n",
       "        vertical-align: top;\n",
       "    }\n",
       "\n",
       "    .dataframe thead th {\n",
       "        text-align: right;\n",
       "    }\n",
       "</style>\n",
       "<table border=\"1\" class=\"dataframe\">\n",
       "  <thead>\n",
       "    <tr style=\"text-align: right;\">\n",
       "      <th></th>\n",
       "      <th>age</th>\n",
       "      <th>sex</th>\n",
       "      <th>cp</th>\n",
       "      <th>trestbps</th>\n",
       "      <th>chol</th>\n",
       "      <th>fbs</th>\n",
       "      <th>restecg</th>\n",
       "      <th>thalach</th>\n",
       "      <th>exang</th>\n",
       "      <th>oldpeak</th>\n",
       "      <th>slope</th>\n",
       "      <th>ca</th>\n",
       "      <th>thal</th>\n",
       "      <th>target</th>\n",
       "    </tr>\n",
       "  </thead>\n",
       "  <tbody>\n",
       "    <tr>\n",
       "      <th>0</th>\n",
       "      <td>52</td>\n",
       "      <td>1</td>\n",
       "      <td>0</td>\n",
       "      <td>125</td>\n",
       "      <td>212</td>\n",
       "      <td>0</td>\n",
       "      <td>1</td>\n",
       "      <td>168</td>\n",
       "      <td>0</td>\n",
       "      <td>1.0</td>\n",
       "      <td>2</td>\n",
       "      <td>2</td>\n",
       "      <td>3</td>\n",
       "      <td>0</td>\n",
       "    </tr>\n",
       "    <tr>\n",
       "      <th>1</th>\n",
       "      <td>53</td>\n",
       "      <td>1</td>\n",
       "      <td>0</td>\n",
       "      <td>140</td>\n",
       "      <td>203</td>\n",
       "      <td>1</td>\n",
       "      <td>0</td>\n",
       "      <td>155</td>\n",
       "      <td>1</td>\n",
       "      <td>3.1</td>\n",
       "      <td>0</td>\n",
       "      <td>0</td>\n",
       "      <td>3</td>\n",
       "      <td>0</td>\n",
       "    </tr>\n",
       "    <tr>\n",
       "      <th>2</th>\n",
       "      <td>70</td>\n",
       "      <td>1</td>\n",
       "      <td>0</td>\n",
       "      <td>145</td>\n",
       "      <td>174</td>\n",
       "      <td>0</td>\n",
       "      <td>1</td>\n",
       "      <td>125</td>\n",
       "      <td>1</td>\n",
       "      <td>2.6</td>\n",
       "      <td>0</td>\n",
       "      <td>0</td>\n",
       "      <td>3</td>\n",
       "      <td>0</td>\n",
       "    </tr>\n",
       "    <tr>\n",
       "      <th>3</th>\n",
       "      <td>61</td>\n",
       "      <td>1</td>\n",
       "      <td>0</td>\n",
       "      <td>148</td>\n",
       "      <td>203</td>\n",
       "      <td>0</td>\n",
       "      <td>1</td>\n",
       "      <td>161</td>\n",
       "      <td>0</td>\n",
       "      <td>0.0</td>\n",
       "      <td>2</td>\n",
       "      <td>1</td>\n",
       "      <td>3</td>\n",
       "      <td>0</td>\n",
       "    </tr>\n",
       "    <tr>\n",
       "      <th>4</th>\n",
       "      <td>62</td>\n",
       "      <td>0</td>\n",
       "      <td>0</td>\n",
       "      <td>138</td>\n",
       "      <td>294</td>\n",
       "      <td>1</td>\n",
       "      <td>1</td>\n",
       "      <td>106</td>\n",
       "      <td>0</td>\n",
       "      <td>1.9</td>\n",
       "      <td>1</td>\n",
       "      <td>3</td>\n",
       "      <td>2</td>\n",
       "      <td>0</td>\n",
       "    </tr>\n",
       "    <tr>\n",
       "      <th>5</th>\n",
       "      <td>58</td>\n",
       "      <td>0</td>\n",
       "      <td>0</td>\n",
       "      <td>100</td>\n",
       "      <td>248</td>\n",
       "      <td>0</td>\n",
       "      <td>0</td>\n",
       "      <td>122</td>\n",
       "      <td>0</td>\n",
       "      <td>1.0</td>\n",
       "      <td>1</td>\n",
       "      <td>0</td>\n",
       "      <td>2</td>\n",
       "      <td>1</td>\n",
       "    </tr>\n",
       "    <tr>\n",
       "      <th>6</th>\n",
       "      <td>58</td>\n",
       "      <td>1</td>\n",
       "      <td>0</td>\n",
       "      <td>114</td>\n",
       "      <td>318</td>\n",
       "      <td>0</td>\n",
       "      <td>2</td>\n",
       "      <td>140</td>\n",
       "      <td>0</td>\n",
       "      <td>4.4</td>\n",
       "      <td>0</td>\n",
       "      <td>3</td>\n",
       "      <td>1</td>\n",
       "      <td>0</td>\n",
       "    </tr>\n",
       "    <tr>\n",
       "      <th>7</th>\n",
       "      <td>55</td>\n",
       "      <td>1</td>\n",
       "      <td>0</td>\n",
       "      <td>160</td>\n",
       "      <td>289</td>\n",
       "      <td>0</td>\n",
       "      <td>0</td>\n",
       "      <td>145</td>\n",
       "      <td>1</td>\n",
       "      <td>0.8</td>\n",
       "      <td>1</td>\n",
       "      <td>1</td>\n",
       "      <td>3</td>\n",
       "      <td>0</td>\n",
       "    </tr>\n",
       "    <tr>\n",
       "      <th>8</th>\n",
       "      <td>46</td>\n",
       "      <td>1</td>\n",
       "      <td>0</td>\n",
       "      <td>120</td>\n",
       "      <td>249</td>\n",
       "      <td>0</td>\n",
       "      <td>0</td>\n",
       "      <td>144</td>\n",
       "      <td>0</td>\n",
       "      <td>0.8</td>\n",
       "      <td>2</td>\n",
       "      <td>0</td>\n",
       "      <td>3</td>\n",
       "      <td>0</td>\n",
       "    </tr>\n",
       "    <tr>\n",
       "      <th>9</th>\n",
       "      <td>54</td>\n",
       "      <td>1</td>\n",
       "      <td>0</td>\n",
       "      <td>122</td>\n",
       "      <td>286</td>\n",
       "      <td>0</td>\n",
       "      <td>0</td>\n",
       "      <td>116</td>\n",
       "      <td>1</td>\n",
       "      <td>3.2</td>\n",
       "      <td>1</td>\n",
       "      <td>2</td>\n",
       "      <td>2</td>\n",
       "      <td>0</td>\n",
       "    </tr>\n",
       "    <tr>\n",
       "      <th>10</th>\n",
       "      <td>71</td>\n",
       "      <td>0</td>\n",
       "      <td>0</td>\n",
       "      <td>112</td>\n",
       "      <td>149</td>\n",
       "      <td>0</td>\n",
       "      <td>1</td>\n",
       "      <td>125</td>\n",
       "      <td>0</td>\n",
       "      <td>1.6</td>\n",
       "      <td>1</td>\n",
       "      <td>0</td>\n",
       "      <td>2</td>\n",
       "      <td>1</td>\n",
       "    </tr>\n",
       "    <tr>\n",
       "      <th>11</th>\n",
       "      <td>43</td>\n",
       "      <td>0</td>\n",
       "      <td>0</td>\n",
       "      <td>132</td>\n",
       "      <td>341</td>\n",
       "      <td>1</td>\n",
       "      <td>0</td>\n",
       "      <td>136</td>\n",
       "      <td>1</td>\n",
       "      <td>3.0</td>\n",
       "      <td>1</td>\n",
       "      <td>0</td>\n",
       "      <td>3</td>\n",
       "      <td>0</td>\n",
       "    </tr>\n",
       "    <tr>\n",
       "      <th>12</th>\n",
       "      <td>34</td>\n",
       "      <td>0</td>\n",
       "      <td>1</td>\n",
       "      <td>118</td>\n",
       "      <td>210</td>\n",
       "      <td>0</td>\n",
       "      <td>1</td>\n",
       "      <td>192</td>\n",
       "      <td>0</td>\n",
       "      <td>0.7</td>\n",
       "      <td>2</td>\n",
       "      <td>0</td>\n",
       "      <td>2</td>\n",
       "      <td>1</td>\n",
       "    </tr>\n",
       "    <tr>\n",
       "      <th>13</th>\n",
       "      <td>51</td>\n",
       "      <td>1</td>\n",
       "      <td>0</td>\n",
       "      <td>140</td>\n",
       "      <td>298</td>\n",
       "      <td>0</td>\n",
       "      <td>1</td>\n",
       "      <td>122</td>\n",
       "      <td>1</td>\n",
       "      <td>4.2</td>\n",
       "      <td>1</td>\n",
       "      <td>3</td>\n",
       "      <td>3</td>\n",
       "      <td>0</td>\n",
       "    </tr>\n",
       "    <tr>\n",
       "      <th>14</th>\n",
       "      <td>52</td>\n",
       "      <td>1</td>\n",
       "      <td>0</td>\n",
       "      <td>128</td>\n",
       "      <td>204</td>\n",
       "      <td>1</td>\n",
       "      <td>1</td>\n",
       "      <td>156</td>\n",
       "      <td>1</td>\n",
       "      <td>1.0</td>\n",
       "      <td>1</td>\n",
       "      <td>0</td>\n",
       "      <td>0</td>\n",
       "      <td>0</td>\n",
       "    </tr>\n",
       "    <tr>\n",
       "      <th>15</th>\n",
       "      <td>34</td>\n",
       "      <td>0</td>\n",
       "      <td>1</td>\n",
       "      <td>118</td>\n",
       "      <td>210</td>\n",
       "      <td>0</td>\n",
       "      <td>1</td>\n",
       "      <td>192</td>\n",
       "      <td>0</td>\n",
       "      <td>0.7</td>\n",
       "      <td>2</td>\n",
       "      <td>0</td>\n",
       "      <td>2</td>\n",
       "      <td>1</td>\n",
       "    </tr>\n",
       "    <tr>\n",
       "      <th>16</th>\n",
       "      <td>51</td>\n",
       "      <td>0</td>\n",
       "      <td>2</td>\n",
       "      <td>140</td>\n",
       "      <td>308</td>\n",
       "      <td>0</td>\n",
       "      <td>0</td>\n",
       "      <td>142</td>\n",
       "      <td>0</td>\n",
       "      <td>1.5</td>\n",
       "      <td>2</td>\n",
       "      <td>1</td>\n",
       "      <td>2</td>\n",
       "      <td>1</td>\n",
       "    </tr>\n",
       "    <tr>\n",
       "      <th>17</th>\n",
       "      <td>54</td>\n",
       "      <td>1</td>\n",
       "      <td>0</td>\n",
       "      <td>124</td>\n",
       "      <td>266</td>\n",
       "      <td>0</td>\n",
       "      <td>0</td>\n",
       "      <td>109</td>\n",
       "      <td>1</td>\n",
       "      <td>2.2</td>\n",
       "      <td>1</td>\n",
       "      <td>1</td>\n",
       "      <td>3</td>\n",
       "      <td>0</td>\n",
       "    </tr>\n",
       "    <tr>\n",
       "      <th>18</th>\n",
       "      <td>50</td>\n",
       "      <td>0</td>\n",
       "      <td>1</td>\n",
       "      <td>120</td>\n",
       "      <td>244</td>\n",
       "      <td>0</td>\n",
       "      <td>1</td>\n",
       "      <td>162</td>\n",
       "      <td>0</td>\n",
       "      <td>1.1</td>\n",
       "      <td>2</td>\n",
       "      <td>0</td>\n",
       "      <td>2</td>\n",
       "      <td>1</td>\n",
       "    </tr>\n",
       "    <tr>\n",
       "      <th>19</th>\n",
       "      <td>58</td>\n",
       "      <td>1</td>\n",
       "      <td>2</td>\n",
       "      <td>140</td>\n",
       "      <td>211</td>\n",
       "      <td>1</td>\n",
       "      <td>0</td>\n",
       "      <td>165</td>\n",
       "      <td>0</td>\n",
       "      <td>0.0</td>\n",
       "      <td>2</td>\n",
       "      <td>0</td>\n",
       "      <td>2</td>\n",
       "      <td>1</td>\n",
       "    </tr>\n",
       "  </tbody>\n",
       "</table>\n",
       "</div>"
      ],
      "text/plain": [
       "    age  sex  cp  trestbps  chol  fbs  restecg  thalach  exang  oldpeak  \\\n",
       "0    52    1   0       125   212    0        1      168      0      1.0   \n",
       "1    53    1   0       140   203    1        0      155      1      3.1   \n",
       "2    70    1   0       145   174    0        1      125      1      2.6   \n",
       "3    61    1   0       148   203    0        1      161      0      0.0   \n",
       "4    62    0   0       138   294    1        1      106      0      1.9   \n",
       "5    58    0   0       100   248    0        0      122      0      1.0   \n",
       "6    58    1   0       114   318    0        2      140      0      4.4   \n",
       "7    55    1   0       160   289    0        0      145      1      0.8   \n",
       "8    46    1   0       120   249    0        0      144      0      0.8   \n",
       "9    54    1   0       122   286    0        0      116      1      3.2   \n",
       "10   71    0   0       112   149    0        1      125      0      1.6   \n",
       "11   43    0   0       132   341    1        0      136      1      3.0   \n",
       "12   34    0   1       118   210    0        1      192      0      0.7   \n",
       "13   51    1   0       140   298    0        1      122      1      4.2   \n",
       "14   52    1   0       128   204    1        1      156      1      1.0   \n",
       "15   34    0   1       118   210    0        1      192      0      0.7   \n",
       "16   51    0   2       140   308    0        0      142      0      1.5   \n",
       "17   54    1   0       124   266    0        0      109      1      2.2   \n",
       "18   50    0   1       120   244    0        1      162      0      1.1   \n",
       "19   58    1   2       140   211    1        0      165      0      0.0   \n",
       "\n",
       "    slope  ca  thal  target  \n",
       "0       2   2     3       0  \n",
       "1       0   0     3       0  \n",
       "2       0   0     3       0  \n",
       "3       2   1     3       0  \n",
       "4       1   3     2       0  \n",
       "5       1   0     2       1  \n",
       "6       0   3     1       0  \n",
       "7       1   1     3       0  \n",
       "8       2   0     3       0  \n",
       "9       1   2     2       0  \n",
       "10      1   0     2       1  \n",
       "11      1   0     3       0  \n",
       "12      2   0     2       1  \n",
       "13      1   3     3       0  \n",
       "14      1   0     0       0  \n",
       "15      2   0     2       1  \n",
       "16      2   1     2       1  \n",
       "17      1   1     3       0  \n",
       "18      2   0     2       1  \n",
       "19      2   0     2       1  "
      ]
     },
     "execution_count": 35,
     "metadata": {},
     "output_type": "execute_result"
    }
   ],
   "source": [
    "#cheking the top five rows of dataset\n",
    "df.head(20)"
   ]
  },
  {
   "cell_type": "code",
   "execution_count": 4,
   "metadata": {
    "colab": {
     "base_uri": "https://localhost:8080/"
    },
    "id": "3yxjp9r4fUHd",
    "outputId": "7734be70-e097-48d3-a54f-21a951254687"
   },
   "outputs": [
    {
     "data": {
      "text/plain": [
       "(1025, 14)"
      ]
     },
     "execution_count": 4,
     "metadata": {},
     "output_type": "execute_result"
    }
   ],
   "source": [
    "#shape of the dataset\n",
    "df.shape"
   ]
  },
  {
   "cell_type": "code",
   "execution_count": 5,
   "metadata": {
    "colab": {
     "base_uri": "https://localhost:8080/"
    },
    "id": "PaHsz-Ttd6ps",
    "outputId": "830a8359-e84e-42e6-bb8b-af7bcdbbfa41"
   },
   "outputs": [
    {
     "name": "stdout",
     "output_type": "stream",
     "text": [
      "<class 'pandas.core.frame.DataFrame'>\n",
      "RangeIndex: 1025 entries, 0 to 1024\n",
      "Data columns (total 14 columns):\n",
      " #   Column    Non-Null Count  Dtype  \n",
      "---  ------    --------------  -----  \n",
      " 0   age       1025 non-null   int64  \n",
      " 1   sex       1025 non-null   int64  \n",
      " 2   cp        1025 non-null   int64  \n",
      " 3   trestbps  1025 non-null   int64  \n",
      " 4   chol      1025 non-null   int64  \n",
      " 5   fbs       1025 non-null   int64  \n",
      " 6   restecg   1025 non-null   int64  \n",
      " 7   thalach   1025 non-null   int64  \n",
      " 8   exang     1025 non-null   int64  \n",
      " 9   oldpeak   1025 non-null   float64\n",
      " 10  slope     1025 non-null   int64  \n",
      " 11  ca        1025 non-null   int64  \n",
      " 12  thal      1025 non-null   int64  \n",
      " 13  target    1025 non-null   int64  \n",
      "dtypes: float64(1), int64(13)\n",
      "memory usage: 112.2 KB\n"
     ]
    }
   ],
   "source": [
    "#checking the information about the dataset\n",
    "df.info()"
   ]
  },
  {
   "cell_type": "markdown",
   "metadata": {
    "id": "VvhDCVpTfBRr"
   },
   "source": [
    "## About the Dataset:\n",
    "\n",
    "This data set consists of four databases: Cleveland, Hungary, Switzerland, and Long Beach V. It contains 76 attributes, including the predicted attribute, but all published experiments refer to using a subset of 14 of them. The \"target\" field refers to the presence of heart disease in the patient. It is integer valued 0 = no heart disease and 1 = heart disease.\n",
    "\n",
    "The dataset consists of several medical predictor variables and one target variable. Predictor variables includes resting blood pressure , serum cholestoralthe patient has had and so on..\n",
    "\n",
    "A heart attack (Cardiovascular diseases) occurs when the flow of blood to the heart muscle suddenly becomes blocked. From WHO statistics every year 17.9 million dying from heart attack. The medical study says that human life style is the main reason behind this heart problem. Apart from this there are many key factors which warns that the person may/maynot getting chance of heart attack.\n",
    "\n",
    "Dataset : https://www.kaggle.com/datasets/johnsmith88/heart-disease-dataset"
   ]
  },
  {
   "cell_type": "markdown",
   "metadata": {
    "id": "1znPAF9zeZpu"
   },
   "source": [
    "| Column   | Description                                       | Values                                      | Type of Variable |\n",
    "|----------|---------------------------------------------------|---------------------------------------------|------------------|\n",
    "| age      | age in years                                      | age in years                                | Continuous       |\n",
    "| sex      | Gender                                            | (0: female, 1: male)                       | Categorical      |\n",
    "| cp       | chest_pain_type                                   | (0 = Typical angina, 1 = Atypical angina,   | Categorical      |\n",
    "|          |                                                   | 2 = Non-angina pain, 3 = Asymptomatic)     |                  |\n",
    "| trestbps | resting blood pressure                            | systolic blood pressure values             | Continuous       |\n",
    "| chol     | serum cholestoral                                 | cholestoral values in mg/dl                | Continuous       |\n",
    "| fbs      | Is fasting blood sugar > 120 mg/dl ?             | (1 = true; 0 = false)                      | Categorical      |\n",
    "| restecg  | resting electrocardiographic results              | (0 = Normal, 1 = Abnormal ST-T wave,       | Categorical      |\n",
    "|          |                                                   | 2 = Showing probable hypertrophy)          |                  |\n",
    "| thalach  | Maximum heart rate achieved                       | heart rate in (bpm)                        | Continuous       |\n",
    "| exang    | Exercise induced angina                           | (0 = Negative, 1 = Positive)               | Categorical      |\n",
    "| oldpeak  | ST depression induced by exercise relative to    | 'ST' positions on the ECG plot             | Continuous       |\n",
    "|          | rest                                              |                                             |                  |\n",
    "| slope    | The slope of the peak exercise ST segment         | 0 = Upsloping, 1 = Horizontal,             | Categorical      |\n",
    "|          |                                                   | 2 = Downsloping                            |                  |\n",
    "| ca       | colored blood vessels post fluoroscopy            | Number of major vessels (0-4) colored by  | Categorical      |\n",
    "|          |                                                   | fluoroscopy                                |                  |\n",
    "| thal     | results of thallium stress test measuring blood   | (0, 1 = Normal, 2 = Fixed defect,          | Categorical      |\n",
    "|          | flow                                              | 3 = Reversible defect)                     |                  |\n",
    "| target   | Heart Disease                                     | (0 = no Heart disease, 1 = Heart disease)  | Categorical      |\n"
   ]
  },
  {
   "cell_type": "code",
   "execution_count": 6,
   "metadata": {
    "colab": {
     "base_uri": "https://localhost:8080/",
     "height": 320
    },
    "id": "V5NOwNEzeRMs",
    "outputId": "7a497423-fd1c-42c7-bc75-0464d68d534e"
   },
   "outputs": [
    {
     "data": {
      "text/html": [
       "<div>\n",
       "<style scoped>\n",
       "    .dataframe tbody tr th:only-of-type {\n",
       "        vertical-align: middle;\n",
       "    }\n",
       "\n",
       "    .dataframe tbody tr th {\n",
       "        vertical-align: top;\n",
       "    }\n",
       "\n",
       "    .dataframe thead th {\n",
       "        text-align: right;\n",
       "    }\n",
       "</style>\n",
       "<table border=\"1\" class=\"dataframe\">\n",
       "  <thead>\n",
       "    <tr style=\"text-align: right;\">\n",
       "      <th></th>\n",
       "      <th>age</th>\n",
       "      <th>sex</th>\n",
       "      <th>cp</th>\n",
       "      <th>trestbps</th>\n",
       "      <th>chol</th>\n",
       "      <th>fbs</th>\n",
       "      <th>restecg</th>\n",
       "      <th>thalach</th>\n",
       "      <th>exang</th>\n",
       "      <th>oldpeak</th>\n",
       "      <th>slope</th>\n",
       "      <th>ca</th>\n",
       "      <th>thal</th>\n",
       "      <th>target</th>\n",
       "    </tr>\n",
       "  </thead>\n",
       "  <tbody>\n",
       "    <tr>\n",
       "      <th>count</th>\n",
       "      <td>1025.000000</td>\n",
       "      <td>1025.000000</td>\n",
       "      <td>1025.000000</td>\n",
       "      <td>1025.000000</td>\n",
       "      <td>1025.00000</td>\n",
       "      <td>1025.000000</td>\n",
       "      <td>1025.000000</td>\n",
       "      <td>1025.000000</td>\n",
       "      <td>1025.000000</td>\n",
       "      <td>1025.000000</td>\n",
       "      <td>1025.000000</td>\n",
       "      <td>1025.000000</td>\n",
       "      <td>1025.000000</td>\n",
       "      <td>1025.000000</td>\n",
       "    </tr>\n",
       "    <tr>\n",
       "      <th>mean</th>\n",
       "      <td>54.434146</td>\n",
       "      <td>0.695610</td>\n",
       "      <td>0.942439</td>\n",
       "      <td>131.611707</td>\n",
       "      <td>246.00000</td>\n",
       "      <td>0.149268</td>\n",
       "      <td>0.529756</td>\n",
       "      <td>149.114146</td>\n",
       "      <td>0.336585</td>\n",
       "      <td>1.071512</td>\n",
       "      <td>1.385366</td>\n",
       "      <td>0.754146</td>\n",
       "      <td>2.323902</td>\n",
       "      <td>0.513171</td>\n",
       "    </tr>\n",
       "    <tr>\n",
       "      <th>std</th>\n",
       "      <td>9.072290</td>\n",
       "      <td>0.460373</td>\n",
       "      <td>1.029641</td>\n",
       "      <td>17.516718</td>\n",
       "      <td>51.59251</td>\n",
       "      <td>0.356527</td>\n",
       "      <td>0.527878</td>\n",
       "      <td>23.005724</td>\n",
       "      <td>0.472772</td>\n",
       "      <td>1.175053</td>\n",
       "      <td>0.617755</td>\n",
       "      <td>1.030798</td>\n",
       "      <td>0.620660</td>\n",
       "      <td>0.500070</td>\n",
       "    </tr>\n",
       "    <tr>\n",
       "      <th>min</th>\n",
       "      <td>29.000000</td>\n",
       "      <td>0.000000</td>\n",
       "      <td>0.000000</td>\n",
       "      <td>94.000000</td>\n",
       "      <td>126.00000</td>\n",
       "      <td>0.000000</td>\n",
       "      <td>0.000000</td>\n",
       "      <td>71.000000</td>\n",
       "      <td>0.000000</td>\n",
       "      <td>0.000000</td>\n",
       "      <td>0.000000</td>\n",
       "      <td>0.000000</td>\n",
       "      <td>0.000000</td>\n",
       "      <td>0.000000</td>\n",
       "    </tr>\n",
       "    <tr>\n",
       "      <th>25%</th>\n",
       "      <td>48.000000</td>\n",
       "      <td>0.000000</td>\n",
       "      <td>0.000000</td>\n",
       "      <td>120.000000</td>\n",
       "      <td>211.00000</td>\n",
       "      <td>0.000000</td>\n",
       "      <td>0.000000</td>\n",
       "      <td>132.000000</td>\n",
       "      <td>0.000000</td>\n",
       "      <td>0.000000</td>\n",
       "      <td>1.000000</td>\n",
       "      <td>0.000000</td>\n",
       "      <td>2.000000</td>\n",
       "      <td>0.000000</td>\n",
       "    </tr>\n",
       "    <tr>\n",
       "      <th>50%</th>\n",
       "      <td>56.000000</td>\n",
       "      <td>1.000000</td>\n",
       "      <td>1.000000</td>\n",
       "      <td>130.000000</td>\n",
       "      <td>240.00000</td>\n",
       "      <td>0.000000</td>\n",
       "      <td>1.000000</td>\n",
       "      <td>152.000000</td>\n",
       "      <td>0.000000</td>\n",
       "      <td>0.800000</td>\n",
       "      <td>1.000000</td>\n",
       "      <td>0.000000</td>\n",
       "      <td>2.000000</td>\n",
       "      <td>1.000000</td>\n",
       "    </tr>\n",
       "    <tr>\n",
       "      <th>75%</th>\n",
       "      <td>61.000000</td>\n",
       "      <td>1.000000</td>\n",
       "      <td>2.000000</td>\n",
       "      <td>140.000000</td>\n",
       "      <td>275.00000</td>\n",
       "      <td>0.000000</td>\n",
       "      <td>1.000000</td>\n",
       "      <td>166.000000</td>\n",
       "      <td>1.000000</td>\n",
       "      <td>1.800000</td>\n",
       "      <td>2.000000</td>\n",
       "      <td>1.000000</td>\n",
       "      <td>3.000000</td>\n",
       "      <td>1.000000</td>\n",
       "    </tr>\n",
       "    <tr>\n",
       "      <th>max</th>\n",
       "      <td>77.000000</td>\n",
       "      <td>1.000000</td>\n",
       "      <td>3.000000</td>\n",
       "      <td>200.000000</td>\n",
       "      <td>564.00000</td>\n",
       "      <td>1.000000</td>\n",
       "      <td>2.000000</td>\n",
       "      <td>202.000000</td>\n",
       "      <td>1.000000</td>\n",
       "      <td>6.200000</td>\n",
       "      <td>2.000000</td>\n",
       "      <td>4.000000</td>\n",
       "      <td>3.000000</td>\n",
       "      <td>1.000000</td>\n",
       "    </tr>\n",
       "  </tbody>\n",
       "</table>\n",
       "</div>"
      ],
      "text/plain": [
       "               age          sex           cp     trestbps        chol  \\\n",
       "count  1025.000000  1025.000000  1025.000000  1025.000000  1025.00000   \n",
       "mean     54.434146     0.695610     0.942439   131.611707   246.00000   \n",
       "std       9.072290     0.460373     1.029641    17.516718    51.59251   \n",
       "min      29.000000     0.000000     0.000000    94.000000   126.00000   \n",
       "25%      48.000000     0.000000     0.000000   120.000000   211.00000   \n",
       "50%      56.000000     1.000000     1.000000   130.000000   240.00000   \n",
       "75%      61.000000     1.000000     2.000000   140.000000   275.00000   \n",
       "max      77.000000     1.000000     3.000000   200.000000   564.00000   \n",
       "\n",
       "               fbs      restecg      thalach        exang      oldpeak  \\\n",
       "count  1025.000000  1025.000000  1025.000000  1025.000000  1025.000000   \n",
       "mean      0.149268     0.529756   149.114146     0.336585     1.071512   \n",
       "std       0.356527     0.527878    23.005724     0.472772     1.175053   \n",
       "min       0.000000     0.000000    71.000000     0.000000     0.000000   \n",
       "25%       0.000000     0.000000   132.000000     0.000000     0.000000   \n",
       "50%       0.000000     1.000000   152.000000     0.000000     0.800000   \n",
       "75%       0.000000     1.000000   166.000000     1.000000     1.800000   \n",
       "max       1.000000     2.000000   202.000000     1.000000     6.200000   \n",
       "\n",
       "             slope           ca         thal       target  \n",
       "count  1025.000000  1025.000000  1025.000000  1025.000000  \n",
       "mean      1.385366     0.754146     2.323902     0.513171  \n",
       "std       0.617755     1.030798     0.620660     0.500070  \n",
       "min       0.000000     0.000000     0.000000     0.000000  \n",
       "25%       1.000000     0.000000     2.000000     0.000000  \n",
       "50%       1.000000     0.000000     2.000000     1.000000  \n",
       "75%       2.000000     1.000000     3.000000     1.000000  \n",
       "max       2.000000     4.000000     3.000000     1.000000  "
      ]
     },
     "execution_count": 6,
     "metadata": {},
     "output_type": "execute_result"
    }
   ],
   "source": [
    "#description about dataset\n",
    "df.describe()"
   ]
  },
  {
   "cell_type": "markdown",
   "metadata": {
    "id": "wF210dA7fdCG"
   },
   "source": [
    "## Checking null values"
   ]
  },
  {
   "cell_type": "code",
   "execution_count": 7,
   "metadata": {
    "colab": {
     "base_uri": "https://localhost:8080/"
    },
    "id": "TmlSS2jlfeMW",
    "outputId": "b9d08597-0100-45f4-da34-f57d7cddc5d1"
   },
   "outputs": [
    {
     "data": {
      "text/plain": [
       "age         0\n",
       "sex         0\n",
       "cp          0\n",
       "trestbps    0\n",
       "chol        0\n",
       "fbs         0\n",
       "restecg     0\n",
       "thalach     0\n",
       "exang       0\n",
       "oldpeak     0\n",
       "slope       0\n",
       "ca          0\n",
       "thal        0\n",
       "target      0\n",
       "dtype: int64"
      ]
     },
     "execution_count": 7,
     "metadata": {},
     "output_type": "execute_result"
    }
   ],
   "source": [
    "df.isnull().sum()"
   ]
  },
  {
   "cell_type": "markdown",
   "metadata": {
    "id": "zU2AZtfrfg9m"
   },
   "source": [
    "*Observation*: There are No null values in the dataset"
   ]
  },
  {
   "cell_type": "code",
   "execution_count": 8,
   "metadata": {
    "colab": {
     "base_uri": "https://localhost:8080/"
    },
    "id": "ABwl0iDUhJem",
    "outputId": "7b894c8a-d88e-4969-dd95-659ff65710e0"
   },
   "outputs": [
    {
     "name": "stdout",
     "output_type": "stream",
     "text": [
      "--------------------\n",
      "age : [52 53 70 61 62 58 55 46 54 71 43 34 51 50 60 67 45 63 42 44 56 57 59 64\n",
      " 65 41 66 38 49 48 29 37 47 68 76 40 39 77 69 35 74]\n",
      "--------------------\n",
      "sex : [1 0]\n",
      "--------------------\n",
      "cp : [0 1 2 3]\n",
      "--------------------\n",
      "trestbps : [125 140 145 148 138 100 114 160 120 122 112 132 118 128 124 106 104 135\n",
      " 130 136 180 129 150 178 146 117 152 154 170 134 174 144 108 123 110 142\n",
      " 126 192 115  94 200 165 102 105 155 172 164 156 101]\n",
      "--------------------\n",
      "chol : [212 203 174 294 248 318 289 249 286 149 341 210 298 204 308 266 244 211\n",
      " 185 223 208 252 209 307 233 319 256 327 169 131 269 196 231 213 271 263\n",
      " 229 360 258 330 342 226 228 278 230 283 241 175 188 217 193 245 232 299\n",
      " 288 197 315 215 164 326 207 177 257 255 187 201 220 268 267 236 303 282\n",
      " 126 309 186 275 281 206 335 218 254 295 417 260 240 302 192 225 325 235\n",
      " 274 234 182 167 172 321 300 199 564 157 304 222 184 354 160 247 239 246\n",
      " 409 293 180 250 221 200 227 243 311 261 242 205 306 219 353 198 394 183\n",
      " 237 224 265 313 340 259 270 216 264 276 322 214 273 253 176 284 305 168\n",
      " 407 290 277 262 195 166 178 141]\n",
      "--------------------\n",
      "fbs : [0 1]\n",
      "--------------------\n",
      "restecg : [1 0 2]\n",
      "--------------------\n",
      "thalach : [168 155 125 161 106 122 140 145 144 116 136 192 156 142 109 162 165 148\n",
      " 172 173 146 179 152 117 115 112 163 147 182 105 150 151 169 166 178 132\n",
      " 160 123 139 111 180 164 202 157 159 170 138 175 158 126 143 141 167  95\n",
      " 190 118 103 181 108 177 134 120 171 149 154 153  88 174 114 195 133  96\n",
      " 124 131 185 194 128 127 186 184 188 130  71 137  99 121 187  97  90 129\n",
      " 113]\n",
      "--------------------\n",
      "exang : [0 1]\n",
      "--------------------\n",
      "oldpeak : [1.  3.1 2.6 0.  1.9 4.4 0.8 3.2 1.6 3.  0.7 4.2 1.5 2.2 1.1 0.3 0.4 0.6\n",
      " 3.4 2.8 1.2 2.9 3.6 1.4 0.2 2.  5.6 0.9 1.8 6.2 4.  2.5 0.5 0.1 2.1 2.4\n",
      " 3.8 2.3 1.3 3.5]\n",
      "--------------------\n",
      "slope : [2 0 1]\n",
      "--------------------\n",
      "ca : [2 0 1 3 4]\n",
      "--------------------\n",
      "thal : [3 2 1 0]\n",
      "--------------------\n",
      "target : [0 1]\n"
     ]
    }
   ],
   "source": [
    "# unique values in the dataset\n",
    "\n",
    "for feature in df:\n",
    "    print(\"--------------------\")\n",
    "    print(f\"{feature} : {df[feature].unique()}\")"
   ]
  },
  {
   "cell_type": "code",
   "execution_count": 9,
   "metadata": {
    "colab": {
     "base_uri": "https://localhost:8080/",
     "height": 853
    },
    "id": "NuzlVBmCixE1",
    "outputId": "1b720fce-8047-4d78-92fb-7b7598a26f38"
   },
   "outputs": [
    {
     "data": {
      "image/png": "[encoded data removed]",
      "text/plain": [
       "<Figure size 1152x720 with 16 Axes>"
      ]
     },
     "metadata": {
      "needs_background": "light"
     },
     "output_type": "display_data"
    }
   ],
   "source": [
    "#Distribution of data in columns\n",
    "\n",
    "df.hist(figsize=(16, 10))\n",
    "plt.show()"
   ]
  },
  {
   "cell_type": "code",
   "execution_count": 10,
   "metadata": {
    "colab": {
     "base_uri": "https://localhost:8080/",
     "height": 682
    },
    "id": "JUZO2xqajFLN",
    "outputId": "6c64f6ba-d381-4374-de6e-65419f5d6cdd"
   },
   "outputs": [
    {
     "data": {
      "image/png": "[encoded data removed]",
      "text/plain": [
       "<Figure size 1296x576 with 2 Axes>"
      ]
     },
     "metadata": {
      "needs_background": "light"
     },
     "output_type": "display_data"
    }
   ],
   "source": [
    "# The correlation matrix measures the linear relationship between pairs of variables in the DataFrame.\n",
    "\n",
    "fig, ax = plt.subplots(figsize=(18, 8))\n",
    "\n",
    "# drawing the plot\n",
    "\n",
    "sns.heatmap(data=df.corr(),annot=True) # values of Pearson coefficient\n",
    "\n",
    "plt.show()"
   ]
  },
  {
   "cell_type": "code",
   "execution_count": 11,
   "metadata": {
    "colab": {
     "base_uri": "https://localhost:8080/"
    },
    "id": "GQSSQILKlfIV",
    "outputId": "66abce33-ee0f-4d51-ddf6-f34d81bd4fde"
   },
   "outputs": [
    {
     "name": "stdout",
     "output_type": "stream",
     "text": [
      "target      1.000000\n",
      "oldpeak     0.438441\n",
      "exang       0.438029\n",
      "cp          0.434854\n",
      "thalach     0.422895\n",
      "ca          0.382085\n",
      "slope       0.345512\n",
      "thal        0.337838\n",
      "sex         0.279501\n",
      "age         0.229324\n",
      "trestbps    0.138772\n",
      "restecg     0.134468\n",
      "chol        0.099966\n",
      "fbs         0.041164\n",
      "Name: target, dtype: float64\n"
     ]
    }
   ],
   "source": [
    "# correlation coefficients between the \"target\" variable and other variables\n",
    "print(df.corr()[\"target\"].abs().sort_values(ascending=False))"
   ]
  },
  {
   "cell_type": "markdown",
   "metadata": {
    "id": "2f64Nu6HlmWt"
   },
   "source": [
    "*Observation:*\n",
    "\n",
    "\"target\" has a correlation coefficient of 1. This indicates a perfect positive linear relationship between the \"target\" variable and itself, which is expected.\n",
    "\n",
    "\"oldpeak\" and \"exang\" (exercise-induced angina) have correlation coefficients of 0.438441 and 0.438029, respectively. These values indicate a moderately strong positive linear relationship with the \"target\" variable.\n",
    "\n",
    "\"cp\" (chest pain type) and \"thalach\" (maximum heart rate achieved) have correlation coefficients of 0.434854 and 0.422895, respectively. These variables also show a moderately strong positive linear relationship with the \"target\" variable.\n",
    "\n",
    "\"ca\" (number of major vessels) and \"slope\" have correlation coefficients of 0.382085 and 0.345512, respectively. These variables exhibit a moderate positive linear relationship with the \"target\" variable.\n",
    "\n",
    "\"thal\" (thalassemia), \"sex\", \"age\", \"trestbps\" (resting blood pressure), and \"restecg\" (resting electrocardiographic results) have correlation coefficients ranging from 0.337838 to 0.229324. These variables show a relatively weaker positive linear relationship with the \"target\" variable.\n",
    "\n",
    "\"chol\" (serum cholesterol) and \"fbs\" (fasting blood sugar) have correlation coefficients of 0.099966 and 0.041164, respectively. These variables have very weak positive linear relationships with the \"target\" variable."
   ]
  },
  {
   "cell_type": "code",
   "execution_count": 12,
   "metadata": {
    "colab": {
     "base_uri": "https://localhost:8080/"
    },
    "id": "YWDzNiulnGRh",
    "outputId": "fef1232f-b584-4b5d-8de2-077a42908474"
   },
   "outputs": [
    {
     "data": {
      "text/plain": [
       "1    526\n",
       "0    499\n",
       "Name: target, dtype: int64"
      ]
     },
     "execution_count": 12,
     "metadata": {},
     "output_type": "execute_result"
    }
   ],
   "source": [
    "df['target'].value_counts()"
   ]
  },
  {
   "cell_type": "code",
   "execution_count": 13,
   "metadata": {
    "colab": {
     "base_uri": "https://localhost:8080/",
     "height": 259
    },
    "id": "tLbYPOEunZjl",
    "outputId": "3c9b9c72-6983-4aaa-d17e-4c66c76b8dfc"
   },
   "outputs": [
    {
     "data": {
      "text/plain": [
       "<AxesSubplot:xlabel='count', ylabel='target'>"
      ]
     },
     "execution_count": 13,
     "metadata": {},
     "output_type": "execute_result"
    },
    {
     "data": {
      "image/png": "[encoded data removed]",
      "text/plain": [
       "<Figure size 720x144 with 1 Axes>"
      ]
     },
     "metadata": {
      "needs_background": "light"
     },
     "output_type": "display_data"
    }
   ],
   "source": [
    "column_name = 'target'\n",
    "\n",
    "# Create the horizontal countplot\n",
    "plt.figure(figsize=(10, 2))\n",
    "\n",
    "sns.set(style=\"whitegrid\")\n",
    "sns.countplot(data=df, y=column_name)"
   ]
  },
  {
   "cell_type": "markdown",
   "metadata": {
    "id": "FnFGw2a6nnPt"
   },
   "source": [
    "*Observation*: We have almost equal value counts of 0:NoHeart disease and 1:Heart disease in target column. Sample with Heart disease are relatively more."
   ]
  },
  {
   "cell_type": "markdown",
   "metadata": {
    "id": "Uz_xZsU-mPEt"
   },
   "source": [
    "# Model building"
   ]
  },
  {
   "cell_type": "code",
   "execution_count": 14,
   "metadata": {
    "id": "rtXk0SRfpDdn"
   },
   "outputs": [],
   "source": [
    "## Machine Learning libraries\n",
    "import sklearn\n",
    "from sklearn.model_selection import train_test_split, GridSearchCV\n",
    "from sklearn.preprocessing import StandardScaler\n",
    "\n",
    "from sklearn.decomposition import PCA\n",
    "from sklearn.svm import SVC\n",
    "from sklearn.tree import DecisionTreeClassifier\n",
    "from sklearn.ensemble import RandomForestClassifier, BaggingClassifier, ExtraTreesClassifier, VotingClassifier, AdaBoostClassifier, GradientBoostingClassifier\n",
    "from xgboost import XGBClassifier\n",
    "from sklearn.linear_model import LogisticRegression\n",
    "from sklearn.metrics import confusion_matrix, accuracy_score, precision_score, recall_score, roc_auc_score\n",
    "from sklearn.pipeline import Pipeline\n",
    "from sklearn.impute import SimpleImputer\n",
    "from sklearn.preprocessing import  StandardScaler\n",
    "from sklearn.compose import ColumnTransformer\n",
    "\n",
    "### To save the model\n",
    "import pickle"
   ]
  },
  {
   "cell_type": "markdown",
   "metadata": {
    "id": "TBm_m4mTofTu"
   },
   "source": [
    "# Train Test Split"
   ]
  },
  {
   "cell_type": "code",
   "execution_count": 15,
   "metadata": {
    "id": "1Ygb7ngRmS81"
   },
   "outputs": [],
   "source": [
    "X=df.iloc[:,:-1]\n",
    "y=df.iloc[:,-1]"
   ]
  },
  {
   "cell_type": "code",
   "execution_count": 16,
   "metadata": {
    "colab": {
     "base_uri": "https://localhost:8080/"
    },
    "id": "5BhsM11looC_",
    "outputId": "bc7b7b87-5dc1-4612-8176-08b345cfb404"
   },
   "outputs": [
    {
     "name": "stdout",
     "output_type": "stream",
     "text": [
      "X.shape=(1025, 13)\n",
      "y.shape=(1025,)\n"
     ]
    }
   ],
   "source": [
    "print(f\"{X.shape=}\")\n",
    "print(f\"{y.shape=}\")"
   ]
  },
  {
   "cell_type": "code",
   "execution_count": 17,
   "metadata": {
    "colab": {
     "base_uri": "https://localhost:8080/"
    },
    "id": "B-uQoVxluKmR",
    "outputId": "833fb9b4-83db-4a6c-a535-f09877726e1c"
   },
   "outputs": [
    {
     "name": "stdout",
     "output_type": "stream",
     "text": [
      "Continuous Features:\n",
      "['age', 'trestbps', 'chol', 'thalach', 'oldpeak']\n",
      "\n",
      "Categorical Features:\n",
      "['sex', 'cp', 'fbs', 'restecg', 'exang', 'slope', 'ca', 'thal']\n"
     ]
    }
   ],
   "source": [
    "# Initialize lists to store continuous and categorical feature names\n",
    "continuous_features = []\n",
    "categorical_features = []\n",
    "\n",
    "# Set the threshold for the number of unique values to differentiate\n",
    "unique_value_threshold = 6\n",
    "\n",
    "# Loop through the columns and categorize them based on unique values\n",
    "for column in X.columns:\n",
    "    unique_values = X[column].nunique()\n",
    "    if unique_values < unique_value_threshold:\n",
    "        categorical_features.append(column)\n",
    "    else:\n",
    "        continuous_features.append(column)\n",
    "\n",
    "print(\"Continuous Features:\")\n",
    "print(continuous_features)\n",
    "\n",
    "print(\"\\nCategorical Features:\")\n",
    "print(categorical_features)\n"
   ]
  },
  {
   "cell_type": "code",
   "execution_count": 18,
   "metadata": {
    "id": "PodrHoMhvv1k"
   },
   "outputs": [],
   "source": [
    "\n",
    "# Create a numerical pipeline for continuous features:\n",
    "num_pipeline = Pipeline(\n",
    "    steps=[\n",
    "        (\"imputer\", SimpleImputer(strategy=\"median\")),  # Impute missing values with median\n",
    "        (\"scaler\", StandardScaler())  # Scale features to have mean=0 and variance=1\n",
    "    ]\n",
    ")\n",
    "\n",
    "# Create a categorical pipeline for categorical features:\n",
    "cat_pipeline = Pipeline(\n",
    "    steps=[\n",
    "        (\"imputer\", SimpleImputer(strategy=\"most_frequent\"))  # Impute missing values with the most frequent value\n",
    "    ]\n",
    ")\n",
    "\n",
    "# Create a preprocessor using ColumnTransformer to handle both types of features:\n",
    "preprocessor = ColumnTransformer(\n",
    "    transformers=[\n",
    "        (\"num_pipeline\", num_pipeline, continuous_features),  # Apply num_pipeline to continuous features\n",
    "        (\"cat_pipelines\", cat_pipeline, categorical_features)  # Apply cat_pipeline to categorical features\n",
    "    ]\n",
    ")\n"
   ]
  },
  {
   "cell_type": "code",
   "execution_count": 19,
   "metadata": {
    "id": "sUbVMjzzxccb"
   },
   "outputs": [],
   "source": [
    "X = preprocessor.fit_transform(X)"
   ]
  },
  {
   "cell_type": "code",
   "execution_count": 20,
   "metadata": {
    "id": "TJuK0qrlpQsA"
   },
   "outputs": [],
   "source": [
    "X_train, X_test, y_train, y_test = train_test_split(X, y, test_size=0.30, random_state=1)"
   ]
  },
  {
   "cell_type": "code",
   "execution_count": 21,
   "metadata": {
    "colab": {
     "base_uri": "https://localhost:8080/"
    },
    "id": "S-Ydq4IEptpO",
    "outputId": "0024b5d1-3d97-4403-feb3-04e2d20f34ad"
   },
   "outputs": [
    {
     "name": "stdout",
     "output_type": "stream",
     "text": [
      "X_train.shape=(717, 13)\n",
      "y_train.shape=(717,)\n",
      "X_test.shape=(308, 13)\n",
      "y_test.shape=(308,)\n"
     ]
    }
   ],
   "source": [
    "print(f\"{X_train.shape=}\")\n",
    "print(f\"{y_train.shape=}\")\n",
    "\n",
    "print(f\"{X_test.shape=}\")\n",
    "print(f\"{y_test.shape=}\")"
   ]
  },
  {
   "cell_type": "code",
   "execution_count": 22,
   "metadata": {
    "id": "2Bvm9Cq1qEtV"
   },
   "outputs": [],
   "source": [
    "### Creating function that will evaluate model\n",
    "def model_evaluator(actual_val, pred_val):\n",
    "    \"\"\"\n",
    "    The function takes actual value and predicted value as argument\n",
    "    and returns Accuracy, Precision, Recall, F-1 Score rounded to\n",
    "    3 decimal places.\n",
    "    \"\"\"\n",
    "    acc=round(accuracy_score(actual_val, pred_val),5)\n",
    "    prec=round(precision_score(actual_val, pred_val),5)\n",
    "    rec=round(recall_score(actual_val, pred_val),5)\n",
    "    f1=round(2*prec*rec/(prec+rec),5)\n",
    "    roc_auc=round(roc_auc_score(actual_val, pred_val),5)\n",
    "    return acc, prec, rec, f1, roc_auc\n",
    "\n",
    "### creating dictionary containing model objects for different algorithmn\n",
    "models={\n",
    "    \"Logistic Regression\":LogisticRegression(),\n",
    "    \"Support Vector Classifier\":SVC(),\n",
    "    \"Decision Tree Classifier\":DecisionTreeClassifier(),\n",
    "    \"Random Forest Classifier\":RandomForestClassifier(),\n",
    "    \"Bagging Classifier\": BaggingClassifier(base_estimator=LogisticRegression()),\n",
    "    \"Extra Tree Classifier\": ExtraTreesClassifier(),\n",
    "    \"AdaBoost Classifier\": AdaBoostClassifier(),\n",
    "    \"GradientBoost Classifier\": GradientBoostingClassifier(),\n",
    "    \"XGBoost Classifier\": XGBClassifier()\n",
    "}\n",
    "\n",
    "\n",
    "\n",
    "### Creating function for model training\n",
    "def model_trainer(model, X_train_data, y_train_data, X_test_data):\n",
    "    \"\"\"\n",
    "    This function takes model object, X train data, y train data, and\n",
    "    X test data as argument, trains model and gives prediction for train data\n",
    "    and prediction for test data.\n",
    "    \"\"\"\n",
    "    model.fit(X_train_data, y_train_data)\n",
    "    y_train_pred=model.predict(X_train_data)\n",
    "    pred_val=model.predict(X_test_data)\n",
    "    return y_train_pred, pred_val"
   ]
  },
  {
   "cell_type": "code",
   "execution_count": 23,
   "metadata": {
    "colab": {
     "base_uri": "https://localhost:8080/"
    },
    "id": "HHLNYTedxw0f",
    "outputId": "8cc2ddcc-07c2-4535-d87c-9a689f6d852a",
    "scrolled": false
   },
   "outputs": [
    {
     "name": "stdout",
     "output_type": "stream",
     "text": [
      "Logistic Regression Model\n",
      "\n",
      "Model Performance for training dataset\n",
      "Accuracy score: 0.85635\n",
      "Precision Score: 0.83014\n",
      "Recall Score: 0.91557\n",
      "f1 Score: 0.87076\n",
      "Roc_Auc Score: 0.85275\n",
      "--------------------------------------------------\n",
      "Model Performance for Test dataset\n",
      "Accuracy score: 0.81169\n",
      "Precision Score: 0.74586\n",
      "Recall Score: 0.91837\n",
      "f1 Score: 0.82317\n",
      "Roc_Auc Score: 0.81633\n",
      "**************************************************\n",
      "\n",
      "\n",
      "Support Vector Classifier Model\n",
      "\n",
      "Model Performance for training dataset\n",
      "Accuracy score: 0.90934\n",
      "Precision Score: 0.8848\n",
      "Recall Score: 0.95251\n",
      "f1 Score: 0.91741\n",
      "Roc_Auc Score: 0.90673\n",
      "--------------------------------------------------\n",
      "Model Performance for Test dataset\n",
      "Accuracy score: 0.87013\n",
      "Precision Score: 0.80571\n",
      "Recall Score: 0.95918\n",
      "f1 Score: 0.87577\n",
      "Roc_Auc Score: 0.874\n",
      "**************************************************\n",
      "\n",
      "\n",
      "Decision Tree Classifier Model\n",
      "\n",
      "Model Performance for training dataset\n",
      "Accuracy score: 1.0\n",
      "Precision Score: 1.0\n",
      "Recall Score: 1.0\n",
      "f1 Score: 1.0\n",
      "Roc_Auc Score: 1.0\n",
      "--------------------------------------------------\n",
      "Model Performance for Test dataset\n",
      "Accuracy score: 0.99026\n",
      "Precision Score: 1.0\n",
      "Recall Score: 0.97959\n",
      "f1 Score: 0.98969\n",
      "Roc_Auc Score: 0.9898\n",
      "**************************************************\n",
      "\n",
      "\n",
      "Random Forest Classifier Model\n",
      "\n",
      "Model Performance for training dataset\n",
      "Accuracy score: 1.0\n",
      "Precision Score: 1.0\n",
      "Recall Score: 1.0\n",
      "f1 Score: 1.0\n",
      "Roc_Auc Score: 1.0\n",
      "--------------------------------------------------\n",
      "Model Performance for Test dataset\n",
      "Accuracy score: 0.98701\n",
      "Precision Score: 0.97351\n",
      "Recall Score: 1.0\n",
      "f1 Score: 0.98658\n",
      "Roc_Auc Score: 0.98758\n",
      "**************************************************\n",
      "\n",
      "\n",
      "Bagging Classifier Model\n",
      "\n",
      "Model Performance for training dataset\n",
      "Accuracy score: 0.85635\n",
      "Precision Score: 0.8399\n",
      "Recall Score: 0.89974\n",
      "f1 Score: 0.86879\n",
      "Roc_Auc Score: 0.85371\n",
      "--------------------------------------------------\n",
      "Model Performance for Test dataset\n",
      "Accuracy score: 0.81818\n",
      "Precision Score: 0.76301\n",
      "Recall Score: 0.89796\n",
      "f1 Score: 0.825\n",
      "Roc_Auc Score: 0.82165\n",
      "**************************************************\n",
      "\n",
      "\n",
      "Extra Tree Classifier Model\n",
      "\n",
      "Model Performance for training dataset\n",
      "Accuracy score: 1.0\n",
      "Precision Score: 1.0\n",
      "Recall Score: 1.0\n",
      "f1 Score: 1.0\n",
      "Roc_Auc Score: 1.0\n",
      "--------------------------------------------------\n",
      "Model Performance for Test dataset\n",
      "Accuracy score: 0.98701\n",
      "Precision Score: 0.97351\n",
      "Recall Score: 1.0\n",
      "f1 Score: 0.98658\n",
      "Roc_Auc Score: 0.98758\n",
      "**************************************************\n",
      "\n",
      "\n",
      "AdaBoost Classifier Model\n",
      "\n",
      "Model Performance for training dataset\n",
      "Accuracy score: 0.9219\n",
      "Precision Score: 0.92838\n",
      "Recall Score: 0.92348\n",
      "f1 Score: 0.92592\n",
      "Roc_Auc Score: 0.9218\n",
      "--------------------------------------------------\n",
      "Model Performance for Test dataset\n",
      "Accuracy score: 0.88961\n",
      "Precision Score: 0.85093\n",
      "Recall Score: 0.93197\n",
      "f1 Score: 0.88961\n",
      "Roc_Auc Score: 0.89145\n",
      "**************************************************\n",
      "\n",
      "\n",
      "GradientBoost Classifier Model\n",
      "\n",
      "Model Performance for training dataset\n",
      "Accuracy score: 0.99303\n",
      "Precision Score: 0.98698\n",
      "Recall Score: 1.0\n",
      "f1 Score: 0.99345\n",
      "Roc_Auc Score: 0.9926\n",
      "--------------------------------------------------\n",
      "Model Performance for Test dataset\n",
      "Accuracy score: 0.96429\n",
      "Precision Score: 0.93038\n",
      "Recall Score: 1.0\n",
      "f1 Score: 0.96393\n",
      "Roc_Auc Score: 0.96584\n",
      "**************************************************\n",
      "\n",
      "\n",
      "XGBoost Classifier Model\n",
      "\n",
      "Model Performance for training dataset\n",
      "Accuracy score: 1.0\n",
      "Precision Score: 1.0\n",
      "Recall Score: 1.0\n",
      "f1 Score: 1.0\n",
      "Roc_Auc Score: 1.0\n",
      "--------------------------------------------------\n",
      "Model Performance for Test dataset\n",
      "Accuracy score: 1.0\n",
      "Precision Score: 1.0\n",
      "Recall Score: 1.0\n",
      "f1 Score: 1.0\n",
      "Roc_Auc Score: 1.0\n",
      "**************************************************\n",
      "\n",
      "\n"
     ]
    }
   ],
   "source": [
    "### Creating empty list to store model names\n",
    "model_list=[]\n",
    "### creating empty list to store accuracy score for each model\n",
    "acc_score_list=[]\n",
    "### creating empty list for storing precision score\n",
    "prec_score_list=[]\n",
    "### creating list to store recall score\n",
    "recall_list=[]\n",
    "### creating list to store f1_score score\n",
    "f1_score_list=[]\n",
    "### creating list to store roc_auc score\n",
    "roc_auc_list=[]\n",
    "\n",
    "\n",
    "### Training all models and getting their performance and storing it in empty list\n",
    "for num in range(len(list(models))):\n",
    "    ### selecting model\n",
    "    model=list(models.values())[num]\n",
    "\n",
    "    ### getting training data prediction and test data prediction\n",
    "    y_pred, pred_val=model_trainer(model,X_train, y_train, X_test)\n",
    "\n",
    "    ### Getting model performance parameters for training data\n",
    "    acc_score, prec_score, rec_score, f1_score, roc_auc=model_evaluator(y_train,y_pred )\n",
    "    print(\"{} Model\\n\".format(list(models.keys())[num]))\n",
    "    print(\"Model Performance for training dataset\")\n",
    "    print(\"Accuracy score: {}\\nPrecision Score: {}\\nRecall Score: {}\\nf1 Score: {}\\nRoc_Auc Score: {}\".format(acc_score,prec_score, rec_score, f1_score, roc_auc))\n",
    "    print(\"-\"*50)\n",
    "\n",
    "    ### Getting model performance parameters for test data\n",
    "    acc_score, prec_score, rec_score, f1_score, roc_auc=model_evaluator(y_test,pred_val)\n",
    "    print(\"Model Performance for Test dataset\")\n",
    "    print(\"Accuracy score: {}\\nPrecision Score: {}\\nRecall Score: {}\\nf1 Score: {}\\nRoc_Auc Score: {}\".format(acc_score,prec_score, rec_score, f1_score, roc_auc))\n",
    "\n",
    "    ### Appending model name and Performance score in seperate list so that models can be sorted in terms of performance\n",
    "    model_list.append(list(models.keys())[num])\n",
    "    acc_score_list.append(acc_score)\n",
    "    prec_score_list.append(prec_score)\n",
    "    recall_list.append(rec_score)\n",
    "    f1_score_list.append(f1_score)\n",
    "    roc_auc_list.append(roc_auc)\n",
    "    print(\"*\"*50)\n",
    "    print(\"\\n\")"
   ]
  },
  {
   "cell_type": "code",
   "execution_count": 24,
   "metadata": {
    "colab": {
     "base_uri": "https://localhost:8080/",
     "height": 331
    },
    "id": "37A_JzC3y4i3",
    "outputId": "8a1b0348-61d0-4762-e865-704b53dc6b02"
   },
   "outputs": [
    {
     "data": {
      "text/html": [
       "<div>\n",
       "<style scoped>\n",
       "    .dataframe tbody tr th:only-of-type {\n",
       "        vertical-align: middle;\n",
       "    }\n",
       "\n",
       "    .dataframe tbody tr th {\n",
       "        vertical-align: top;\n",
       "    }\n",
       "\n",
       "    .dataframe thead th {\n",
       "        text-align: right;\n",
       "    }\n",
       "</style>\n",
       "<table border=\"1\" class=\"dataframe\">\n",
       "  <thead>\n",
       "    <tr style=\"text-align: right;\">\n",
       "      <th></th>\n",
       "      <th>Model</th>\n",
       "      <th>Accuracy</th>\n",
       "      <th>Precision</th>\n",
       "      <th>Recall</th>\n",
       "      <th>F1 Score</th>\n",
       "      <th>Roc_Auc Score</th>\n",
       "    </tr>\n",
       "  </thead>\n",
       "  <tbody>\n",
       "    <tr>\n",
       "      <th>0</th>\n",
       "      <td>Random Forest Classifier</td>\n",
       "      <td>0.98701</td>\n",
       "      <td>0.97351</td>\n",
       "      <td>1.00000</td>\n",
       "      <td>0.98658</td>\n",
       "      <td>0.98758</td>\n",
       "    </tr>\n",
       "    <tr>\n",
       "      <th>1</th>\n",
       "      <td>Extra Tree Classifier</td>\n",
       "      <td>0.98701</td>\n",
       "      <td>0.97351</td>\n",
       "      <td>1.00000</td>\n",
       "      <td>0.98658</td>\n",
       "      <td>0.98758</td>\n",
       "    </tr>\n",
       "    <tr>\n",
       "      <th>2</th>\n",
       "      <td>GradientBoost Classifier</td>\n",
       "      <td>0.96429</td>\n",
       "      <td>0.93038</td>\n",
       "      <td>1.00000</td>\n",
       "      <td>0.96393</td>\n",
       "      <td>0.96584</td>\n",
       "    </tr>\n",
       "    <tr>\n",
       "      <th>3</th>\n",
       "      <td>XGBoost Classifier</td>\n",
       "      <td>1.00000</td>\n",
       "      <td>1.00000</td>\n",
       "      <td>1.00000</td>\n",
       "      <td>1.00000</td>\n",
       "      <td>1.00000</td>\n",
       "    </tr>\n",
       "    <tr>\n",
       "      <th>4</th>\n",
       "      <td>Decision Tree Classifier</td>\n",
       "      <td>0.99026</td>\n",
       "      <td>1.00000</td>\n",
       "      <td>0.97959</td>\n",
       "      <td>0.98969</td>\n",
       "      <td>0.98980</td>\n",
       "    </tr>\n",
       "    <tr>\n",
       "      <th>5</th>\n",
       "      <td>Support Vector Classifier</td>\n",
       "      <td>0.87013</td>\n",
       "      <td>0.80571</td>\n",
       "      <td>0.95918</td>\n",
       "      <td>0.87577</td>\n",
       "      <td>0.87400</td>\n",
       "    </tr>\n",
       "    <tr>\n",
       "      <th>6</th>\n",
       "      <td>AdaBoost Classifier</td>\n",
       "      <td>0.88961</td>\n",
       "      <td>0.85093</td>\n",
       "      <td>0.93197</td>\n",
       "      <td>0.88961</td>\n",
       "      <td>0.89145</td>\n",
       "    </tr>\n",
       "    <tr>\n",
       "      <th>7</th>\n",
       "      <td>Logistic Regression</td>\n",
       "      <td>0.81169</td>\n",
       "      <td>0.74586</td>\n",
       "      <td>0.91837</td>\n",
       "      <td>0.82317</td>\n",
       "      <td>0.81633</td>\n",
       "    </tr>\n",
       "    <tr>\n",
       "      <th>8</th>\n",
       "      <td>Bagging Classifier</td>\n",
       "      <td>0.81818</td>\n",
       "      <td>0.76301</td>\n",
       "      <td>0.89796</td>\n",
       "      <td>0.82500</td>\n",
       "      <td>0.82165</td>\n",
       "    </tr>\n",
       "  </tbody>\n",
       "</table>\n",
       "</div>"
      ],
      "text/plain": [
       "                       Model  Accuracy  Precision   Recall  F1 Score  \\\n",
       "0   Random Forest Classifier   0.98701    0.97351  1.00000   0.98658   \n",
       "1      Extra Tree Classifier   0.98701    0.97351  1.00000   0.98658   \n",
       "2   GradientBoost Classifier   0.96429    0.93038  1.00000   0.96393   \n",
       "3         XGBoost Classifier   1.00000    1.00000  1.00000   1.00000   \n",
       "4   Decision Tree Classifier   0.99026    1.00000  0.97959   0.98969   \n",
       "5  Support Vector Classifier   0.87013    0.80571  0.95918   0.87577   \n",
       "6        AdaBoost Classifier   0.88961    0.85093  0.93197   0.88961   \n",
       "7        Logistic Regression   0.81169    0.74586  0.91837   0.82317   \n",
       "8         Bagging Classifier   0.81818    0.76301  0.89796   0.82500   \n",
       "\n",
       "   Roc_Auc Score  \n",
       "0        0.98758  \n",
       "1        0.98758  \n",
       "2        0.96584  \n",
       "3        1.00000  \n",
       "4        0.98980  \n",
       "5        0.87400  \n",
       "6        0.89145  \n",
       "7        0.81633  \n",
       "8        0.82165  "
      ]
     },
     "execution_count": 24,
     "metadata": {},
     "output_type": "execute_result"
    }
   ],
   "source": [
    "### Tabulating model performance in dataframe\n",
    "### Sorting the model based on Recall as this is a health related problem statement\n",
    "### So our main objective is to reduce False Negatives which may lead to serious medical complications.\n",
    "### False Negative => The person has cancer but model prediction is Negative(No Cancer).\n",
    "model_perf=pd.DataFrame(list(zip(model_list, acc_score_list,prec_score_list, recall_list,f1_score_list, roc_auc_list)), columns=['Model', 'Accuracy', 'Precision', 'Recall', 'F1 Score', 'Roc_Auc Score']).sort_values(by=['Recall'], ascending=False,).reset_index()\n",
    "model_perf.drop('index', axis=1, inplace=True)\n",
    "model_perf"
   ]
  },
  {
   "cell_type": "code",
   "execution_count": 25,
   "metadata": {
    "colab": {
     "base_uri": "https://localhost:8080/",
     "height": 248
    },
    "id": "quX7SD2UzRMR",
    "outputId": "1c7447b7-c955-4af2-8644-fe44b819bb89"
   },
   "outputs": [
    {
     "data": {
      "text/html": [
       "<style>#sk-container-id-1 {color: black;background-color: white;}#sk-container-id-1 pre{padding: 0;}#sk-container-id-1 div.sk-toggleable {background-color: white;}#sk-container-id-1 label.sk-toggleable__label {cursor: pointer;display: block;width: 100%;margin-bottom: 0;padding: 0.3em;box-sizing: border-box;text-align: center;}#sk-container-id-1 label.sk-toggleable__label-arrow:before {content: \"▸\";float: left;margin-right: 0.25em;color: #696969;}#sk-container-id-1 label.sk-toggleable__label-arrow:hover:before {color: black;}#sk-container-id-1 div.sk-estimator:hover label.sk-toggleable__label-arrow:before {color: black;}#sk-container-id-1 div.sk-toggleable__content {max-height: 0;max-width: 0;overflow: hidden;text-align: left;background-color: #f0f8ff;}#sk-container-id-1 div.sk-toggleable__content pre {margin: 0.2em;color: black;border-radius: 0.25em;background-color: #f0f8ff;}#sk-container-id-1 input.sk-toggleable__control:checked~div.sk-toggleable__content {max-height: 200px;max-width: 100%;overflow: auto;}#sk-container-id-1 input.sk-toggleable__control:checked~label.sk-toggleable__label-arrow:before {content: \"▾\";}#sk-container-id-1 div.sk-estimator input.sk-toggleable__control:checked~label.sk-toggleable__label {background-color: #d4ebff;}#sk-container-id-1 div.sk-label input.sk-toggleable__control:checked~label.sk-toggleable__label {background-color: #d4ebff;}#sk-container-id-1 input.sk-hidden--visually {border: 0;clip: rect(1px 1px 1px 1px);clip: rect(1px, 1px, 1px, 1px);height: 1px;margin: -1px;overflow: hidden;padding: 0;position: absolute;width: 1px;}#sk-container-id-1 div.sk-estimator {font-family: monospace;background-color: #f0f8ff;border: 1px dotted black;border-radius: 0.25em;box-sizing: border-box;margin-bottom: 0.5em;}#sk-container-id-1 div.sk-estimator:hover {background-color: #d4ebff;}#sk-container-id-1 div.sk-parallel-item::after {content: \"\";width: 100%;border-bottom: 1px solid gray;flex-grow: 1;}#sk-container-id-1 div.sk-label:hover label.sk-toggleable__label {background-color: #d4ebff;}#sk-container-id-1 div.sk-serial::before {content: \"\";position: absolute;border-left: 1px solid gray;box-sizing: border-box;top: 0;bottom: 0;left: 50%;z-index: 0;}#sk-container-id-1 div.sk-serial {display: flex;flex-direction: column;align-items: center;background-color: white;padding-right: 0.2em;padding-left: 0.2em;position: relative;}#sk-container-id-1 div.sk-item {position: relative;z-index: 1;}#sk-container-id-1 div.sk-parallel {display: flex;align-items: stretch;justify-content: center;background-color: white;position: relative;}#sk-container-id-1 div.sk-item::before, #sk-container-id-1 div.sk-parallel-item::before {content: \"\";position: absolute;border-left: 1px solid gray;box-sizing: border-box;top: 0;bottom: 0;left: 50%;z-index: -1;}#sk-container-id-1 div.sk-parallel-item {display: flex;flex-direction: column;z-index: 1;position: relative;background-color: white;}#sk-container-id-1 div.sk-parallel-item:first-child::after {align-self: flex-end;width: 50%;}#sk-container-id-1 div.sk-parallel-item:last-child::after {align-self: flex-start;width: 50%;}#sk-container-id-1 div.sk-parallel-item:only-child::after {width: 0;}#sk-container-id-1 div.sk-dashed-wrapped {border: 1px dashed gray;margin: 0 0.4em 0.5em 0.4em;box-sizing: border-box;padding-bottom: 0.4em;background-color: white;}#sk-container-id-1 div.sk-label label {font-family: monospace;font-weight: bold;display: inline-block;line-height: 1.2em;}#sk-container-id-1 div.sk-label-container {text-align: center;}#sk-container-id-1 div.sk-container {/* jupyter's `normalize.less` sets `[hidden] { display: none; }` but bootstrap.min.css set `[hidden] { display: none !important; }` so we also need the `!important` here to be able to override the default hidden behavior on the sphinx rendered scikit-learn.org. See: https://github.com/scikit-learn/scikit-learn/issues/21755 */display: inline-block !important;position: relative;}#sk-container-id-1 div.sk-text-repr-fallback {display: none;}</style><div id=\"sk-container-id-1\" class=\"sk-top-container\"><div class=\"sk-text-repr-fallback\"><pre>XGBClassifier(base_score=0.5, booster=&#x27;gbtree&#x27;, callbacks=None,\n",
       "              colsample_bylevel=1, colsample_bynode=1, colsample_bytree=1,\n",
       "              early_stopping_rounds=None, enable_categorical=False,\n",
       "              eval_metric=None, gamma=0, gpu_id=-1, grow_policy=&#x27;depthwise&#x27;,\n",
       "              importance_type=None, interaction_constraints=&#x27;&#x27;,\n",
       "              learning_rate=0.300000012, max_bin=256, max_cat_to_onehot=4,\n",
       "              max_delta_step=0, max_depth=6, max_leaves=0, min_child_weight=1,\n",
       "              missing=nan, monotone_constraints=&#x27;()&#x27;, n_estimators=100,\n",
       "              n_jobs=0, num_parallel_tree=1, predictor=&#x27;auto&#x27;, random_state=0,\n",
       "              reg_alpha=0, reg_lambda=1, ...)</pre><b>In a Jupyter environment, please rerun this cell to show the HTML representation or trust the notebook. <br />On GitHub, the HTML representation is unable to render, please try loading this page with nbviewer.org.</b></div><div class=\"sk-container\" hidden><div class=\"sk-item\"><div class=\"sk-estimator sk-toggleable\"><input class=\"sk-toggleable__control sk-hidden--visually\" id=\"sk-estimator-id-1\" type=\"checkbox\" checked><label for=\"sk-estimator-id-1\" class=\"sk-toggleable__label sk-toggleable__label-arrow\">XGBClassifier</label><div class=\"sk-toggleable__content\"><pre>XGBClassifier(base_score=0.5, booster=&#x27;gbtree&#x27;, callbacks=None,\n",
       "              colsample_bylevel=1, colsample_bynode=1, colsample_bytree=1,\n",
       "              early_stopping_rounds=None, enable_categorical=False,\n",
       "              eval_metric=None, gamma=0, gpu_id=-1, grow_policy=&#x27;depthwise&#x27;,\n",
       "              importance_type=None, interaction_constraints=&#x27;&#x27;,\n",
       "              learning_rate=0.300000012, max_bin=256, max_cat_to_onehot=4,\n",
       "              max_delta_step=0, max_depth=6, max_leaves=0, min_child_weight=1,\n",
       "              missing=nan, monotone_constraints=&#x27;()&#x27;, n_estimators=100,\n",
       "              n_jobs=0, num_parallel_tree=1, predictor=&#x27;auto&#x27;, random_state=0,\n",
       "              reg_alpha=0, reg_lambda=1, ...)</pre></div></div></div></div></div>"
      ],
      "text/plain": [
       "XGBClassifier(base_score=0.5, booster='gbtree', callbacks=None,\n",
       "              colsample_bylevel=1, colsample_bynode=1, colsample_bytree=1,\n",
       "              early_stopping_rounds=None, enable_categorical=False,\n",
       "              eval_metric=None, gamma=0, gpu_id=-1, grow_policy='depthwise',\n",
       "              importance_type=None, interaction_constraints='',\n",
       "              learning_rate=0.300000012, max_bin=256, max_cat_to_onehot=4,\n",
       "              max_delta_step=0, max_depth=6, max_leaves=0, min_child_weight=1,\n",
       "              missing=nan, monotone_constraints='()', n_estimators=100,\n",
       "              n_jobs=0, num_parallel_tree=1, predictor='auto', random_state=0,\n",
       "              reg_alpha=0, reg_lambda=1, ...)"
      ]
     },
     "execution_count": 25,
     "metadata": {},
     "output_type": "execute_result"
    }
   ],
   "source": [
    "from xgboost import XGBClassifier\n",
    "\n",
    "xgb_model = XGBClassifier()\n",
    "\n",
    "xgb_model.fit(X_train, y_train)"
   ]
  },
  {
   "cell_type": "code",
   "execution_count": 26,
   "metadata": {
    "id": "HIDrc0bd0XHb"
   },
   "outputs": [],
   "source": [
    "# Prediction on test data\n",
    "y_pred = xgb_model.predict(X_test)"
   ]
  },
  {
   "cell_type": "code",
   "execution_count": 27,
   "metadata": {
    "colab": {
     "base_uri": "https://localhost:8080/"
    },
    "id": "UcfJl5Al0YHK",
    "outputId": "b31435a7-e47d-4835-845b-5424bf5557f5"
   },
   "outputs": [
    {
     "name": "stdout",
     "output_type": "stream",
     "text": [
      "Accuracy on train data 1.0\n",
      "Accuracy on text data :  1\n"
     ]
    }
   ],
   "source": [
    "# Calculating the accuracy\n",
    "print(\"Accuracy on train data\",accuracy_score(y_train, xgb_model.predict(X_train)))\n",
    "\n",
    "acc_xgb = round( accuracy_score(y_test, y_pred))\n",
    "\n",
    "print( 'Accuracy on text data : ', acc_xgb )"
   ]
  },
  {
   "cell_type": "code",
   "execution_count": 28,
   "metadata": {
    "colab": {
     "base_uri": "https://localhost:8080/"
    },
    "id": "ueIPiXd903Z9",
    "outputId": "3119f110-aa38-43cb-a3d7-94c76ebfc674"
   },
   "outputs": [
    {
     "data": {
      "text/plain": [
       "array([[161,   0],\n",
       "       [  0, 147]], dtype=int64)"
      ]
     },
     "execution_count": 28,
     "metadata": {},
     "output_type": "execute_result"
    }
   ],
   "source": [
    "cm = confusion_matrix(y_pred, y_test)\n",
    "cm"
   ]
  },
  {
   "cell_type": "code",
   "execution_count": 29,
   "metadata": {
    "colab": {
     "base_uri": "https://localhost:8080/",
     "height": 297
    },
    "id": "Y_szSXnv05r6",
    "outputId": "1f745585-8dac-4925-caaf-0eba135a15e8"
   },
   "outputs": [
    {
     "data": {
      "image/png": "[encoded data removed]",
      "text/plain": [
       "<Figure size 216x216 with 2 Axes>"
      ]
     },
     "metadata": {},
     "output_type": "display_data"
    }
   ],
   "source": [
    "from sklearn.metrics import confusion_matrix\n",
    "from sklearn.metrics import ConfusionMatrixDisplay\n",
    "# Calculate the confusion matrix\n",
    "cm = confusion_matrix(y_pred, y_test, labels=xgb_model.classes_)\n",
    "\n",
    "# Create a smaller figure with the desired size\n",
    "plt.figure(figsize=(3, 3))  # Adjust the width and height as needed\n",
    "\n",
    "# Create the ConfusionMatrixDisplay object\n",
    "disp = ConfusionMatrixDisplay(confusion_matrix=cm, display_labels=xgb_model.classes_)\n",
    "\n",
    "# Get the current axes and set the size within the axes\n",
    "ax = plt.gca()\n",
    "disp.plot(ax=ax)\n",
    "plt.show()"
   ]
  },
  {
   "cell_type": "code",
   "execution_count": 30,
   "metadata": {
    "colab": {
     "base_uri": "https://localhost:8080/"
    },
    "id": "grhVZ1Q_08Hc",
    "outputId": "b380a36e-bd5f-467a-9e6a-9869d3348ce0"
   },
   "outputs": [
    {
     "name": "stdout",
     "output_type": "stream",
     "text": [
      "Extreme Gradient boost Classification report\n",
      "              precision    recall  f1-score   support\n",
      "\n",
      "           0       1.00      1.00      1.00       161\n",
      "           1       1.00      1.00      1.00       147\n",
      "\n",
      "    accuracy                           1.00       308\n",
      "   macro avg       1.00      1.00      1.00       308\n",
      "weighted avg       1.00      1.00      1.00       308\n",
      "\n"
     ]
    }
   ],
   "source": [
    "# Getting metrices for the models\n",
    "from sklearn.metrics import classification_report\n",
    "\n",
    "print(\"Extreme Gradient boost Classification report\")\n",
    "print( classification_report(y_test, y_pred))"
   ]
  },
  {
   "cell_type": "code",
   "execution_count": 31,
   "metadata": {
    "colab": {
     "base_uri": "https://localhost:8080/",
     "height": 645
    },
    "id": "iT1dSG2C6hnS",
    "outputId": "f8925317-54b4-4d4b-9e9d-d16f7f2c9683"
   },
   "outputs": [
    {
     "name": "stderr",
     "output_type": "stream",
     "text": [
      "C:\\Users\\Lenovo\\AppData\\Local\\Temp\\ipykernel_1684\\3275515869.py:15: UserWarning: color is redundantly defined by the 'color' keyword argument and the fmt string \"k--\" (-> color='k'). The keyword argument will take precedence.\n",
      "  plt.plot([0, 1], [0, 1], 'k--', color='gray')\n"
     ]
    },
    {
     "data": {
      "image/png": "[encoded data removed]",
      "text/plain": [
       "<Figure size 576x432 with 1 Axes>"
      ]
     },
     "metadata": {},
     "output_type": "display_data"
    },
    {
     "name": "stdout",
     "output_type": "stream",
     "text": [
      "AUC Score: 1.00\n"
     ]
    }
   ],
   "source": [
    "\n",
    "from sklearn.metrics import roc_auc_score, roc_curve\n",
    "\n",
    "\n",
    "# Make predictions on the test data\n",
    "y_pred_proba = xgb_model.predict_proba(X_test)[:, 1]\n",
    "\n",
    "# Calculate the AUC score\n",
    "auc_score = roc_auc_score(y_test, y_pred_proba)\n",
    "\n",
    "# Plot the ROC curve\n",
    "fpr, tpr, thresholds = roc_curve(y_test, y_pred_proba)\n",
    "\n",
    "plt.figure(figsize=(8, 6))\n",
    "plt.plot(fpr, tpr, label=f'AUC = {auc_score:.2f}')\n",
    "plt.plot([0, 1], [0, 1], 'k--', color='gray')\n",
    "plt.xlim([0.0, 1.0])\n",
    "plt.ylim([0.0, 1.05])\n",
    "plt.xlabel('False Positive Rate')\n",
    "plt.ylabel('True Positive Rate')\n",
    "plt.title('ROC Curve')\n",
    "plt.legend(loc='lower right')\n",
    "plt.show()\n",
    "\n",
    "print(f'AUC Score: {auc_score:.2f}')\n"
   ]
  },
  {
   "cell_type": "code",
   "execution_count": 32,
   "metadata": {
    "id": "8PRF0I9R3hdD"
   },
   "outputs": [],
   "source": [
    "import pickle\n",
    "\n",
    "# Save the XGBoost model to a file\n",
    "with open('model_heart.sav', 'wb') as f:\n",
    "    pickle.dump(xgb_model, f)\n"
   ]
  },
  {
   "cell_type": "markdown",
   "metadata": {},
   "source": [
    "## Making predictions"
   ]
  },
  {
   "cell_type": "code",
   "execution_count": 36,
   "metadata": {},
   "outputs": [
    {
     "name": "stdout",
     "output_type": "stream",
     "text": [
      "[1]\n"
     ]
    }
   ],
   "source": [
    "# Positive disease prediction\n",
    "\n",
    "# Load the pickled model from the file\n",
    "with open('model_heart.sav', 'rb') as f:\n",
    "    loaded_model = pickle.load(f)\n",
    "\n",
    "# Assuming you have a feature vector `X_new` for prediction\n",
    "X_new = np.array([58,1,2,140,211,1,0,165,0,0.0,2,0,2]).reshape(1, -1)\n",
    "\n",
    "# Make predictions using the loaded model\n",
    "y_pred = loaded_model.predict(X_new)\n",
    "\n",
    "# Print or use the predictions as needed\n",
    "print(y_pred)\n"
   ]
  },
  {
   "cell_type": "code",
   "execution_count": 34,
   "metadata": {},
   "outputs": [
    {
     "name": "stdout",
     "output_type": "stream",
     "text": [
      "[0]\n"
     ]
    }
   ],
   "source": [
    "# Negative disease prediction\n",
    "\n",
    "# Load the pickled model from the file\n",
    "with open('model_heart.sav', 'rb') as f:\n",
    "    loaded_model = pickle.load(f)\n",
    "\n",
    "# Assuming you have a feature vector `X_new` for prediction\n",
    "X_n = np.array([58,0,0,100,248,0,0,122,0,1.0,1,0,2]).reshape(1, -1)\n",
    "\n",
    "# Make predictions using the loaded model\n",
    "y_pred = loaded_model.predict(X_n)\n",
    "\n",
    "# Print or use the predictions as needed\n",
    "print(y_pred)"
   ]
  },
  {
   "cell_type": "markdown",
   "metadata": {
    "id": "M1er79Er6yrA"
   },
   "source": [
    "Conclusion:\n",
    "\n",
    "In conclusion, the project successfully achieved its objective of developing a heart disease classification model. The dataset required minimal preprocessing, and the focus was on optimizing the model for recall. By prioritizing recall, the model was designed to minimize the risk of false negatives, which is critical in medical applications where missing potential cases of heart disease could have severe consequences.\n",
    "\n",
    "The optimized model was saved and can be readily deployed for future predictions. Overall, the project followed best practices in data analysis, preprocessing, and machine learning model development, ensuring a reliable predictive tool for heart disease classification."
   ]
  }
 ],
 "metadata": {
  "colab": {
   "provenance": []
  },
  "kernelspec": {
   "display_name": "Python 3 (ipykernel)",
   "language": "python",
   "name": "python3"
  },
  "language_info": {
   "codemirror_mode": {
    "name": "ipython",
    "version": 3
   },
   "file_extension": ".py",
   "mimetype": "text/x-python",
   "name": "python",
   "nbconvert_exporter": "python",
   "pygments_lexer": "ipython3",
   "version": "3.9.12"
  }
 },
 "nbformat": 4,
 "nbformat_minor": 1
}
