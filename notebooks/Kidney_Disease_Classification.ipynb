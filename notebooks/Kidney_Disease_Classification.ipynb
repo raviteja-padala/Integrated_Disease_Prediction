{
 "cells": [
  {
   "cell_type": "markdown",
   "metadata": {},
   "source": [
    "#### Raviteja Padala\n",
    "<img align=\"left\" img src= in.png height = 20 width=\"20\"/>   https://www.linkedin.com/in/raviteja-padala/ <br>\n",
    "\n",
    "<img align=\"left\" img src= github.png height = 20 width=\"20\"/> https://github.com/raviteja-padala\n"
   ]
  },
  {
   "cell_type": "markdown",
   "metadata": {},
   "source": [
    "# Kidney_Disease_Classification"
   ]
  },
  {
   "cell_type": "markdown",
   "metadata": {
    "id": "jWWH3mH30Zan"
   },
   "source": [
    "### Objective:\n",
    "\n",
    "The objective of this analysis was to understand and preprocess the Kidney Disease Classification dataset. This dataset contains medical information, and the goal was to prepare it for building a classification model for kidney disease classification."
   ]
  },
  {
   "cell_type": "code",
   "execution_count": 256,
   "metadata": {
    "id": "e2NBe85If9lQ"
   },
   "outputs": [],
   "source": [
    "#importing libraries to perfom analysis\n",
    "import pandas as pd\n",
    "import numpy as np\n",
    "import seaborn as sns\n",
    "import matplotlib.pyplot as plt\n",
    "%matplotlib inline"
   ]
  },
  {
   "cell_type": "code",
   "execution_count": 257,
   "metadata": {
    "id": "80fwTMRagJHn"
   },
   "outputs": [],
   "source": [
    "df = pd.read_csv(\"https://raw.githubusercontent.com/raviteja-padala/Datasets/main/kidney_disease.csv\")"
   ]
  },
  {
   "cell_type": "code",
   "execution_count": 258,
   "metadata": {
    "colab": {
     "base_uri": "https://localhost:8080/",
     "height": 235
    },
    "id": "rL2kUtG-ggPP",
    "outputId": "fe70bfaa-ecbf-48a6-ae08-9c5465624e8b"
   },
   "outputs": [
    {
     "data": {
      "text/html": [
       "<div>\n",
       "<style scoped>\n",
       "    .dataframe tbody tr th:only-of-type {\n",
       "        vertical-align: middle;\n",
       "    }\n",
       "\n",
       "    .dataframe tbody tr th {\n",
       "        vertical-align: top;\n",
       "    }\n",
       "\n",
       "    .dataframe thead th {\n",
       "        text-align: right;\n",
       "    }\n",
       "</style>\n",
       "<table border=\"1\" class=\"dataframe\">\n",
       "  <thead>\n",
       "    <tr style=\"text-align: right;\">\n",
       "      <th></th>\n",
       "      <th>id</th>\n",
       "      <th>age</th>\n",
       "      <th>bp</th>\n",
       "      <th>sg</th>\n",
       "      <th>al</th>\n",
       "      <th>su</th>\n",
       "      <th>rbc</th>\n",
       "      <th>pc</th>\n",
       "      <th>pcc</th>\n",
       "      <th>ba</th>\n",
       "      <th>...</th>\n",
       "      <th>pcv</th>\n",
       "      <th>wc</th>\n",
       "      <th>rc</th>\n",
       "      <th>htn</th>\n",
       "      <th>dm</th>\n",
       "      <th>cad</th>\n",
       "      <th>appet</th>\n",
       "      <th>pe</th>\n",
       "      <th>ane</th>\n",
       "      <th>classification</th>\n",
       "    </tr>\n",
       "  </thead>\n",
       "  <tbody>\n",
       "    <tr>\n",
       "      <th>0</th>\n",
       "      <td>0</td>\n",
       "      <td>48.0</td>\n",
       "      <td>80.0</td>\n",
       "      <td>1.020</td>\n",
       "      <td>1.0</td>\n",
       "      <td>0.0</td>\n",
       "      <td>NaN</td>\n",
       "      <td>normal</td>\n",
       "      <td>notpresent</td>\n",
       "      <td>notpresent</td>\n",
       "      <td>...</td>\n",
       "      <td>44</td>\n",
       "      <td>7800</td>\n",
       "      <td>5.2</td>\n",
       "      <td>yes</td>\n",
       "      <td>yes</td>\n",
       "      <td>no</td>\n",
       "      <td>good</td>\n",
       "      <td>no</td>\n",
       "      <td>no</td>\n",
       "      <td>ckd</td>\n",
       "    </tr>\n",
       "    <tr>\n",
       "      <th>1</th>\n",
       "      <td>1</td>\n",
       "      <td>7.0</td>\n",
       "      <td>50.0</td>\n",
       "      <td>1.020</td>\n",
       "      <td>4.0</td>\n",
       "      <td>0.0</td>\n",
       "      <td>NaN</td>\n",
       "      <td>normal</td>\n",
       "      <td>notpresent</td>\n",
       "      <td>notpresent</td>\n",
       "      <td>...</td>\n",
       "      <td>38</td>\n",
       "      <td>6000</td>\n",
       "      <td>NaN</td>\n",
       "      <td>no</td>\n",
       "      <td>no</td>\n",
       "      <td>no</td>\n",
       "      <td>good</td>\n",
       "      <td>no</td>\n",
       "      <td>no</td>\n",
       "      <td>ckd</td>\n",
       "    </tr>\n",
       "    <tr>\n",
       "      <th>2</th>\n",
       "      <td>2</td>\n",
       "      <td>62.0</td>\n",
       "      <td>80.0</td>\n",
       "      <td>1.010</td>\n",
       "      <td>2.0</td>\n",
       "      <td>3.0</td>\n",
       "      <td>normal</td>\n",
       "      <td>normal</td>\n",
       "      <td>notpresent</td>\n",
       "      <td>notpresent</td>\n",
       "      <td>...</td>\n",
       "      <td>31</td>\n",
       "      <td>7500</td>\n",
       "      <td>NaN</td>\n",
       "      <td>no</td>\n",
       "      <td>yes</td>\n",
       "      <td>no</td>\n",
       "      <td>poor</td>\n",
       "      <td>no</td>\n",
       "      <td>yes</td>\n",
       "      <td>ckd</td>\n",
       "    </tr>\n",
       "    <tr>\n",
       "      <th>3</th>\n",
       "      <td>3</td>\n",
       "      <td>48.0</td>\n",
       "      <td>70.0</td>\n",
       "      <td>1.005</td>\n",
       "      <td>4.0</td>\n",
       "      <td>0.0</td>\n",
       "      <td>normal</td>\n",
       "      <td>abnormal</td>\n",
       "      <td>present</td>\n",
       "      <td>notpresent</td>\n",
       "      <td>...</td>\n",
       "      <td>32</td>\n",
       "      <td>6700</td>\n",
       "      <td>3.9</td>\n",
       "      <td>yes</td>\n",
       "      <td>no</td>\n",
       "      <td>no</td>\n",
       "      <td>poor</td>\n",
       "      <td>yes</td>\n",
       "      <td>yes</td>\n",
       "      <td>ckd</td>\n",
       "    </tr>\n",
       "    <tr>\n",
       "      <th>4</th>\n",
       "      <td>4</td>\n",
       "      <td>51.0</td>\n",
       "      <td>80.0</td>\n",
       "      <td>1.010</td>\n",
       "      <td>2.0</td>\n",
       "      <td>0.0</td>\n",
       "      <td>normal</td>\n",
       "      <td>normal</td>\n",
       "      <td>notpresent</td>\n",
       "      <td>notpresent</td>\n",
       "      <td>...</td>\n",
       "      <td>35</td>\n",
       "      <td>7300</td>\n",
       "      <td>4.6</td>\n",
       "      <td>no</td>\n",
       "      <td>no</td>\n",
       "      <td>no</td>\n",
       "      <td>good</td>\n",
       "      <td>no</td>\n",
       "      <td>no</td>\n",
       "      <td>ckd</td>\n",
       "    </tr>\n",
       "  </tbody>\n",
       "</table>\n",
       "<p>5 rows × 26 columns</p>\n",
       "</div>"
      ],
      "text/plain": [
       "   id   age    bp     sg   al   su     rbc        pc         pcc          ba  \\\n",
       "0   0  48.0  80.0  1.020  1.0  0.0     NaN    normal  notpresent  notpresent   \n",
       "1   1   7.0  50.0  1.020  4.0  0.0     NaN    normal  notpresent  notpresent   \n",
       "2   2  62.0  80.0  1.010  2.0  3.0  normal    normal  notpresent  notpresent   \n",
       "3   3  48.0  70.0  1.005  4.0  0.0  normal  abnormal     present  notpresent   \n",
       "4   4  51.0  80.0  1.010  2.0  0.0  normal    normal  notpresent  notpresent   \n",
       "\n",
       "   ...  pcv    wc   rc  htn   dm  cad appet   pe  ane classification  \n",
       "0  ...   44  7800  5.2  yes  yes   no  good   no   no            ckd  \n",
       "1  ...   38  6000  NaN   no   no   no  good   no   no            ckd  \n",
       "2  ...   31  7500  NaN   no  yes   no  poor   no  yes            ckd  \n",
       "3  ...   32  6700  3.9  yes   no   no  poor  yes  yes            ckd  \n",
       "4  ...   35  7300  4.6   no   no   no  good   no   no            ckd  \n",
       "\n",
       "[5 rows x 26 columns]"
      ]
     },
     "execution_count": 258,
     "metadata": {},
     "output_type": "execute_result"
    }
   ],
   "source": [
    "#cheking the top five rows of dataset\n",
    "df.head()"
   ]
  },
  {
   "cell_type": "code",
   "execution_count": 259,
   "metadata": {
    "colab": {
     "base_uri": "https://localhost:8080/"
    },
    "id": "rz3yjRQYglQV",
    "outputId": "85f0e8bc-b640-4c93-8a3e-2bed73d9309b"
   },
   "outputs": [
    {
     "data": {
      "text/plain": [
       "(400, 26)"
      ]
     },
     "execution_count": 259,
     "metadata": {},
     "output_type": "execute_result"
    }
   ],
   "source": [
    "#shape of the dataset\n",
    "df.shape"
   ]
  },
  {
   "cell_type": "code",
   "execution_count": 260,
   "metadata": {
    "colab": {
     "base_uri": "https://localhost:8080/"
    },
    "id": "OaIkOChmgmit",
    "outputId": "1739ba5b-d769-4531-bff3-dea0f9f0360e"
   },
   "outputs": [
    {
     "name": "stdout",
     "output_type": "stream",
     "text": [
      "<class 'pandas.core.frame.DataFrame'>\n",
      "RangeIndex: 400 entries, 0 to 399\n",
      "Data columns (total 26 columns):\n",
      " #   Column          Non-Null Count  Dtype  \n",
      "---  ------          --------------  -----  \n",
      " 0   id              400 non-null    int64  \n",
      " 1   age             391 non-null    float64\n",
      " 2   bp              388 non-null    float64\n",
      " 3   sg              353 non-null    float64\n",
      " 4   al              354 non-null    float64\n",
      " 5   su              351 non-null    float64\n",
      " 6   rbc             248 non-null    object \n",
      " 7   pc              335 non-null    object \n",
      " 8   pcc             396 non-null    object \n",
      " 9   ba              396 non-null    object \n",
      " 10  bgr             356 non-null    float64\n",
      " 11  bu              381 non-null    float64\n",
      " 12  sc              383 non-null    float64\n",
      " 13  sod             313 non-null    float64\n",
      " 14  pot             312 non-null    float64\n",
      " 15  hemo            348 non-null    float64\n",
      " 16  pcv             330 non-null    object \n",
      " 17  wc              295 non-null    object \n",
      " 18  rc              270 non-null    object \n",
      " 19  htn             398 non-null    object \n",
      " 20  dm              398 non-null    object \n",
      " 21  cad             398 non-null    object \n",
      " 22  appet           399 non-null    object \n",
      " 23  pe              399 non-null    object \n",
      " 24  ane             399 non-null    object \n",
      " 25  classification  400 non-null    object \n",
      "dtypes: float64(11), int64(1), object(14)\n",
      "memory usage: 81.4+ KB\n"
     ]
    }
   ],
   "source": [
    "#checking the information about the dataset\n",
    "df.info()"
   ]
  },
  {
   "cell_type": "markdown",
   "metadata": {
    "id": "sO0_vnjyj0Hm"
   },
   "source": [
    "### About the dataset\n",
    "\n",
    "The dataset has 25 features ( eg, red blood cell count, white blood cell count, etc). The target is the 'classification', which is either 'ckd' or 'notckd' - ckd=chronic kidney disease. There are 400 rows.\n",
    "\n",
    "The dataset is available at: https://archive.ics.uci.edu/ml/datasets/Chronic_Kidney_Disease"
   ]
  },
  {
   "cell_type": "markdown",
   "metadata": {
    "id": "9T2KegyCnPnH"
   },
   "source": [
    "| Column          | Description                                          | Values                                 | Type of Variable |\n",
    "|-----------------|------------------------------------------------------|----------------------------------------|------------------|\n",
    "| age             | age of the patient                                  | age in years                           | Continuous       |\n",
    "| bp              | blood pressure of the patient                       | bp of patient in mm/hg                 | Continuous       |\n",
    "| sg              | specific gravity of urine                            | Continuous                             | Continuous       |\n",
    "| al              | albumin level in the urine                           | Continuous                             | Continuous       |\n",
    "| su              | sugar level in the urine                             | Continuous                             | Continuous       |\n",
    "| rbc             | presence of red blood cells in urine                 | yes / no                               | Categorical      |\n",
    "| pc              | presence of pus cells in urine                       | yes / no                               | Categorical      |\n",
    "| pcc             | presence of pus cell clumps in urine                 | yes / no                               | Categorical      |\n",
    "| ba              | presence of bacteria in urine                        | yes / no                               | Categorical      |\n",
    "| bgr             | blood glucose level                                 | Continuous                             | Continuous       |\n",
    "| bu              | blood urea level                                    | Continuous                             | Continuous       |\n",
    "| sc              | serum creatinine level                              | Continuous                             | Continuous       |\n",
    "| sod             | serum sodium level                                  | Continuous                             | Continuous       |\n",
    "| pot             | serum potassium level                               | Continuous                             | Continuous       |\n",
    "| hemo            | hemoglobin level in blood                           | Continuous                             | Continuous       |\n",
    "| pcv             | packed cell volume (percentage of RBC)              | Continuous                             | Continuous       |\n",
    "| wc              | white blood cell count                              | Continuous                             | Continuous       |\n",
    "| rc              | red blood cell count                                | Continuous                             | Continuous       |\n",
    "| htn             | presence of hypertension                            | yes / no                               | Categorical      |\n",
    "| dm              | presence of diabetes mellitus                       | yes / no                               | Categorical      |\n",
    "| cad             | presence of coronary artery disease                 | yes / no                               | Categorical      |\n",
    "| appet           | appetite status                                     | good / poor / no appetite               | Categorical      |\n",
    "| pe              | presence of pedal edema (swelling of the feet)       | yes / no                               | Categorical      |\n",
    "| ane             | presence of anemia                                  | yes / no                               | Categorical      |\n",
    "| classification  | presence of chronic kidney disease (CKD)            | ckd (Chronic Kidney Disease) / not ckd  | Categorical      |\n"
   ]
  },
  {
   "cell_type": "code",
   "execution_count": 261,
   "metadata": {
    "colab": {
     "base_uri": "https://localhost:8080/"
    },
    "id": "zK2xliuWGgXw",
    "outputId": "8d5599e3-b2cd-4e1d-a460-f84ac02ecea6"
   },
   "outputs": [
    {
     "name": "stdout",
     "output_type": "stream",
     "text": [
      "(400, 26)\n",
      "(400, 25)\n"
     ]
    }
   ],
   "source": [
    "# print shape before dropping id column\n",
    "print(df.shape)\n",
    "\n",
    "# drop additional id column\n",
    "df.drop('id', axis = 1, inplace = True)\n",
    "\n",
    "# print shape after dropping id column\n",
    "print(df.shape)"
   ]
  },
  {
   "cell_type": "code",
   "execution_count": 262,
   "metadata": {
    "id": "q6RqkXMXGPw-"
   },
   "outputs": [],
   "source": [
    "# rename column names to make it more user-friendly\n",
    "\n",
    "df.columns = ['age', 'blood_pressure', 'specific_gravity', 'albumin', 'sugar', 'red_blood_cells', 'pus_cell',\n",
    "              'pus_cell_clumps', 'bacteria', 'blood_glucose_random', 'blood_urea', 'serum_creatinine', 'sodium',\n",
    "              'potassium', 'haemoglobin', 'packed_cell_volume', 'white_blood_cell_count', 'red_blood_cell_count',\n",
    "              'hypertension', 'diabetes_mellitus', 'coronary_artery_disease', 'appetite', 'pedal_edema',\n",
    "              'aanemia', 'class']"
   ]
  },
  {
   "cell_type": "code",
   "execution_count": 263,
   "metadata": {
    "colab": {
     "base_uri": "https://localhost:8080/"
    },
    "id": "KqxjxYamteLd",
    "outputId": "7927a243-bd9d-495b-cf7b-ef21249d6c99",
    "scrolled": false
   },
   "outputs": [
    {
     "name": "stdout",
     "output_type": "stream",
     "text": [
      "------------------------------------------------------------------------------------------\n",
      "age : [48.  7. 62. 51. 60. 68. 24. 52. 53. 50. 63. 40. 47. 61. 21. 42. 75. 69.\n",
      " nan 73. 70. 65. 76. 72. 82. 46. 45. 35. 54. 11. 59. 67. 15. 55. 44. 26.\n",
      " 64. 56.  5. 74. 38. 58. 71. 34. 17. 12. 43. 41. 57.  8. 39. 66. 81. 14.\n",
      " 27. 83. 30.  4.  3.  6. 32. 80. 49. 90. 78. 19.  2. 33. 36. 37. 23. 25.\n",
      " 20. 29. 28. 22. 79.]\n",
      "------------------------------------------------------------------------------------------\n",
      "blood_pressure : [ 80.  50.  70.  90.  nan 100.  60. 110. 140. 180. 120.]\n",
      "------------------------------------------------------------------------------------------\n",
      "specific_gravity : [1.02  1.01  1.005 1.015   nan 1.025]\n",
      "------------------------------------------------------------------------------------------\n",
      "albumin : [ 1.  4.  2.  3.  0. nan  5.]\n",
      "------------------------------------------------------------------------------------------\n",
      "sugar : [ 0.  3.  4.  1. nan  2.  5.]\n",
      "------------------------------------------------------------------------------------------\n",
      "red_blood_cells : [nan 'normal' 'abnormal']\n",
      "------------------------------------------------------------------------------------------\n",
      "pus_cell : ['normal' 'abnormal' nan]\n",
      "------------------------------------------------------------------------------------------\n",
      "pus_cell_clumps : ['notpresent' 'present' nan]\n",
      "------------------------------------------------------------------------------------------\n",
      "bacteria : ['notpresent' 'present' nan]\n",
      "------------------------------------------------------------------------------------------\n",
      "blood_glucose_random : [121.  nan 423. 117. 106.  74. 100. 410. 138.  70. 490. 380. 208.  98.\n",
      " 157.  76.  99. 114. 263. 173.  95. 108. 156. 264. 123.  93. 107. 159.\n",
      " 140. 171. 270.  92. 137. 204.  79. 207. 124. 144.  91. 162. 246. 253.\n",
      " 141. 182.  86. 150. 146. 425. 112. 250. 360. 163. 129. 133. 102. 158.\n",
      " 165. 132. 104. 127. 415. 169. 251. 109. 280. 210. 219. 295.  94. 172.\n",
      " 101. 298. 153.  88. 226. 143. 115.  89. 297. 233. 294. 323. 125.  90.\n",
      " 308. 118. 224. 128. 122. 214. 213. 268. 256.  84. 105. 288. 139.  78.\n",
      " 273. 242. 424. 303. 148. 160. 192. 307. 220. 447. 309.  22. 111. 261.\n",
      " 215. 234. 131. 352.  80. 239. 110. 130. 184. 252. 113. 230. 341. 255.\n",
      " 103. 238. 248. 120. 241. 269. 201. 203. 463. 176.  82. 119.  97.  96.\n",
      "  81. 116. 134.  85.  83.  87.  75.]\n",
      "------------------------------------------------------------------------------------------\n",
      "blood_urea : [ 36.   18.   53.   56.   26.   25.   54.   31.   60.  107.   55.   72.\n",
      "  86.   90.  162.   46.   87.   27.  148.  180.  163.    nan  50.   75.\n",
      "  45.   28.  155.   33.   39.  153.   29.   65.  103.   70.   80.   20.\n",
      " 202.   77.   89.   24.   17.   32.  114.   66.   38.  164.  142.   96.\n",
      " 391.   15.  111.   73.   19.   92.   35.   16.  139.   48.   85.   98.\n",
      " 186.   37.   47.   52.   82.   51.  106.   22.  217.   88.  118.   50.1\n",
      "  71.   34.   40.   21.  219.   30.  125.  166.   49.  208.  176.   68.\n",
      " 145.  165.  322.   23.  235.  132.   76.   42.   44.   41.  113.    1.5\n",
      " 146.   58.  133.  137.   67.  115.  223.   98.6 158.   94.   74.  150.\n",
      "  61.   57.   95.  191.   93.  241.   64.   79.  215.  309.   10. ]\n",
      "------------------------------------------------------------------------------------------\n",
      "serum_creatinine : [ 1.2   0.8   1.8   3.8   1.4   1.1  24.    1.9   7.2   4.    2.7   2.1\n",
      "  4.6   4.1   9.6   2.2   5.2   1.3   1.6   3.9  76.    7.7    nan  2.4\n",
      "  7.3   1.5   2.5   2.    3.4   0.7   1.   10.8   6.3   5.9   0.9   3.\n",
      "  3.25  9.7   6.4   3.2  32.    0.6   6.1   3.3   6.7   8.5   2.8  15.\n",
      "  2.9   1.7   3.6   5.6   6.5   4.4  10.2  11.5   0.5  12.2   5.3   9.2\n",
      " 13.8  16.9   6.    7.1  18.    2.3  13.   48.1  14.2  16.4   2.6   7.5\n",
      "  4.3  18.1  11.8   9.3   6.8  13.5  12.8  11.9  12.   13.4  15.2  13.3\n",
      "  0.4 ]\n",
      "------------------------------------------------------------------------------------------\n",
      "sodium : [  nan 111.  142.  104.  114.  131.  138.  135.  130.  141.  139.    4.5\n",
      " 136.  129.  140.  132.  133.  134.  125.  163.  137.  128.  143.  127.\n",
      " 146.  126.  122.  147.  124.  115.  145.  113.  120.  150.  144. ]\n",
      "------------------------------------------------------------------------------------------\n",
      "potassium : [ nan  2.5  3.2  4.   3.7  4.2  5.8  3.4  6.4  4.9  4.1  4.3  5.2  3.8\n",
      "  4.6  3.9  4.7  5.9  4.8  4.4  6.6 39.   5.5  5.   3.5  3.6  7.6  2.9\n",
      "  4.5  5.7  5.4  5.3 47.   6.3  5.1  5.6  3.   2.8  2.7  6.5  3.3]\n",
      "------------------------------------------------------------------------------------------\n",
      "haemoglobin : [15.4 11.3  9.6 11.2 11.6 12.2 12.4 10.8  9.5  9.4  9.7  9.8  5.6  7.6\n",
      " 12.6 12.1 12.7 10.3  7.7 10.9  nan 11.1  9.9 12.5 12.9 10.1 12.  13.\n",
      "  7.9  9.3 15.  10.   8.6 13.6 10.2 10.5  6.6 11.   7.5 15.6 15.2  4.8\n",
      "  9.1  8.1 11.9 13.5  8.3  7.1 16.1 10.4  9.2  6.2 13.9 14.1  6.  11.8\n",
      " 11.7 11.4 14.   8.2 13.2  6.1  8.  12.3  8.4 14.3  9.   8.7 10.6 13.1\n",
      " 10.7  5.5  5.8  6.8  8.8  8.5 13.8 11.5  7.3 13.7 12.8 13.4  6.3  3.1\n",
      " 17.  15.9 14.5 15.5 16.2 14.4 14.2 16.3 14.8 16.5 15.7 13.3 14.6 16.4\n",
      " 16.9 16.  14.7 16.6 14.9 16.7 16.8 15.8 15.1 17.1 17.2 15.3 17.3 17.4\n",
      " 17.7 17.8 17.5 17.6]\n",
      "------------------------------------------------------------------------------------------\n",
      "packed_cell_volume : ['44' '38' '31' '32' '35' '39' '36' '33' '29' '28' nan '16' '24' '37' '30'\n",
      " '34' '40' '45' '27' '48' '\\t?' '52' '14' '22' '18' '42' '17' '46' '23'\n",
      " '19' '25' '41' '26' '15' '21' '43' '20' '\\t43' '47' '9' '49' '50' '53'\n",
      " '51' '54']\n",
      "------------------------------------------------------------------------------------------\n",
      "white_blood_cell_count : ['7800' '6000' '7500' '6700' '7300' nan '6900' '9600' '12100' '4500'\n",
      " '12200' '11000' '3800' '11400' '5300' '9200' '6200' '8300' '8400' '10300'\n",
      " '9800' '9100' '7900' '6400' '8600' '18900' '21600' '4300' '8500' '11300'\n",
      " '7200' '7700' '14600' '6300' '\\t6200' '7100' '11800' '9400' '5500' '5800'\n",
      " '13200' '12500' '5600' '7000' '11900' '10400' '10700' '12700' '6800'\n",
      " '6500' '13600' '10200' '9000' '14900' '8200' '15200' '5000' '16300'\n",
      " '12400' '\\t8400' '10500' '4200' '4700' '10900' '8100' '9500' '2200'\n",
      " '12800' '11200' '19100' '\\t?' '12300' '16700' '2600' '26400' '8800'\n",
      " '7400' '4900' '8000' '12000' '15700' '4100' '5700' '11500' '5400' '10800'\n",
      " '9900' '5200' '5900' '9300' '9700' '5100' '6600']\n",
      "------------------------------------------------------------------------------------------\n",
      "red_blood_cell_count : ['5.2' nan '3.9' '4.6' '4.4' '5' '4.0' '3.7' '3.8' '3.4' '2.6' '2.8' '4.3'\n",
      " '3.2' '3.6' '4' '4.1' '4.9' '2.5' '4.2' '4.5' '3.1' '4.7' '3.5' '6.0'\n",
      " '5.0' '2.1' '5.6' '2.3' '2.9' '2.7' '8.0' '3.3' '3.0' '3' '2.4' '4.8'\n",
      " '\\t?' '5.4' '6.1' '6.2' '6.3' '5.1' '5.8' '5.5' '5.3' '6.4' '5.7' '5.9'\n",
      " '6.5']\n",
      "------------------------------------------------------------------------------------------\n",
      "hypertension : ['yes' 'no' nan]\n",
      "------------------------------------------------------------------------------------------\n",
      "diabetes_mellitus : ['yes' 'no' ' yes' '\\tno' '\\tyes' nan]\n",
      "------------------------------------------------------------------------------------------\n",
      "coronary_artery_disease : ['no' 'yes' '\\tno' nan]\n",
      "------------------------------------------------------------------------------------------\n",
      "appetite : ['good' 'poor' nan]\n",
      "------------------------------------------------------------------------------------------\n",
      "pedal_edema : ['no' 'yes' nan]\n",
      "------------------------------------------------------------------------------------------\n",
      "aanemia : ['no' 'yes' nan]\n",
      "------------------------------------------------------------------------------------------\n",
      "class : ['ckd' 'ckd\\t' 'notckd']\n"
     ]
    }
   ],
   "source": [
    "#finding unique values in each column\n",
    "\n",
    "for feature in df:\n",
    "    print(\"-\"*90)\n",
    "    print(f\"{feature} : {df[feature].unique()}\")"
   ]
  },
  {
   "cell_type": "markdown",
   "metadata": {
    "id": "ektY1Y86oUXE"
   },
   "source": [
    "# Data preprocessing"
   ]
  },
  {
   "cell_type": "markdown",
   "metadata": {
    "id": "LTiKUIwBxMLx"
   },
   "source": [
    "### Handling null values"
   ]
  },
  {
   "cell_type": "code",
   "execution_count": 264,
   "metadata": {
    "colab": {
     "base_uri": "https://localhost:8080/"
    },
    "id": "Y3nuZsMwnC4e",
    "outputId": "118392f8-3e82-4cc0-f211-08f03192ac55"
   },
   "outputs": [
    {
     "data": {
      "text/plain": [
       "age                          9\n",
       "blood_pressure              12\n",
       "specific_gravity            47\n",
       "albumin                     46\n",
       "sugar                       49\n",
       "red_blood_cells            152\n",
       "pus_cell                    65\n",
       "pus_cell_clumps              4\n",
       "bacteria                     4\n",
       "blood_glucose_random        44\n",
       "blood_urea                  19\n",
       "serum_creatinine            17\n",
       "sodium                      87\n",
       "potassium                   88\n",
       "haemoglobin                 52\n",
       "packed_cell_volume          70\n",
       "white_blood_cell_count     105\n",
       "red_blood_cell_count       130\n",
       "hypertension                 2\n",
       "diabetes_mellitus            2\n",
       "coronary_artery_disease      2\n",
       "appetite                     1\n",
       "pedal_edema                  1\n",
       "aanemia                      1\n",
       "class                        0\n",
       "dtype: int64"
      ]
     },
     "execution_count": 264,
     "metadata": {},
     "output_type": "execute_result"
    }
   ],
   "source": [
    "df.isnull().sum()"
   ]
  },
  {
   "cell_type": "code",
   "execution_count": 265,
   "metadata": {
    "id": "ZJ1eniFUojjT"
   },
   "outputs": [],
   "source": [
    "# function to clean null values\n",
    "\n",
    "def clean_nan(df):\n",
    "  for column in df.columns:\n",
    "    if df[column].dtype == 'object':\n",
    "      df[column].fillna(df[column].mode()[0], inplace=True)\n",
    "    else:\n",
    "      df[column].fillna(round(df[column].mean()),inplace=True)\n",
    "\n",
    "  return df"
   ]
  },
  {
   "cell_type": "code",
   "execution_count": 266,
   "metadata": {
    "id": "_N3HFeF3ojmB"
   },
   "outputs": [],
   "source": [
    "#applying clean funtion\n",
    "df = clean_nan(df)"
   ]
  },
  {
   "cell_type": "code",
   "execution_count": 267,
   "metadata": {
    "colab": {
     "base_uri": "https://localhost:8080/"
    },
    "id": "VKYPGI0Sojo6",
    "outputId": "8a5141dd-6d29-4da5-f20e-b8a0de8c909c"
   },
   "outputs": [
    {
     "data": {
      "text/plain": [
       "age                        0\n",
       "blood_pressure             0\n",
       "specific_gravity           0\n",
       "albumin                    0\n",
       "sugar                      0\n",
       "red_blood_cells            0\n",
       "pus_cell                   0\n",
       "pus_cell_clumps            0\n",
       "bacteria                   0\n",
       "blood_glucose_random       0\n",
       "blood_urea                 0\n",
       "serum_creatinine           0\n",
       "sodium                     0\n",
       "potassium                  0\n",
       "haemoglobin                0\n",
       "packed_cell_volume         0\n",
       "white_blood_cell_count     0\n",
       "red_blood_cell_count       0\n",
       "hypertension               0\n",
       "diabetes_mellitus          0\n",
       "coronary_artery_disease    0\n",
       "appetite                   0\n",
       "pedal_edema                0\n",
       "aanemia                    0\n",
       "class                      0\n",
       "dtype: int64"
      ]
     },
     "execution_count": 267,
     "metadata": {},
     "output_type": "execute_result"
    }
   ],
   "source": [
    "#after handling null values\n",
    "df.isnull().sum()"
   ]
  },
  {
   "cell_type": "markdown",
   "metadata": {
    "id": "ERej6ZRjxSk4"
   },
   "source": [
    "### separating continous and categorical columns"
   ]
  },
  {
   "cell_type": "code",
   "execution_count": 268,
   "metadata": {
    "id": "XkfmlTDZwMr4"
   },
   "outputs": [],
   "source": [
    "#Dividing Categorical and continous columns\n",
    "categorical_features = []\n",
    "continuous_features = []\n",
    "\n",
    "for feature in df:\n",
    "    if len(df[feature].unique()) <= 5:\n",
    "        categorical_features.append(feature)\n",
    "    else:\n",
    "        continuous_features.append(feature)"
   ]
  },
  {
   "cell_type": "code",
   "execution_count": 269,
   "metadata": {
    "colab": {
     "base_uri": "https://localhost:8080/"
    },
    "id": "p7AaJhasojuw",
    "outputId": "4774c141-e538-42e4-a3ac-2762aa55b11b"
   },
   "outputs": [
    {
     "name": "stdout",
     "output_type": "stream",
     "text": [
      "------------------------------------------------------------------------------------------\n",
      "Column name: red_blood_cells\n",
      "Data type: object\n",
      "Unique values: ['normal' 'abnormal']\n",
      "------------------------------------------------------------------------------------------\n",
      "Column name: pus_cell\n",
      "Data type: object\n",
      "Unique values: ['normal' 'abnormal']\n",
      "------------------------------------------------------------------------------------------\n",
      "Column name: pus_cell_clumps\n",
      "Data type: object\n",
      "Unique values: ['notpresent' 'present']\n",
      "------------------------------------------------------------------------------------------\n",
      "Column name: bacteria\n",
      "Data type: object\n",
      "Unique values: ['notpresent' 'present']\n",
      "------------------------------------------------------------------------------------------\n",
      "Column name: hypertension\n",
      "Data type: object\n",
      "Unique values: ['yes' 'no']\n",
      "------------------------------------------------------------------------------------------\n",
      "Column name: diabetes_mellitus\n",
      "Data type: object\n",
      "Unique values: ['yes' 'no' ' yes' '\\tno' '\\tyes']\n",
      "------------------------------------------------------------------------------------------\n",
      "Column name: coronary_artery_disease\n",
      "Data type: object\n",
      "Unique values: ['no' 'yes' '\\tno']\n",
      "------------------------------------------------------------------------------------------\n",
      "Column name: appetite\n",
      "Data type: object\n",
      "Unique values: ['good' 'poor']\n",
      "------------------------------------------------------------------------------------------\n",
      "Column name: pedal_edema\n",
      "Data type: object\n",
      "Unique values: ['no' 'yes']\n",
      "------------------------------------------------------------------------------------------\n",
      "Column name: aanemia\n",
      "Data type: object\n",
      "Unique values: ['no' 'yes']\n",
      "------------------------------------------------------------------------------------------\n",
      "Column name: class\n",
      "Data type: object\n",
      "Unique values: ['ckd' 'ckd\\t' 'notckd']\n"
     ]
    }
   ],
   "source": [
    "for feature in categorical_features:\n",
    "    print(\"-\" * 90)\n",
    "    print(f\"Column name: {feature}\")\n",
    "    print(f\"Data type: {df[feature].dtype}\")\n",
    "    print(f\"Unique values: {df[feature].unique()}\")"
   ]
  },
  {
   "cell_type": "code",
   "execution_count": 270,
   "metadata": {
    "colab": {
     "base_uri": "https://localhost:8080/"
    },
    "id": "8SFgwJniojw4",
    "outputId": "51e7d47d-65a8-47ba-9ace-08375dc83793",
    "scrolled": false
   },
   "outputs": [
    {
     "name": "stdout",
     "output_type": "stream",
     "text": [
      "------------------------------------------------------------------------------------------\n",
      "Column name: age\n",
      "Data type: float64\n",
      "Unique values: [48.  7. 62. 51. 60. 68. 24. 52. 53. 50. 63. 40. 47. 61. 21. 42. 75. 69.\n",
      " 73. 70. 65. 76. 72. 82. 46. 45. 35. 54. 11. 59. 67. 15. 55. 44. 26. 64.\n",
      " 56.  5. 74. 38. 58. 71. 34. 17. 12. 43. 41. 57.  8. 39. 66. 81. 14. 27.\n",
      " 83. 30.  4.  3.  6. 32. 80. 49. 90. 78. 19.  2. 33. 36. 37. 23. 25. 20.\n",
      " 29. 28. 22. 79.]\n",
      "------------------------------------------------------------------------------------------\n",
      "Column name: blood_pressure\n",
      "Data type: float64\n",
      "Unique values: [ 80.  50.  70.  90.  76. 100.  60. 110. 140. 180. 120.]\n",
      "------------------------------------------------------------------------------------------\n",
      "Column name: specific_gravity\n",
      "Data type: float64\n",
      "Unique values: [1.02  1.01  1.005 1.015 1.    1.025]\n",
      "------------------------------------------------------------------------------------------\n",
      "Column name: albumin\n",
      "Data type: float64\n",
      "Unique values: [1. 4. 2. 3. 0. 5.]\n",
      "------------------------------------------------------------------------------------------\n",
      "Column name: sugar\n",
      "Data type: float64\n",
      "Unique values: [0. 3. 4. 1. 2. 5.]\n",
      "------------------------------------------------------------------------------------------\n",
      "Column name: blood_glucose_random\n",
      "Data type: float64\n",
      "Unique values: [121. 148. 423. 117. 106.  74. 100. 410. 138.  70. 490. 380. 208.  98.\n",
      " 157.  76.  99. 114. 263. 173.  95. 108. 156. 264. 123.  93. 107. 159.\n",
      " 140. 171. 270.  92. 137. 204.  79. 207. 124. 144.  91. 162. 246. 253.\n",
      " 141. 182.  86. 150. 146. 425. 112. 250. 360. 163. 129. 133. 102. 158.\n",
      " 165. 132. 104. 127. 415. 169. 251. 109. 280. 210. 219. 295.  94. 172.\n",
      " 101. 298. 153.  88. 226. 143. 115.  89. 297. 233. 294. 323. 125.  90.\n",
      " 308. 118. 224. 128. 122. 214. 213. 268. 256.  84. 105. 288. 139.  78.\n",
      " 273. 242. 424. 303. 160. 192. 307. 220. 447. 309.  22. 111. 261. 215.\n",
      " 234. 131. 352.  80. 239. 110. 130. 184. 252. 113. 230. 341. 255. 103.\n",
      " 238. 248. 120. 241. 269. 201. 203. 463. 176.  82. 119.  97.  96.  81.\n",
      " 116. 134.  85.  83.  87.  75.]\n",
      "------------------------------------------------------------------------------------------\n",
      "Column name: blood_urea\n",
      "Data type: float64\n",
      "Unique values: [ 36.   18.   53.   56.   26.   25.   54.   31.   60.  107.   55.   72.\n",
      "  86.   90.  162.   46.   87.   27.  148.  180.  163.   57.   50.   75.\n",
      "  45.   28.  155.   33.   39.  153.   29.   65.  103.   70.   80.   20.\n",
      " 202.   77.   89.   24.   17.   32.  114.   66.   38.  164.  142.   96.\n",
      " 391.   15.  111.   73.   19.   92.   35.   16.  139.   48.   85.   98.\n",
      " 186.   37.   47.   52.   82.   51.  106.   22.  217.   88.  118.   50.1\n",
      "  71.   34.   40.   21.  219.   30.  125.  166.   49.  208.  176.   68.\n",
      " 145.  165.  322.   23.  235.  132.   76.   42.   44.   41.  113.    1.5\n",
      " 146.   58.  133.  137.   67.  115.  223.   98.6 158.   94.   74.  150.\n",
      "  61.   95.  191.   93.  241.   64.   79.  215.  309.   10. ]\n",
      "------------------------------------------------------------------------------------------\n",
      "Column name: serum_creatinine\n",
      "Data type: float64\n",
      "Unique values: [ 1.2   0.8   1.8   3.8   1.4   1.1  24.    1.9   7.2   4.    2.7   2.1\n",
      "  4.6   4.1   9.6   2.2   5.2   1.3   1.6   3.9  76.    7.7   3.    2.4\n",
      "  7.3   1.5   2.5   2.    3.4   0.7   1.   10.8   6.3   5.9   0.9   3.25\n",
      "  9.7   6.4   3.2  32.    0.6   6.1   3.3   6.7   8.5   2.8  15.    2.9\n",
      "  1.7   3.6   5.6   6.5   4.4  10.2  11.5   0.5  12.2   5.3   9.2  13.8\n",
      " 16.9   6.    7.1  18.    2.3  13.   48.1  14.2  16.4   2.6   7.5   4.3\n",
      " 18.1  11.8   9.3   6.8  13.5  12.8  11.9  12.   13.4  15.2  13.3   0.4 ]\n",
      "------------------------------------------------------------------------------------------\n",
      "Column name: sodium\n",
      "Data type: float64\n",
      "Unique values: [138.  111.  142.  104.  114.  131.  135.  130.  141.  139.    4.5 136.\n",
      " 129.  140.  132.  133.  134.  125.  163.  137.  128.  143.  127.  146.\n",
      " 126.  122.  147.  124.  115.  145.  113.  120.  150.  144. ]\n",
      "------------------------------------------------------------------------------------------\n",
      "Column name: potassium\n",
      "Data type: float64\n",
      "Unique values: [ 5.   2.5  3.2  4.   3.7  4.2  5.8  3.4  6.4  4.9  4.1  4.3  5.2  3.8\n",
      "  4.6  3.9  4.7  5.9  4.8  4.4  6.6 39.   5.5  3.5  3.6  7.6  2.9  4.5\n",
      "  5.7  5.4  5.3 47.   6.3  5.1  5.6  3.   2.8  2.7  6.5  3.3]\n",
      "------------------------------------------------------------------------------------------\n",
      "Column name: haemoglobin\n",
      "Data type: float64\n",
      "Unique values: [15.4 11.3  9.6 11.2 11.6 12.2 12.4 10.8  9.5  9.4  9.7  9.8  5.6  7.6\n",
      " 12.6 12.1 12.7 10.3  7.7 10.9 13.  11.1  9.9 12.5 12.9 10.1 12.   7.9\n",
      "  9.3 15.  10.   8.6 13.6 10.2 10.5  6.6 11.   7.5 15.6 15.2  4.8  9.1\n",
      "  8.1 11.9 13.5  8.3  7.1 16.1 10.4  9.2  6.2 13.9 14.1  6.  11.8 11.7\n",
      " 11.4 14.   8.2 13.2  6.1  8.  12.3  8.4 14.3  9.   8.7 10.6 13.1 10.7\n",
      "  5.5  5.8  6.8  8.8  8.5 13.8 11.5  7.3 13.7 12.8 13.4  6.3  3.1 17.\n",
      " 15.9 14.5 15.5 16.2 14.4 14.2 16.3 14.8 16.5 15.7 13.3 14.6 16.4 16.9\n",
      " 16.  14.7 16.6 14.9 16.7 16.8 15.8 15.1 17.1 17.2 15.3 17.3 17.4 17.7\n",
      " 17.8 17.5 17.6]\n",
      "------------------------------------------------------------------------------------------\n",
      "Column name: packed_cell_volume\n",
      "Data type: object\n",
      "Unique values: ['44' '38' '31' '32' '35' '39' '36' '33' '29' '28' '41' '16' '24' '37'\n",
      " '30' '34' '40' '45' '27' '48' '\\t?' '52' '14' '22' '18' '42' '17' '46'\n",
      " '23' '19' '25' '26' '15' '21' '43' '20' '\\t43' '47' '9' '49' '50' '53'\n",
      " '51' '54']\n",
      "------------------------------------------------------------------------------------------\n",
      "Column name: white_blood_cell_count\n",
      "Data type: object\n",
      "Unique values: ['7800' '6000' '7500' '6700' '7300' '9800' '6900' '9600' '12100' '4500'\n",
      " '12200' '11000' '3800' '11400' '5300' '9200' '6200' '8300' '8400' '10300'\n",
      " '9100' '7900' '6400' '8600' '18900' '21600' '4300' '8500' '11300' '7200'\n",
      " '7700' '14600' '6300' '\\t6200' '7100' '11800' '9400' '5500' '5800'\n",
      " '13200' '12500' '5600' '7000' '11900' '10400' '10700' '12700' '6800'\n",
      " '6500' '13600' '10200' '9000' '14900' '8200' '15200' '5000' '16300'\n",
      " '12400' '\\t8400' '10500' '4200' '4700' '10900' '8100' '9500' '2200'\n",
      " '12800' '11200' '19100' '\\t?' '12300' '16700' '2600' '26400' '8800'\n",
      " '7400' '4900' '8000' '12000' '15700' '4100' '5700' '11500' '5400' '10800'\n",
      " '9900' '5200' '5900' '9300' '9700' '5100' '6600']\n",
      "------------------------------------------------------------------------------------------\n",
      "Column name: red_blood_cell_count\n",
      "Data type: object\n",
      "Unique values: ['5.2' '3.9' '4.6' '4.4' '5' '4.0' '3.7' '3.8' '3.4' '2.6' '2.8' '4.3'\n",
      " '3.2' '3.6' '4' '4.1' '4.9' '2.5' '4.2' '4.5' '3.1' '4.7' '3.5' '6.0'\n",
      " '5.0' '2.1' '5.6' '2.3' '2.9' '2.7' '8.0' '3.3' '3.0' '3' '2.4' '4.8'\n",
      " '\\t?' '5.4' '6.1' '6.2' '6.3' '5.1' '5.8' '5.5' '5.3' '6.4' '5.7' '5.9'\n",
      " '6.5']\n"
     ]
    }
   ],
   "source": [
    "for feature in continuous_features:\n",
    "    print(\"-\" * 90)\n",
    "    print(f\"Column name: {feature}\")\n",
    "    print(f\"Data type: {df[feature].dtype}\")\n",
    "    print(f\"Unique values: {df[feature].unique()}\")"
   ]
  },
  {
   "cell_type": "markdown",
   "metadata": {
    "id": "DcqA_21O0IV9"
   },
   "source": [
    "## Preprocessing required for columns:\n",
    "- columns 'dm' , 'cad' ,'pcv','wc', 'rc', 'classification' has '\\t' values in them , to be pre processed.\n",
    "- pcv , wc, rc columns are in object format , to be converted to float"
   ]
  },
  {
   "cell_type": "code",
   "execution_count": 271,
   "metadata": {
    "id": "XCgceKeGojy1"
   },
   "outputs": [],
   "source": [
    "#function to remove '\\t'\n",
    "def remove_tabs_from_all_columns(df):\n",
    "    for column in df.columns:\n",
    "        if df[column].dtype == 'object':\n",
    "            df[column] = df[column].str.replace('\\t', '')\n",
    "            df[column] = df[column].str.strip()"
   ]
  },
  {
   "cell_type": "code",
   "execution_count": 272,
   "metadata": {
    "id": "zDVlXwsDoj1J"
   },
   "outputs": [],
   "source": [
    "#applying function\n",
    "remove_tabs_from_all_columns(df)"
   ]
  },
  {
   "cell_type": "code",
   "execution_count": 273,
   "metadata": {
    "id": "QbvyxYwq51f6"
   },
   "outputs": [],
   "source": [
    "# function to replace_question_marks_with_mode\n",
    "def replace_question_marks_with_mode(df):\n",
    "    for column in df.columns:\n",
    "        if '?' in df[column].values:\n",
    "            mode_value = df[column].mode()[0]\n",
    "            df[column] = df[column].replace('?', mode_value)"
   ]
  },
  {
   "cell_type": "code",
   "execution_count": 274,
   "metadata": {
    "colab": {
     "base_uri": "https://localhost:8080/"
    },
    "id": "w7jZvdAB6eWR",
    "outputId": "35287442-3969-4a24-8137-0472846b7403"
   },
   "outputs": [
    {
     "name": "stderr",
     "output_type": "stream",
     "text": [
      "C:\\Users\\Lenovo\\AppData\\Local\\Temp\\ipykernel_18100\\2952619673.py:4: FutureWarning: elementwise comparison failed; returning scalar instead, but in the future will perform elementwise comparison\n",
      "  if '?' in df[column].values:\n"
     ]
    }
   ],
   "source": [
    "#applying funtion\n",
    "replace_question_marks_with_mode(df)"
   ]
  },
  {
   "cell_type": "code",
   "execution_count": 275,
   "metadata": {
    "id": "5p18qMPkG78Y"
   },
   "outputs": [],
   "source": [
    "#funtion to convert columns\n",
    "def convert_columns_to_float(df, column_names):\n",
    "    for column in column_names:\n",
    "        df[column] = df[column].astype(float)"
   ]
  },
  {
   "cell_type": "code",
   "execution_count": 276,
   "metadata": {
    "id": "bTxYV5GcoknE"
   },
   "outputs": [],
   "source": [
    "# applying function\n",
    "convert_columns_to_float(df, continuous_features)"
   ]
  },
  {
   "cell_type": "code",
   "execution_count": 277,
   "metadata": {
    "colab": {
     "base_uri": "https://localhost:8080/"
    },
    "id": "xtLuKgmOokph",
    "outputId": "dc56ba8c-15ff-4a88-f2b6-3274e1b4a722"
   },
   "outputs": [
    {
     "name": "stdout",
     "output_type": "stream",
     "text": [
      "------------------------------------------------------------------------------------------\n",
      "Column name: red_blood_cells\n",
      "Data type: object\n",
      "Unique values: ['normal' 'abnormal']\n",
      "------------------------------------------------------------------------------------------\n",
      "Column name: pus_cell\n",
      "Data type: object\n",
      "Unique values: ['normal' 'abnormal']\n",
      "------------------------------------------------------------------------------------------\n",
      "Column name: pus_cell_clumps\n",
      "Data type: object\n",
      "Unique values: ['notpresent' 'present']\n",
      "------------------------------------------------------------------------------------------\n",
      "Column name: bacteria\n",
      "Data type: object\n",
      "Unique values: ['notpresent' 'present']\n",
      "------------------------------------------------------------------------------------------\n",
      "Column name: hypertension\n",
      "Data type: object\n",
      "Unique values: ['yes' 'no']\n",
      "------------------------------------------------------------------------------------------\n",
      "Column name: diabetes_mellitus\n",
      "Data type: object\n",
      "Unique values: ['yes' 'no']\n",
      "------------------------------------------------------------------------------------------\n",
      "Column name: coronary_artery_disease\n",
      "Data type: object\n",
      "Unique values: ['no' 'yes']\n",
      "------------------------------------------------------------------------------------------\n",
      "Column name: appetite\n",
      "Data type: object\n",
      "Unique values: ['good' 'poor']\n",
      "------------------------------------------------------------------------------------------\n",
      "Column name: pedal_edema\n",
      "Data type: object\n",
      "Unique values: ['no' 'yes']\n",
      "------------------------------------------------------------------------------------------\n",
      "Column name: aanemia\n",
      "Data type: object\n",
      "Unique values: ['no' 'yes']\n",
      "------------------------------------------------------------------------------------------\n",
      "Column name: class\n",
      "Data type: object\n",
      "Unique values: ['ckd' 'notckd']\n"
     ]
    }
   ],
   "source": [
    "#viwing columns after pre processing\n",
    "for feature in categorical_features:\n",
    "    print(\"-\" * 90)\n",
    "    print(f\"Column name: {feature}\")\n",
    "    print(f\"Data type: {df[feature].dtype}\")\n",
    "    print(f\"Unique values: {df[feature].unique()}\")"
   ]
  },
  {
   "cell_type": "code",
   "execution_count": 278,
   "metadata": {
    "colab": {
     "base_uri": "https://localhost:8080/"
    },
    "id": "RK3qpzXWoksI",
    "outputId": "fba703b6-457a-4961-a6b8-c6c31198120a",
    "scrolled": false
   },
   "outputs": [
    {
     "name": "stdout",
     "output_type": "stream",
     "text": [
      "------------------------------------------------------------------------------------------\n",
      "Column name: age\n",
      "Data type: float64\n",
      "Unique values: [48.  7. 62. 51. 60. 68. 24. 52. 53. 50. 63. 40. 47. 61. 21. 42. 75. 69.\n",
      " 73. 70. 65. 76. 72. 82. 46. 45. 35. 54. 11. 59. 67. 15. 55. 44. 26. 64.\n",
      " 56.  5. 74. 38. 58. 71. 34. 17. 12. 43. 41. 57.  8. 39. 66. 81. 14. 27.\n",
      " 83. 30.  4.  3.  6. 32. 80. 49. 90. 78. 19.  2. 33. 36. 37. 23. 25. 20.\n",
      " 29. 28. 22. 79.]\n",
      "------------------------------------------------------------------------------------------\n",
      "Column name: blood_pressure\n",
      "Data type: float64\n",
      "Unique values: [ 80.  50.  70.  90.  76. 100.  60. 110. 140. 180. 120.]\n",
      "------------------------------------------------------------------------------------------\n",
      "Column name: specific_gravity\n",
      "Data type: float64\n",
      "Unique values: [1.02  1.01  1.005 1.015 1.    1.025]\n",
      "------------------------------------------------------------------------------------------\n",
      "Column name: albumin\n",
      "Data type: float64\n",
      "Unique values: [1. 4. 2. 3. 0. 5.]\n",
      "------------------------------------------------------------------------------------------\n",
      "Column name: sugar\n",
      "Data type: float64\n",
      "Unique values: [0. 3. 4. 1. 2. 5.]\n",
      "------------------------------------------------------------------------------------------\n",
      "Column name: blood_glucose_random\n",
      "Data type: float64\n",
      "Unique values: [121. 148. 423. 117. 106.  74. 100. 410. 138.  70. 490. 380. 208.  98.\n",
      " 157.  76.  99. 114. 263. 173.  95. 108. 156. 264. 123.  93. 107. 159.\n",
      " 140. 171. 270.  92. 137. 204.  79. 207. 124. 144.  91. 162. 246. 253.\n",
      " 141. 182.  86. 150. 146. 425. 112. 250. 360. 163. 129. 133. 102. 158.\n",
      " 165. 132. 104. 127. 415. 169. 251. 109. 280. 210. 219. 295.  94. 172.\n",
      " 101. 298. 153.  88. 226. 143. 115.  89. 297. 233. 294. 323. 125.  90.\n",
      " 308. 118. 224. 128. 122. 214. 213. 268. 256.  84. 105. 288. 139.  78.\n",
      " 273. 242. 424. 303. 160. 192. 307. 220. 447. 309.  22. 111. 261. 215.\n",
      " 234. 131. 352.  80. 239. 110. 130. 184. 252. 113. 230. 341. 255. 103.\n",
      " 238. 248. 120. 241. 269. 201. 203. 463. 176.  82. 119.  97.  96.  81.\n",
      " 116. 134.  85.  83.  87.  75.]\n",
      "------------------------------------------------------------------------------------------\n",
      "Column name: blood_urea\n",
      "Data type: float64\n",
      "Unique values: [ 36.   18.   53.   56.   26.   25.   54.   31.   60.  107.   55.   72.\n",
      "  86.   90.  162.   46.   87.   27.  148.  180.  163.   57.   50.   75.\n",
      "  45.   28.  155.   33.   39.  153.   29.   65.  103.   70.   80.   20.\n",
      " 202.   77.   89.   24.   17.   32.  114.   66.   38.  164.  142.   96.\n",
      " 391.   15.  111.   73.   19.   92.   35.   16.  139.   48.   85.   98.\n",
      " 186.   37.   47.   52.   82.   51.  106.   22.  217.   88.  118.   50.1\n",
      "  71.   34.   40.   21.  219.   30.  125.  166.   49.  208.  176.   68.\n",
      " 145.  165.  322.   23.  235.  132.   76.   42.   44.   41.  113.    1.5\n",
      " 146.   58.  133.  137.   67.  115.  223.   98.6 158.   94.   74.  150.\n",
      "  61.   95.  191.   93.  241.   64.   79.  215.  309.   10. ]\n",
      "------------------------------------------------------------------------------------------\n",
      "Column name: serum_creatinine\n",
      "Data type: float64\n",
      "Unique values: [ 1.2   0.8   1.8   3.8   1.4   1.1  24.    1.9   7.2   4.    2.7   2.1\n",
      "  4.6   4.1   9.6   2.2   5.2   1.3   1.6   3.9  76.    7.7   3.    2.4\n",
      "  7.3   1.5   2.5   2.    3.4   0.7   1.   10.8   6.3   5.9   0.9   3.25\n",
      "  9.7   6.4   3.2  32.    0.6   6.1   3.3   6.7   8.5   2.8  15.    2.9\n",
      "  1.7   3.6   5.6   6.5   4.4  10.2  11.5   0.5  12.2   5.3   9.2  13.8\n",
      " 16.9   6.    7.1  18.    2.3  13.   48.1  14.2  16.4   2.6   7.5   4.3\n",
      " 18.1  11.8   9.3   6.8  13.5  12.8  11.9  12.   13.4  15.2  13.3   0.4 ]\n",
      "------------------------------------------------------------------------------------------\n",
      "Column name: sodium\n",
      "Data type: float64\n",
      "Unique values: [138.  111.  142.  104.  114.  131.  135.  130.  141.  139.    4.5 136.\n",
      " 129.  140.  132.  133.  134.  125.  163.  137.  128.  143.  127.  146.\n",
      " 126.  122.  147.  124.  115.  145.  113.  120.  150.  144. ]\n",
      "------------------------------------------------------------------------------------------\n",
      "Column name: potassium\n",
      "Data type: float64\n",
      "Unique values: [ 5.   2.5  3.2  4.   3.7  4.2  5.8  3.4  6.4  4.9  4.1  4.3  5.2  3.8\n",
      "  4.6  3.9  4.7  5.9  4.8  4.4  6.6 39.   5.5  3.5  3.6  7.6  2.9  4.5\n",
      "  5.7  5.4  5.3 47.   6.3  5.1  5.6  3.   2.8  2.7  6.5  3.3]\n",
      "------------------------------------------------------------------------------------------\n",
      "Column name: haemoglobin\n",
      "Data type: float64\n",
      "Unique values: [15.4 11.3  9.6 11.2 11.6 12.2 12.4 10.8  9.5  9.4  9.7  9.8  5.6  7.6\n",
      " 12.6 12.1 12.7 10.3  7.7 10.9 13.  11.1  9.9 12.5 12.9 10.1 12.   7.9\n",
      "  9.3 15.  10.   8.6 13.6 10.2 10.5  6.6 11.   7.5 15.6 15.2  4.8  9.1\n",
      "  8.1 11.9 13.5  8.3  7.1 16.1 10.4  9.2  6.2 13.9 14.1  6.  11.8 11.7\n",
      " 11.4 14.   8.2 13.2  6.1  8.  12.3  8.4 14.3  9.   8.7 10.6 13.1 10.7\n",
      "  5.5  5.8  6.8  8.8  8.5 13.8 11.5  7.3 13.7 12.8 13.4  6.3  3.1 17.\n",
      " 15.9 14.5 15.5 16.2 14.4 14.2 16.3 14.8 16.5 15.7 13.3 14.6 16.4 16.9\n",
      " 16.  14.7 16.6 14.9 16.7 16.8 15.8 15.1 17.1 17.2 15.3 17.3 17.4 17.7\n",
      " 17.8 17.5 17.6]\n",
      "------------------------------------------------------------------------------------------\n",
      "Column name: packed_cell_volume\n",
      "Data type: float64\n",
      "Unique values: [44. 38. 31. 32. 35. 39. 36. 33. 29. 28. 41. 16. 24. 37. 30. 34. 40. 45.\n",
      " 27. 48. 52. 14. 22. 18. 42. 17. 46. 23. 19. 25. 26. 15. 21. 43. 20. 47.\n",
      "  9. 49. 50. 53. 51. 54.]\n",
      "------------------------------------------------------------------------------------------\n",
      "Column name: white_blood_cell_count\n",
      "Data type: float64\n",
      "Unique values: [ 7800.  6000.  7500.  6700.  7300.  9800.  6900.  9600. 12100.  4500.\n",
      " 12200. 11000.  3800. 11400.  5300.  9200.  6200.  8300.  8400. 10300.\n",
      "  9100.  7900.  6400.  8600. 18900. 21600.  4300.  8500. 11300.  7200.\n",
      "  7700. 14600.  6300.  7100. 11800.  9400.  5500.  5800. 13200. 12500.\n",
      "  5600.  7000. 11900. 10400. 10700. 12700.  6800.  6500. 13600. 10200.\n",
      "  9000. 14900.  8200. 15200.  5000. 16300. 12400. 10500.  4200.  4700.\n",
      " 10900.  8100.  9500.  2200. 12800. 11200. 19100. 12300. 16700.  2600.\n",
      " 26400.  8800.  7400.  4900.  8000. 12000. 15700.  4100.  5700. 11500.\n",
      "  5400. 10800.  9900.  5200.  5900.  9300.  9700.  5100.  6600.]\n",
      "------------------------------------------------------------------------------------------\n",
      "Column name: red_blood_cell_count\n",
      "Data type: float64\n",
      "Unique values: [5.2 3.9 4.6 4.4 5.  4.  3.7 3.8 3.4 2.6 2.8 4.3 3.2 3.6 4.1 4.9 2.5 4.2\n",
      " 4.5 3.1 4.7 3.5 6.  2.1 5.6 2.3 2.9 2.7 8.  3.3 3.  2.4 4.8 5.4 6.1 6.2\n",
      " 6.3 5.1 5.8 5.5 5.3 6.4 5.7 5.9 6.5]\n"
     ]
    }
   ],
   "source": [
    "for feature in continuous_features:\n",
    "    print(\"-\" * 90)\n",
    "    print(f\"Column name: {feature}\")\n",
    "    print(f\"Data type: {df[feature].dtype}\")\n",
    "    print(f\"Unique values: {df[feature].unique()}\")"
   ]
  },
  {
   "cell_type": "code",
   "execution_count": 279,
   "metadata": {
    "colab": {
     "base_uri": "https://localhost:8080/",
     "height": 175
    },
    "id": "TFB6Di58okuw",
    "outputId": "d25d48af-95ca-4ad2-b00c-c3c73d00fa18"
   },
   "outputs": [
    {
     "data": {
      "text/html": [
       "<div>\n",
       "<style scoped>\n",
       "    .dataframe tbody tr th:only-of-type {\n",
       "        vertical-align: middle;\n",
       "    }\n",
       "\n",
       "    .dataframe tbody tr th {\n",
       "        vertical-align: top;\n",
       "    }\n",
       "\n",
       "    .dataframe thead th {\n",
       "        text-align: right;\n",
       "    }\n",
       "</style>\n",
       "<table border=\"1\" class=\"dataframe\">\n",
       "  <thead>\n",
       "    <tr style=\"text-align: right;\">\n",
       "      <th></th>\n",
       "      <th>red_blood_cells</th>\n",
       "      <th>pus_cell</th>\n",
       "      <th>pus_cell_clumps</th>\n",
       "      <th>bacteria</th>\n",
       "      <th>hypertension</th>\n",
       "      <th>diabetes_mellitus</th>\n",
       "      <th>coronary_artery_disease</th>\n",
       "      <th>appetite</th>\n",
       "      <th>pedal_edema</th>\n",
       "      <th>aanemia</th>\n",
       "      <th>class</th>\n",
       "    </tr>\n",
       "  </thead>\n",
       "  <tbody>\n",
       "    <tr>\n",
       "      <th>count</th>\n",
       "      <td>400</td>\n",
       "      <td>400</td>\n",
       "      <td>400</td>\n",
       "      <td>400</td>\n",
       "      <td>400</td>\n",
       "      <td>400</td>\n",
       "      <td>400</td>\n",
       "      <td>400</td>\n",
       "      <td>400</td>\n",
       "      <td>400</td>\n",
       "      <td>400</td>\n",
       "    </tr>\n",
       "    <tr>\n",
       "      <th>unique</th>\n",
       "      <td>2</td>\n",
       "      <td>2</td>\n",
       "      <td>2</td>\n",
       "      <td>2</td>\n",
       "      <td>2</td>\n",
       "      <td>2</td>\n",
       "      <td>2</td>\n",
       "      <td>2</td>\n",
       "      <td>2</td>\n",
       "      <td>2</td>\n",
       "      <td>2</td>\n",
       "    </tr>\n",
       "    <tr>\n",
       "      <th>top</th>\n",
       "      <td>normal</td>\n",
       "      <td>normal</td>\n",
       "      <td>notpresent</td>\n",
       "      <td>notpresent</td>\n",
       "      <td>no</td>\n",
       "      <td>no</td>\n",
       "      <td>no</td>\n",
       "      <td>good</td>\n",
       "      <td>no</td>\n",
       "      <td>no</td>\n",
       "      <td>ckd</td>\n",
       "    </tr>\n",
       "    <tr>\n",
       "      <th>freq</th>\n",
       "      <td>353</td>\n",
       "      <td>324</td>\n",
       "      <td>358</td>\n",
       "      <td>378</td>\n",
       "      <td>253</td>\n",
       "      <td>263</td>\n",
       "      <td>366</td>\n",
       "      <td>318</td>\n",
       "      <td>324</td>\n",
       "      <td>340</td>\n",
       "      <td>250</td>\n",
       "    </tr>\n",
       "  </tbody>\n",
       "</table>\n",
       "</div>"
      ],
      "text/plain": [
       "       red_blood_cells pus_cell pus_cell_clumps    bacteria hypertension  \\\n",
       "count              400      400             400         400          400   \n",
       "unique               2        2               2           2            2   \n",
       "top             normal   normal      notpresent  notpresent           no   \n",
       "freq               353      324             358         378          253   \n",
       "\n",
       "       diabetes_mellitus coronary_artery_disease appetite pedal_edema aanemia  \\\n",
       "count                400                     400      400         400     400   \n",
       "unique                 2                       2        2           2       2   \n",
       "top                   no                      no     good          no      no   \n",
       "freq                 263                     366      318         324     340   \n",
       "\n",
       "       class  \n",
       "count    400  \n",
       "unique     2  \n",
       "top      ckd  \n",
       "freq     250  "
      ]
     },
     "execution_count": 279,
     "metadata": {},
     "output_type": "execute_result"
    }
   ],
   "source": [
    "df[categorical_features].describe()"
   ]
  },
  {
   "cell_type": "code",
   "execution_count": 280,
   "metadata": {
    "colab": {
     "base_uri": "https://localhost:8080/",
     "height": 320
    },
    "id": "a-n7evqxHPiP",
    "outputId": "0d97f7c9-6b49-400e-88a8-9c5158f6c147"
   },
   "outputs": [
    {
     "data": {
      "text/html": [
       "<div>\n",
       "<style scoped>\n",
       "    .dataframe tbody tr th:only-of-type {\n",
       "        vertical-align: middle;\n",
       "    }\n",
       "\n",
       "    .dataframe tbody tr th {\n",
       "        vertical-align: top;\n",
       "    }\n",
       "\n",
       "    .dataframe thead th {\n",
       "        text-align: right;\n",
       "    }\n",
       "</style>\n",
       "<table border=\"1\" class=\"dataframe\">\n",
       "  <thead>\n",
       "    <tr style=\"text-align: right;\">\n",
       "      <th></th>\n",
       "      <th>age</th>\n",
       "      <th>blood_pressure</th>\n",
       "      <th>specific_gravity</th>\n",
       "      <th>albumin</th>\n",
       "      <th>sugar</th>\n",
       "      <th>blood_glucose_random</th>\n",
       "      <th>blood_urea</th>\n",
       "      <th>serum_creatinine</th>\n",
       "      <th>sodium</th>\n",
       "      <th>potassium</th>\n",
       "      <th>haemoglobin</th>\n",
       "      <th>packed_cell_volume</th>\n",
       "      <th>white_blood_cell_count</th>\n",
       "      <th>red_blood_cell_count</th>\n",
       "    </tr>\n",
       "  </thead>\n",
       "  <tbody>\n",
       "    <tr>\n",
       "      <th>count</th>\n",
       "      <td>400.000000</td>\n",
       "      <td>400.000000</td>\n",
       "      <td>400.000000</td>\n",
       "      <td>400.000000</td>\n",
       "      <td>400.000000</td>\n",
       "      <td>400.000000</td>\n",
       "      <td>400.00000</td>\n",
       "      <td>400.000000</td>\n",
       "      <td>400.000000</td>\n",
       "      <td>400.000000</td>\n",
       "      <td>400.000000</td>\n",
       "      <td>400.000000</td>\n",
       "      <td>400.000000</td>\n",
       "      <td>400.000000</td>\n",
       "    </tr>\n",
       "    <tr>\n",
       "      <th>mean</th>\n",
       "      <td>51.472500</td>\n",
       "      <td>76.455000</td>\n",
       "      <td>1.015362</td>\n",
       "      <td>1.015000</td>\n",
       "      <td>0.395000</td>\n",
       "      <td>148.032500</td>\n",
       "      <td>57.40550</td>\n",
       "      <td>3.069375</td>\n",
       "      <td>137.631250</td>\n",
       "      <td>4.709250</td>\n",
       "      <td>12.588000</td>\n",
       "      <td>39.260000</td>\n",
       "      <td>8775.500000</td>\n",
       "      <td>4.868750</td>\n",
       "    </tr>\n",
       "    <tr>\n",
       "      <th>std</th>\n",
       "      <td>16.975118</td>\n",
       "      <td>13.476536</td>\n",
       "      <td>0.007767</td>\n",
       "      <td>1.272329</td>\n",
       "      <td>1.040038</td>\n",
       "      <td>74.782635</td>\n",
       "      <td>49.28597</td>\n",
       "      <td>5.617509</td>\n",
       "      <td>9.206332</td>\n",
       "      <td>2.824018</td>\n",
       "      <td>2.720848</td>\n",
       "      <td>8.191162</td>\n",
       "      <td>2597.309144</td>\n",
       "      <td>0.871606</td>\n",
       "    </tr>\n",
       "    <tr>\n",
       "      <th>min</th>\n",
       "      <td>2.000000</td>\n",
       "      <td>50.000000</td>\n",
       "      <td>1.000000</td>\n",
       "      <td>0.000000</td>\n",
       "      <td>0.000000</td>\n",
       "      <td>22.000000</td>\n",
       "      <td>1.50000</td>\n",
       "      <td>0.400000</td>\n",
       "      <td>4.500000</td>\n",
       "      <td>2.500000</td>\n",
       "      <td>3.100000</td>\n",
       "      <td>9.000000</td>\n",
       "      <td>2200.000000</td>\n",
       "      <td>2.100000</td>\n",
       "    </tr>\n",
       "    <tr>\n",
       "      <th>25%</th>\n",
       "      <td>42.000000</td>\n",
       "      <td>70.000000</td>\n",
       "      <td>1.010000</td>\n",
       "      <td>0.000000</td>\n",
       "      <td>0.000000</td>\n",
       "      <td>101.000000</td>\n",
       "      <td>27.00000</td>\n",
       "      <td>0.900000</td>\n",
       "      <td>135.000000</td>\n",
       "      <td>4.000000</td>\n",
       "      <td>10.875000</td>\n",
       "      <td>34.000000</td>\n",
       "      <td>6975.000000</td>\n",
       "      <td>4.500000</td>\n",
       "    </tr>\n",
       "    <tr>\n",
       "      <th>50%</th>\n",
       "      <td>54.000000</td>\n",
       "      <td>78.000000</td>\n",
       "      <td>1.015000</td>\n",
       "      <td>1.000000</td>\n",
       "      <td>0.000000</td>\n",
       "      <td>126.000000</td>\n",
       "      <td>44.00000</td>\n",
       "      <td>1.400000</td>\n",
       "      <td>138.000000</td>\n",
       "      <td>4.700000</td>\n",
       "      <td>13.000000</td>\n",
       "      <td>41.000000</td>\n",
       "      <td>9450.000000</td>\n",
       "      <td>5.200000</td>\n",
       "    </tr>\n",
       "    <tr>\n",
       "      <th>75%</th>\n",
       "      <td>64.000000</td>\n",
       "      <td>80.000000</td>\n",
       "      <td>1.020000</td>\n",
       "      <td>2.000000</td>\n",
       "      <td>0.000000</td>\n",
       "      <td>150.000000</td>\n",
       "      <td>61.75000</td>\n",
       "      <td>3.000000</td>\n",
       "      <td>141.000000</td>\n",
       "      <td>5.000000</td>\n",
       "      <td>14.625000</td>\n",
       "      <td>44.000000</td>\n",
       "      <td>9800.000000</td>\n",
       "      <td>5.200000</td>\n",
       "    </tr>\n",
       "    <tr>\n",
       "      <th>max</th>\n",
       "      <td>90.000000</td>\n",
       "      <td>180.000000</td>\n",
       "      <td>1.025000</td>\n",
       "      <td>5.000000</td>\n",
       "      <td>5.000000</td>\n",
       "      <td>490.000000</td>\n",
       "      <td>391.00000</td>\n",
       "      <td>76.000000</td>\n",
       "      <td>163.000000</td>\n",
       "      <td>47.000000</td>\n",
       "      <td>17.800000</td>\n",
       "      <td>54.000000</td>\n",
       "      <td>26400.000000</td>\n",
       "      <td>8.000000</td>\n",
       "    </tr>\n",
       "  </tbody>\n",
       "</table>\n",
       "</div>"
      ],
      "text/plain": [
       "              age  blood_pressure  specific_gravity     albumin       sugar  \\\n",
       "count  400.000000      400.000000        400.000000  400.000000  400.000000   \n",
       "mean    51.472500       76.455000          1.015362    1.015000    0.395000   \n",
       "std     16.975118       13.476536          0.007767    1.272329    1.040038   \n",
       "min      2.000000       50.000000          1.000000    0.000000    0.000000   \n",
       "25%     42.000000       70.000000          1.010000    0.000000    0.000000   \n",
       "50%     54.000000       78.000000          1.015000    1.000000    0.000000   \n",
       "75%     64.000000       80.000000          1.020000    2.000000    0.000000   \n",
       "max     90.000000      180.000000          1.025000    5.000000    5.000000   \n",
       "\n",
       "       blood_glucose_random  blood_urea  serum_creatinine      sodium  \\\n",
       "count            400.000000   400.00000        400.000000  400.000000   \n",
       "mean             148.032500    57.40550          3.069375  137.631250   \n",
       "std               74.782635    49.28597          5.617509    9.206332   \n",
       "min               22.000000     1.50000          0.400000    4.500000   \n",
       "25%              101.000000    27.00000          0.900000  135.000000   \n",
       "50%              126.000000    44.00000          1.400000  138.000000   \n",
       "75%              150.000000    61.75000          3.000000  141.000000   \n",
       "max              490.000000   391.00000         76.000000  163.000000   \n",
       "\n",
       "        potassium  haemoglobin  packed_cell_volume  white_blood_cell_count  \\\n",
       "count  400.000000   400.000000          400.000000              400.000000   \n",
       "mean     4.709250    12.588000           39.260000             8775.500000   \n",
       "std      2.824018     2.720848            8.191162             2597.309144   \n",
       "min      2.500000     3.100000            9.000000             2200.000000   \n",
       "25%      4.000000    10.875000           34.000000             6975.000000   \n",
       "50%      4.700000    13.000000           41.000000             9450.000000   \n",
       "75%      5.000000    14.625000           44.000000             9800.000000   \n",
       "max     47.000000    17.800000           54.000000            26400.000000   \n",
       "\n",
       "       red_blood_cell_count  \n",
       "count            400.000000  \n",
       "mean               4.868750  \n",
       "std                0.871606  \n",
       "min                2.100000  \n",
       "25%                4.500000  \n",
       "50%                5.200000  \n",
       "75%                5.200000  \n",
       "max                8.000000  "
      ]
     },
     "execution_count": 280,
     "metadata": {},
     "output_type": "execute_result"
    }
   ],
   "source": [
    "df[continuous_features].describe()"
   ]
  },
  {
   "cell_type": "code",
   "execution_count": 281,
   "metadata": {
    "colab": {
     "base_uri": "https://localhost:8080/",
     "height": 857
    },
    "id": "wPJ4f1aAHPk6",
    "outputId": "939baf73-d8fe-4436-9221-8171cb0991d1"
   },
   "outputs": [
    {
     "data": {
      "image/png": "[encoded data removed]",
      "text/plain": [
       "<Figure size 1152x720 with 16 Axes>"
      ]
     },
     "metadata": {
      "needs_background": "light"
     },
     "output_type": "display_data"
    }
   ],
   "source": [
    "#Distribution of continous columns\n",
    "\n",
    "df[continuous_features].hist(figsize=(16, 10))\n",
    "plt.show()"
   ]
  },
  {
   "cell_type": "markdown",
   "metadata": {
    "id": "G4dUFbbGLf7j"
   },
   "source": [
    "\n",
    "* **Blood pressure:** The blood pressure distribution is bimodal, which means that there are two distinct peaks in the distribution. This could be due to the fact that there are two different populations in the data, such as men and women.\n",
    "* **Specific gravity:** The specific gravity distribution is right-skewed, which means that there is a longer tail on the right side of the distribution. This could be due to the fact that there are a few outliers in the data.\n",
    "* **Albumin:** The albumin distribution is normally distributed, which means that the data is evenly distributed around the mean.\n",
    "* **Sugar:** The sugar distribution is right-skewed, which means that there is a longer tail on the right side of the distribution. This could be due to the fact that there are a few outliers in the data.\n",
    "* **Blood urea:** The blood urea distribution is normally distributed, which means that the data is evenly distributed around the mean.\n",
    "* **Serum creatinine:** The serum creatinine distribution is right-skewed, which means that there is a longer tail on the right side of the distribution. This could be due to the fact that there are a few outliers in the data.\n",
    "* **Blood glucose_random:** The blood glucose_random distribution is right-skewed, which means that there is a longer tail on the right side of the distribution. This could be due to the fact that there are a few outliers in the data.\n",
    "* **Sodium:** The sodium distribution is normally distributed, which means that the data is evenly distributed around the mean.\n",
    "* **Potassium:** The potassium distribution is normally distributed, which means that the data is evenly distributed around the mean.\n",
    "* **Haemoglobin:** The haemoglobin distribution is normally distributed, which means that the data is evenly distributed around the mean.\n",
    "* **Packed_cell_volume:** The packed_cell_volume distribution is right-skewed, which means that there is a longer tail on the right side of the distribution. This could be due to the fact that there are a few outliers in the data.\n",
    "* **White_blood_cell_count:** The white_blood_cell_count distribution is right-skewed, which means that there is a longer tail on the right side of the distribution. This could be due to the fact that there are a few outliers in the data.\n",
    "* **Red_blood_cell_count:** The red_blood_cell_count distribution is right-skewed, which means that there is a longer tail on the right side of the distribution. This could be due to the fact that there are a few outliers in the data.\n"
   ]
  },
  {
   "cell_type": "markdown",
   "metadata": {
    "id": "_C4wiT7NbnM5"
   },
   "source": [
    "# Age vs Chronic kidney disease"
   ]
  },
  {
   "cell_type": "code",
   "execution_count": 282,
   "metadata": {
    "colab": {
     "base_uri": "https://localhost:8080/",
     "height": 555
    },
    "id": "VH8Ij-dZHPoF",
    "outputId": "2c983eb2-ab5a-4b18-c634-c40587bdfbbc"
   },
   "outputs": [
    {
     "data": {
      "image/png": "[encoded data removed]",
      "text/plain": [
       "<Figure size 1296x432 with 1 Axes>"
      ]
     },
     "metadata": {
      "needs_background": "light"
     },
     "output_type": "display_data"
    }
   ],
   "source": [
    "import matplotlib.pyplot as plt\n",
    "import seaborn as sns\n",
    "\n",
    "# Change age column to dtype int\n",
    "df['age'] = df['age'].astype(int)\n",
    "\n",
    "# Create the countplot\n",
    "plt.rcParams['figure.figsize'] = (18, 6)\n",
    "sns.countplot(x='age', hue='class', data=df, palette='Set1')\n",
    "\n",
    "# Set the title and its size using matplotlib\n",
    "plt.title(\"Age vs Class\", fontsize=18)\n",
    "\n",
    "# Show the legend to the right of the plot\n",
    "plt.legend(title='class', loc='center right')\n",
    "\n",
    "# Rotate x-axis tick labels by 90 degrees\n",
    "plt.xticks(rotation=90)\n",
    "\n",
    "# Decrease the x-axis tick label font size\n",
    "plt.xticks(fontsize=10)\n",
    "\n",
    "# Show the plot\n",
    "plt.show()\n"
   ]
  },
  {
   "cell_type": "markdown",
   "metadata": {
    "id": "ROQBVd9ybMOp"
   },
   "source": [
    "*Observation*:\n",
    "Most number of chronic kidney disease cases are reported at 55 to 65 age interval."
   ]
  },
  {
   "cell_type": "code",
   "execution_count": 283,
   "metadata": {
    "colab": {
     "base_uri": "https://localhost:8080/",
     "height": 864
    },
    "id": "Ree46pNbqmDL",
    "outputId": "f01eb2b3-0df8-4fd5-b79f-ab048e3963d9"
   },
   "outputs": [
    {
     "data": {
      "image/png": "[encoded data removed]",
      "text/plain": [
       "<Figure size 1296x576 with 2 Axes>"
      ]
     },
     "metadata": {
      "needs_background": "light"
     },
     "output_type": "display_data"
    }
   ],
   "source": [
    "# The correlation matrix measures the linear relationship between pairs of variables in the DataFrame.\n",
    "\n",
    "fig, ax = plt.subplots(figsize=(18, 8))\n",
    "\n",
    "# drawing the plot\n",
    "\n",
    "sns.heatmap(data=df.corr(),annot=True) # values of Pearson coefficient\n",
    "\n",
    "plt.show()"
   ]
  },
  {
   "cell_type": "code",
   "execution_count": 284,
   "metadata": {
    "colab": {
     "base_uri": "https://localhost:8080/"
    },
    "id": "LI0jPTMzokxg",
    "outputId": "889fb18f-a885-4fb3-bf72-6983e844dca1"
   },
   "outputs": [
    {
     "data": {
      "text/plain": [
       "ckd       250\n",
       "notckd    150\n",
       "Name: class, dtype: int64"
      ]
     },
     "execution_count": 284,
     "metadata": {},
     "output_type": "execute_result"
    }
   ],
   "source": [
    "df['class'].value_counts()"
   ]
  },
  {
   "cell_type": "code",
   "execution_count": 285,
   "metadata": {
    "id": "Bkuirqg7o4R2"
   },
   "outputs": [],
   "source": [
    "df['class'] = df['class'].map({'ckd': 1, 'notckd': 0})"
   ]
  },
  {
   "cell_type": "code",
   "execution_count": 286,
   "metadata": {
    "colab": {
     "base_uri": "https://localhost:8080/"
    },
    "id": "72J2qET0offO",
    "outputId": "c1bbdc0a-9f59-45a2-ed52-bc04b9beaca6"
   },
   "outputs": [
    {
     "data": {
      "text/plain": [
       "1    250\n",
       "0    150\n",
       "Name: class, dtype: int64"
      ]
     },
     "execution_count": 286,
     "metadata": {},
     "output_type": "execute_result"
    }
   ],
   "source": [
    "df['class'].value_counts()"
   ]
  },
  {
   "cell_type": "code",
   "execution_count": 287,
   "metadata": {
    "colab": {
     "base_uri": "https://localhost:8080/"
    },
    "id": "3Myh1jtXo80C",
    "outputId": "15333a90-aee4-47ba-876f-7e25e7c266da"
   },
   "outputs": [
    {
     "name": "stdout",
     "output_type": "stream",
     "text": [
      "class                     1.000000\n",
      "haemoglobin               0.716226\n",
      "packed_cell_volume        0.656471\n",
      "specific_gravity          0.629467\n",
      "albumin                   0.598389\n",
      "red_blood_cell_count      0.446612\n",
      "blood_glucose_random      0.401347\n",
      "blood_urea                0.371982\n",
      "sodium                    0.334900\n",
      "sugar                     0.294555\n",
      "serum_creatinine          0.293987\n",
      "white_blood_cell_count    0.290293\n",
      "blood_pressure            0.290145\n",
      "age                       0.225054\n",
      "potassium                 0.095915\n",
      "Name: class, dtype: float64\n"
     ]
    }
   ],
   "source": [
    "# correlation coefficients between the \"target\" variable and other variables\n",
    "print(df.corr()[\"class\"].abs().sort_values(ascending=False))"
   ]
  },
  {
   "cell_type": "markdown",
   "metadata": {
    "id": "MlVGAQ7Dx8Mh"
   },
   "source": [
    "## Interpretation:\n",
    "\n",
    "\n",
    "- **haemoglobin (0.716226):** There is a strong positive correlation between hemoglobin levels and the target variable \"class.\" As hemoglobin levels increase, the likelihood of having the condition (class) also increases.\n",
    "\n",
    "- **packed_cell_volume (0.656471):** Packed cell volume shows a strong positive correlation with the target variable. Higher packed cell volumes are associated with a higher likelihood of having the condition.\n",
    "\n",
    "- **specific_gravity (0.629467):** Specific gravity exhibits a strong positive correlation with the target variable. Higher specific gravity values are associated with a higher likelihood of having the condition.\n",
    "\n",
    "- **albumin (0.598389):** Albumin levels have a strong positive correlation with the target variable. Elevated albumin levels are associated with a higher probability of having the condition.\n",
    "\n",
    "- **red_blood_cell_count (0.446612):** There is a moderate positive correlation between red blood cell count and the target variable. Higher red blood cell counts are somewhat associated with a higher likelihood of having the condition.\n",
    "\n",
    "- **blood_glucose_random (0.401347):** Random blood glucose levels have a moderate positive correlation with the target variable. Higher random blood glucose levels are associated with a somewhat higher likelihood of having the condition.\n",
    "\n",
    "- **blood_urea (0.371982):** Blood urea levels exhibit a moderate positive correlation with the target variable. Elevated blood urea levels are associated with a somewhat higher probability of having the condition.\n",
    "\n",
    "- **sodium (0.334900):** Sodium levels show a moderate positive correlation with the target variable. Higher sodium levels are somewhat associated with a higher likelihood of having the condition.\n",
    "\n",
    "- **sugar (0.294555):** The presence of sugar in the urine has a positive correlation with the target variable. When sugar is present in the urine, it's associated with a somewhat higher likelihood of having the condition.\n",
    "\n",
    "- **serum_creatinine (0.293987):** Serum creatinine levels have a positive correlation with the target variable. Elevated serum creatinine levels are associated with a somewhat higher likelihood of having the condition.\n",
    "\n",
    "- **white_blood_cell_count (0.290293):** White blood cell count shows a positive correlation with the target variable. Higher white blood cell counts are associated with a somewhat higher likelihood of having the condition.\n",
    "\n",
    "- **blood_pressure (0.290145):** Blood pressure exhibits a positive correlation with the target variable. Higher blood pressure values are associated with a somewhat higher likelihood of having the condition.\n",
    "\n",
    "- **age (0.225054):** Age has a positive correlation with the target variable. Older individuals are somewhat more likely to have the condition.\n",
    "\n",
    "- **potassium (0.095915):** Potassium levels have a weak positive correlation with the target variable. Elevated potassium levels are only slightly associated with a higher likelihood of having the condition.\n",
    "\n",
    "In summary, these correlation coefficients indicate the strength and direction of the relationship between each feature and the likelihood of having the medical condition (class). Features with higher positive correlations are more strongly associated with the condition, while those with lower positive correlations have a weaker association."
   ]
  },
  {
   "cell_type": "markdown",
   "metadata": {},
   "source": [
    "## Encoding categorical variables"
   ]
  },
  {
   "cell_type": "code",
   "execution_count": 288,
   "metadata": {},
   "outputs": [],
   "source": [
    "\n",
    "# Mapping for 'red_blood_cells' column\n",
    "red_blood_cells_mapping = {'abnormal': 1, 'normal': 0}\n",
    "df['red_blood_cells'] = df['red_blood_cells'].map(red_blood_cells_mapping)\n",
    "\n",
    "# Mapping for 'pus_cell' column\n",
    "pus_cell_mapping = {'abnormal': 1, 'normal': 0}\n",
    "df['pus_cell'] = df['pus_cell'].map(pus_cell_mapping)\n",
    "\n",
    "# Mapping for 'pus_cell_clumps' column\n",
    "pus_cell_clumps_mapping = {'notpresent': 0, 'present': 1}\n",
    "df['pus_cell_clumps'] = df['pus_cell_clumps'].map(pus_cell_clumps_mapping)\n",
    "\n",
    "# Mapping for 'bacteria' column\n",
    "bacteria_mapping = {'notpresent': 0, 'present': 1}\n",
    "df['bacteria'] = df['bacteria'].map(bacteria_mapping)\n",
    "\n",
    "# Mapping for 'hypertension' column\n",
    "hypertension_mapping = {'yes': 1, 'no': 0}\n",
    "df['hypertension'] = df['hypertension'].map(hypertension_mapping)\n",
    "\n",
    "# Mapping for 'diabetes_mellitus' column\n",
    "diabetes_mellitus_mapping = {'yes': 1, 'no': 0}\n",
    "df['diabetes_mellitus'] = df['diabetes_mellitus'].map(diabetes_mellitus_mapping)\n",
    "\n",
    "# Mapping for 'coronary_artery_disease' column\n",
    "coronary_artery_disease_mapping = {'yes': 1, 'no': 0}\n",
    "df['coronary_artery_disease'] = df['coronary_artery_disease'].map(coronary_artery_disease_mapping)\n",
    "\n",
    "# Mapping for 'appetite' column\n",
    "appetite_mapping = {'good': 0, 'poor': 1}\n",
    "df['appetite'] = df['appetite'].map(appetite_mapping)\n",
    "\n",
    "# Mapping for 'pedal_edema' column\n",
    "pedal_edema_mapping = {'yes': 1, 'no': 0}\n",
    "df['pedal_edema'] = df['pedal_edema'].map(pedal_edema_mapping)\n",
    "\n",
    "# Mapping for 'aanemia' column\n",
    "aanemia_mapping = {'yes': 1, 'no': 0}\n",
    "df['aanemia'] = df['aanemia'].map(aanemia_mapping)\n"
   ]
  },
  {
   "cell_type": "code",
   "execution_count": 315,
   "metadata": {},
   "outputs": [
    {
     "data": {
      "text/html": [
       "<div>\n",
       "<style scoped>\n",
       "    .dataframe tbody tr th:only-of-type {\n",
       "        vertical-align: middle;\n",
       "    }\n",
       "\n",
       "    .dataframe tbody tr th {\n",
       "        vertical-align: top;\n",
       "    }\n",
       "\n",
       "    .dataframe thead th {\n",
       "        text-align: right;\n",
       "    }\n",
       "</style>\n",
       "<table border=\"1\" class=\"dataframe\">\n",
       "  <thead>\n",
       "    <tr style=\"text-align: right;\">\n",
       "      <th></th>\n",
       "      <th>age</th>\n",
       "      <th>blood_pressure</th>\n",
       "      <th>specific_gravity</th>\n",
       "      <th>albumin</th>\n",
       "      <th>sugar</th>\n",
       "      <th>red_blood_cells</th>\n",
       "      <th>pus_cell</th>\n",
       "      <th>pus_cell_clumps</th>\n",
       "      <th>bacteria</th>\n",
       "      <th>blood_glucose_random</th>\n",
       "      <th>...</th>\n",
       "      <th>packed_cell_volume</th>\n",
       "      <th>white_blood_cell_count</th>\n",
       "      <th>red_blood_cell_count</th>\n",
       "      <th>hypertension</th>\n",
       "      <th>diabetes_mellitus</th>\n",
       "      <th>coronary_artery_disease</th>\n",
       "      <th>appetite</th>\n",
       "      <th>pedal_edema</th>\n",
       "      <th>aanemia</th>\n",
       "      <th>class</th>\n",
       "    </tr>\n",
       "  </thead>\n",
       "  <tbody>\n",
       "    <tr>\n",
       "      <th>0</th>\n",
       "      <td>48</td>\n",
       "      <td>80.0</td>\n",
       "      <td>1.020</td>\n",
       "      <td>1.0</td>\n",
       "      <td>0.0</td>\n",
       "      <td>0</td>\n",
       "      <td>0</td>\n",
       "      <td>0</td>\n",
       "      <td>0</td>\n",
       "      <td>121.0</td>\n",
       "      <td>...</td>\n",
       "      <td>44.0</td>\n",
       "      <td>7800.0</td>\n",
       "      <td>5.2</td>\n",
       "      <td>1</td>\n",
       "      <td>1</td>\n",
       "      <td>0</td>\n",
       "      <td>0</td>\n",
       "      <td>0</td>\n",
       "      <td>0</td>\n",
       "      <td>1</td>\n",
       "    </tr>\n",
       "    <tr>\n",
       "      <th>1</th>\n",
       "      <td>7</td>\n",
       "      <td>50.0</td>\n",
       "      <td>1.020</td>\n",
       "      <td>4.0</td>\n",
       "      <td>0.0</td>\n",
       "      <td>0</td>\n",
       "      <td>0</td>\n",
       "      <td>0</td>\n",
       "      <td>0</td>\n",
       "      <td>148.0</td>\n",
       "      <td>...</td>\n",
       "      <td>38.0</td>\n",
       "      <td>6000.0</td>\n",
       "      <td>5.2</td>\n",
       "      <td>0</td>\n",
       "      <td>0</td>\n",
       "      <td>0</td>\n",
       "      <td>0</td>\n",
       "      <td>0</td>\n",
       "      <td>0</td>\n",
       "      <td>1</td>\n",
       "    </tr>\n",
       "    <tr>\n",
       "      <th>2</th>\n",
       "      <td>62</td>\n",
       "      <td>80.0</td>\n",
       "      <td>1.010</td>\n",
       "      <td>2.0</td>\n",
       "      <td>3.0</td>\n",
       "      <td>0</td>\n",
       "      <td>0</td>\n",
       "      <td>0</td>\n",
       "      <td>0</td>\n",
       "      <td>423.0</td>\n",
       "      <td>...</td>\n",
       "      <td>31.0</td>\n",
       "      <td>7500.0</td>\n",
       "      <td>5.2</td>\n",
       "      <td>0</td>\n",
       "      <td>1</td>\n",
       "      <td>0</td>\n",
       "      <td>1</td>\n",
       "      <td>0</td>\n",
       "      <td>1</td>\n",
       "      <td>1</td>\n",
       "    </tr>\n",
       "    <tr>\n",
       "      <th>3</th>\n",
       "      <td>48</td>\n",
       "      <td>70.0</td>\n",
       "      <td>1.005</td>\n",
       "      <td>4.0</td>\n",
       "      <td>0.0</td>\n",
       "      <td>0</td>\n",
       "      <td>1</td>\n",
       "      <td>1</td>\n",
       "      <td>0</td>\n",
       "      <td>117.0</td>\n",
       "      <td>...</td>\n",
       "      <td>32.0</td>\n",
       "      <td>6700.0</td>\n",
       "      <td>3.9</td>\n",
       "      <td>1</td>\n",
       "      <td>0</td>\n",
       "      <td>0</td>\n",
       "      <td>1</td>\n",
       "      <td>1</td>\n",
       "      <td>1</td>\n",
       "      <td>1</td>\n",
       "    </tr>\n",
       "    <tr>\n",
       "      <th>4</th>\n",
       "      <td>51</td>\n",
       "      <td>80.0</td>\n",
       "      <td>1.010</td>\n",
       "      <td>2.0</td>\n",
       "      <td>0.0</td>\n",
       "      <td>0</td>\n",
       "      <td>0</td>\n",
       "      <td>0</td>\n",
       "      <td>0</td>\n",
       "      <td>106.0</td>\n",
       "      <td>...</td>\n",
       "      <td>35.0</td>\n",
       "      <td>7300.0</td>\n",
       "      <td>4.6</td>\n",
       "      <td>0</td>\n",
       "      <td>0</td>\n",
       "      <td>0</td>\n",
       "      <td>0</td>\n",
       "      <td>0</td>\n",
       "      <td>0</td>\n",
       "      <td>1</td>\n",
       "    </tr>\n",
       "  </tbody>\n",
       "</table>\n",
       "<p>5 rows × 25 columns</p>\n",
       "</div>"
      ],
      "text/plain": [
       "   age  blood_pressure  specific_gravity  albumin  sugar  red_blood_cells  \\\n",
       "0   48            80.0             1.020      1.0    0.0                0   \n",
       "1    7            50.0             1.020      4.0    0.0                0   \n",
       "2   62            80.0             1.010      2.0    3.0                0   \n",
       "3   48            70.0             1.005      4.0    0.0                0   \n",
       "4   51            80.0             1.010      2.0    0.0                0   \n",
       "\n",
       "   pus_cell  pus_cell_clumps  bacteria  blood_glucose_random  ...  \\\n",
       "0         0                0         0                 121.0  ...   \n",
       "1         0                0         0                 148.0  ...   \n",
       "2         0                0         0                 423.0  ...   \n",
       "3         1                1         0                 117.0  ...   \n",
       "4         0                0         0                 106.0  ...   \n",
       "\n",
       "   packed_cell_volume  white_blood_cell_count  red_blood_cell_count  \\\n",
       "0                44.0                  7800.0                   5.2   \n",
       "1                38.0                  6000.0                   5.2   \n",
       "2                31.0                  7500.0                   5.2   \n",
       "3                32.0                  6700.0                   3.9   \n",
       "4                35.0                  7300.0                   4.6   \n",
       "\n",
       "   hypertension  diabetes_mellitus  coronary_artery_disease  appetite  \\\n",
       "0             1                  1                        0         0   \n",
       "1             0                  0                        0         0   \n",
       "2             0                  1                        0         1   \n",
       "3             1                  0                        0         1   \n",
       "4             0                  0                        0         0   \n",
       "\n",
       "   pedal_edema  aanemia  class  \n",
       "0            0        0      1  \n",
       "1            0        0      1  \n",
       "2            0        1      1  \n",
       "3            1        1      1  \n",
       "4            0        0      1  \n",
       "\n",
       "[5 rows x 25 columns]"
      ]
     },
     "execution_count": 315,
     "metadata": {},
     "output_type": "execute_result"
    }
   ],
   "source": [
    "df.head()"
   ]
  },
  {
   "cell_type": "code",
   "execution_count": 331,
   "metadata": {},
   "outputs": [
    {
     "data": {
      "text/plain": [
       "age                          23.000\n",
       "blood_pressure               80.000\n",
       "specific_gravity              1.025\n",
       "albumin                       0.000\n",
       "sugar                         0.000\n",
       "red_blood_cells               0.000\n",
       "pus_cell                      0.000\n",
       "pus_cell_clumps               0.000\n",
       "bacteria                      0.000\n",
       "blood_glucose_random         70.000\n",
       "blood_urea                   36.000\n",
       "serum_creatinine              1.000\n",
       "sodium                      150.000\n",
       "potassium                     4.600\n",
       "haemoglobin                  17.000\n",
       "packed_cell_volume           52.000\n",
       "white_blood_cell_count     9800.000\n",
       "red_blood_cell_count          5.000\n",
       "hypertension                  0.000\n",
       "diabetes_mellitus             0.000\n",
       "coronary_artery_disease       0.000\n",
       "appetite                      0.000\n",
       "pedal_edema                   0.000\n",
       "aanemia                       0.000\n",
       "class                         0.000\n",
       "Name: 251, dtype: float64"
      ]
     },
     "execution_count": 331,
     "metadata": {},
     "output_type": "execute_result"
    }
   ],
   "source": [
    "df.iloc[251]"
   ]
  },
  {
   "cell_type": "markdown",
   "metadata": {
    "id": "G9mPmGfArCZl"
   },
   "source": [
    "# Model building"
   ]
  },
  {
   "cell_type": "code",
   "execution_count": 290,
   "metadata": {
    "id": "LxW830D9rFyv"
   },
   "outputs": [],
   "source": [
    "## Machine Learning libraries\n",
    "import sklearn\n",
    "from sklearn.model_selection import train_test_split, GridSearchCV\n",
    "from sklearn.preprocessing import StandardScaler\n",
    "\n",
    "from sklearn.decomposition import PCA\n",
    "from sklearn.svm import SVC\n",
    "from sklearn.tree import DecisionTreeClassifier\n",
    "from sklearn.ensemble import RandomForestClassifier, BaggingClassifier, ExtraTreesClassifier, VotingClassifier, AdaBoostClassifier, GradientBoostingClassifier\n",
    "from xgboost import XGBClassifier\n",
    "from sklearn.linear_model import LogisticRegression\n",
    "from sklearn.metrics import confusion_matrix, accuracy_score, precision_score, recall_score, roc_auc_score\n",
    "from sklearn.pipeline import Pipeline\n",
    "from sklearn.impute import SimpleImputer\n",
    "from sklearn.preprocessing import OneHotEncoder, StandardScaler\n",
    "from sklearn.compose import ColumnTransformer\n",
    "\n",
    "### To save the model\n",
    "import pickle"
   ]
  },
  {
   "cell_type": "code",
   "execution_count": 291,
   "metadata": {
    "id": "KT8rgSzFrKIF"
   },
   "outputs": [],
   "source": [
    "X=df.iloc[:,:-1]\n",
    "y=df.iloc[:,-1]"
   ]
  },
  {
   "cell_type": "code",
   "execution_count": 292,
   "metadata": {
    "colab": {
     "base_uri": "https://localhost:8080/"
    },
    "id": "vwlhf4vXrPBy",
    "outputId": "3a591d4b-9dd0-47bc-8fe9-b49794ce2784"
   },
   "outputs": [
    {
     "name": "stdout",
     "output_type": "stream",
     "text": [
      "X.shape=(400, 24)\n",
      "y.shape=(400,)\n"
     ]
    }
   ],
   "source": [
    "print(f\"{X.shape=}\")\n",
    "print(f\"{y.shape=}\")"
   ]
  },
  {
   "cell_type": "code",
   "execution_count": 293,
   "metadata": {
    "colab": {
     "base_uri": "https://localhost:8080/"
    },
    "id": "iYBCHpLHrVMf",
    "outputId": "0572d65d-5857-4fb1-a585-dd5c03874850"
   },
   "outputs": [
    {
     "name": "stdout",
     "output_type": "stream",
     "text": [
      "categorical_features=['red_blood_cells', 'pus_cell', 'pus_cell_clumps', 'bacteria', 'hypertension', 'diabetes_mellitus', 'coronary_artery_disease', 'appetite', 'pedal_edema', 'aanemia']\n",
      "\n",
      "\n",
      "continuous_features=['age', 'blood_pressure', 'specific_gravity', 'albumin', 'sugar', 'blood_glucose_random', 'blood_urea', 'serum_creatinine', 'sodium', 'potassium', 'haemoglobin', 'packed_cell_volume', 'white_blood_cell_count', 'red_blood_cell_count']\n"
     ]
    }
   ],
   "source": [
    "#Dividing Categorical and continous columns\n",
    "categorical_features = []\n",
    "continuous_features = []\n",
    "\n",
    "for feature in X:\n",
    "    if len(df[feature].unique()) <= 5:\n",
    "        categorical_features.append(feature)\n",
    "    else:\n",
    "        continuous_features.append(feature)\n",
    "\n",
    "print(f\"{categorical_features=}\")\n",
    "print(\"\\n\")\n",
    "print(f\"{continuous_features=}\")"
   ]
  },
  {
   "cell_type": "code",
   "execution_count": 294,
   "metadata": {
    "id": "lCHXzeJWsROQ"
   },
   "outputs": [],
   "source": [
    "# Create a numerical pipeline for continuous features:\n",
    "continuous_pipeline = Pipeline(\n",
    "    steps=[\n",
    "        (\"imputer\", SimpleImputer(strategy=\"median\")),  # Step 1: Impute missing values with the median\n",
    "        (\"scaler\", StandardScaler())                    # Step 2: Scale features to have mean=0 and variance=1\n",
    "    ]\n",
    ")\n",
    "\n",
    "# Create a categorical pipeline for categorical features:\n",
    "categorical_pipeline = Pipeline(\n",
    "    steps=[\n",
    "        (\"imputer\", SimpleImputer(strategy=\"most_frequent\")),  # Step 1: Impute missing values with the most frequent value\n",
    "                         \n",
    "    ]\n",
    ")\n",
    "\n",
    "# Create a preprocessor using ColumnTransformer to handle both types of features:\n",
    "preprocessor = ColumnTransformer(\n",
    "    transformers=[\n",
    "        (\"continuous_pipeline\", continuous_pipeline, continuous_features),  # Apply num_pipeline to continuous features\n",
    "        (\"categorical_pipeline\", categorical_pipeline, categorical_features)  # Apply cat_pipeline to categorical features\n",
    "    ]\n",
    ")\n"
   ]
  },
  {
   "cell_type": "code",
   "execution_count": 295,
   "metadata": {
    "id": "3iuQjUCcsnkP"
   },
   "outputs": [],
   "source": [
    "X = preprocessor.fit_transform(X)"
   ]
  },
  {
   "cell_type": "code",
   "execution_count": 296,
   "metadata": {
    "colab": {
     "base_uri": "https://localhost:8080/"
    },
    "id": "SwOUDtupssOm",
    "outputId": "5ed9b558-f8df-44bc-a99d-8e1abd137ed5"
   },
   "outputs": [
    {
     "data": {
      "text/plain": [
       "(400, 24)"
      ]
     },
     "execution_count": 296,
     "metadata": {},
     "output_type": "execute_result"
    }
   ],
   "source": [
    "X.shape"
   ]
  },
  {
   "cell_type": "code",
   "execution_count": 297,
   "metadata": {
    "id": "JbwEkgv3svvN"
   },
   "outputs": [],
   "source": [
    "from imblearn.combine import SMOTETomek\n",
    "\n",
    "# Initialize the SMOTETomek sampler\n",
    "smk = SMOTETomek()\n",
    "\n",
    "# Apply SMOTETomek to balance the dataset\n",
    "X_bal, y_bal = smk.fit_resample(X, y)\n"
   ]
  },
  {
   "cell_type": "code",
   "execution_count": 298,
   "metadata": {
    "colab": {
     "base_uri": "https://localhost:8080/"
    },
    "id": "rwRO7ne0s2Y_",
    "outputId": "7f5a53a9-88a3-4439-a88d-4d938c04a503"
   },
   "outputs": [
    {
     "name": "stdout",
     "output_type": "stream",
     "text": [
      "Balanced Value Counts:\n",
      "1    250\n",
      "0    250\n",
      "Name: class, dtype: int64\n"
     ]
    }
   ],
   "source": [
    "# Check the balanced value counts after resampling\n",
    "balanced_value_counts = pd.Series(y_bal).value_counts()\n",
    "\n",
    "print(\"Balanced Value Counts:\")\n",
    "print(balanced_value_counts)"
   ]
  },
  {
   "cell_type": "code",
   "execution_count": 299,
   "metadata": {
    "colab": {
     "base_uri": "https://localhost:8080/"
    },
    "id": "ja3KXe6Bs8F3",
    "outputId": "8be28c79-62b3-4e37-e5ef-0a07e12ac710"
   },
   "outputs": [
    {
     "data": {
      "text/plain": [
       "(500, 24)"
      ]
     },
     "execution_count": 299,
     "metadata": {},
     "output_type": "execute_result"
    }
   ],
   "source": [
    "X_bal.shape"
   ]
  },
  {
   "cell_type": "code",
   "execution_count": 300,
   "metadata": {
    "id": "gSy8oLyytBQl"
   },
   "outputs": [],
   "source": [
    "### random state train test split will be same with all people using random_state=19\n",
    "\n",
    "X_train, X_test, y_train, y_test = train_test_split(X_bal, y_bal, test_size=0.25, random_state=1)"
   ]
  },
  {
   "cell_type": "code",
   "execution_count": 301,
   "metadata": {
    "colab": {
     "base_uri": "https://localhost:8080/"
    },
    "id": "DtVx0mwztEjl",
    "outputId": "91d4140e-c480-46c8-8ef3-f6647f5f33dd"
   },
   "outputs": [
    {
     "name": "stdout",
     "output_type": "stream",
     "text": [
      "X_train.shape=(375, 24)\n",
      "y_train.shape=(375,)\n",
      "X_test.shape=(125, 24)\n",
      "y_test.shape=(125,)\n"
     ]
    }
   ],
   "source": [
    "print(f\"{X_train.shape=}\")\n",
    "print(f\"{y_train.shape=}\")\n",
    "\n",
    "print(f\"{X_test.shape=}\")\n",
    "print(f\"{y_test.shape=}\")"
   ]
  },
  {
   "cell_type": "code",
   "execution_count": 302,
   "metadata": {
    "id": "OEyz7wdJtI7m"
   },
   "outputs": [],
   "source": [
    "### Creating function that will evaluate model\n",
    "def model_evaluator(actual_val, pred_val):\n",
    "    \"\"\"\n",
    "    The function takes actual value and predicted value as argument\n",
    "    and returns Accuracy, Precision, Recall, F-1 Score rounded to\n",
    "    3 decimal places.\n",
    "    \"\"\"\n",
    "    acc=round(accuracy_score(actual_val, pred_val),5)\n",
    "    prec=round(precision_score(actual_val, pred_val),5)\n",
    "    rec=round(recall_score(actual_val, pred_val),5)\n",
    "    f1=round(2*prec*rec/(prec+rec),5)\n",
    "    roc_auc=round(roc_auc_score(actual_val, pred_val),5)\n",
    "    return acc, prec, rec, f1, roc_auc\n",
    "\n",
    "### creating dictionary containing model objects for different algorithmn\n",
    "models={\n",
    "    \"Logistic Regression\":LogisticRegression(),\n",
    "    \"Support Vector Classifier\":SVC(),\n",
    "    \"Decision Tree Classifier\":DecisionTreeClassifier(),\n",
    "    \"Random Forest Classifier\":RandomForestClassifier(),\n",
    "    \"Bagging Classifier\": BaggingClassifier(base_estimator=LogisticRegression()),\n",
    "    \"Extra Tree Classifier\": ExtraTreesClassifier(),\n",
    "    \"AdaBoost Classifier\": AdaBoostClassifier(),\n",
    "    \"GradientBoost Classifier\": GradientBoostingClassifier(),\n",
    "    \"XGBoost Classifier\": XGBClassifier()\n",
    "}\n",
    "\n",
    "\n",
    "\n",
    "### Creating function for model training\n",
    "def model_trainer(model, X_train_data, y_train_data, X_test_data):\n",
    "    \"\"\"\n",
    "    This function takes model object, X train data, y train data, and\n",
    "    X test data as argument, trains model and gives prediction for train data\n",
    "    and prediction for test data.\n",
    "    \"\"\"\n",
    "    model.fit(X_train_data, y_train_data)\n",
    "    y_train_pred=model.predict(X_train_data)\n",
    "    pred_val=model.predict(X_test_data)\n",
    "    return y_train_pred, pred_val"
   ]
  },
  {
   "cell_type": "code",
   "execution_count": 303,
   "metadata": {
    "colab": {
     "base_uri": "https://localhost:8080/"
    },
    "id": "3_Mq6YFLtLec",
    "outputId": "8316dc5a-7e89-4219-de6d-a8b02e921851"
   },
   "outputs": [
    {
     "name": "stdout",
     "output_type": "stream",
     "text": [
      "Logistic Regression Model\n",
      "\n",
      "Model Performance for training dataset\n",
      "Accuracy score: 0.99467\n",
      "Precision Score: 1.0\n",
      "Recall Score: 0.9898\n",
      "f1 Score: 0.99487\n",
      "Roc_Auc Score: 0.9949\n",
      "--------------------------------------------------\n",
      "Model Performance for Test dataset\n",
      "Accuracy score: 0.984\n",
      "Precision Score: 1.0\n",
      "Recall Score: 0.96296\n",
      "f1 Score: 0.98113\n",
      "Roc_Auc Score: 0.98148\n",
      "**************************************************\n",
      "\n",
      "\n",
      "Support Vector Classifier Model\n",
      "\n",
      "Model Performance for training dataset\n",
      "Accuracy score: 0.992\n",
      "Precision Score: 1.0\n",
      "Recall Score: 0.98469\n",
      "f1 Score: 0.99229\n",
      "Roc_Auc Score: 0.99235\n",
      "--------------------------------------------------\n",
      "Model Performance for Test dataset\n",
      "Accuracy score: 0.984\n",
      "Precision Score: 1.0\n",
      "Recall Score: 0.96296\n",
      "f1 Score: 0.98113\n",
      "Roc_Auc Score: 0.98148\n",
      "**************************************************\n",
      "\n",
      "\n",
      "Decision Tree Classifier Model\n",
      "\n",
      "Model Performance for training dataset\n",
      "Accuracy score: 1.0\n",
      "Precision Score: 1.0\n",
      "Recall Score: 1.0\n",
      "f1 Score: 1.0\n",
      "Roc_Auc Score: 1.0\n",
      "--------------------------------------------------\n",
      "Model Performance for Test dataset\n",
      "Accuracy score: 0.928\n",
      "Precision Score: 0.94118\n",
      "Recall Score: 0.88889\n",
      "f1 Score: 0.91429\n",
      "Roc_Auc Score: 0.92332\n",
      "**************************************************\n",
      "\n",
      "\n",
      "Random Forest Classifier Model\n",
      "\n",
      "Model Performance for training dataset\n",
      "Accuracy score: 1.0\n",
      "Precision Score: 1.0\n",
      "Recall Score: 1.0\n",
      "f1 Score: 1.0\n",
      "Roc_Auc Score: 1.0\n",
      "--------------------------------------------------\n",
      "Model Performance for Test dataset\n",
      "Accuracy score: 0.992\n",
      "Precision Score: 1.0\n",
      "Recall Score: 0.98148\n",
      "f1 Score: 0.99065\n",
      "Roc_Auc Score: 0.99074\n",
      "**************************************************\n",
      "\n",
      "\n",
      "Bagging Classifier Model\n",
      "\n",
      "Model Performance for training dataset\n",
      "Accuracy score: 0.992\n",
      "Precision Score: 1.0\n",
      "Recall Score: 0.98469\n",
      "f1 Score: 0.99229\n",
      "Roc_Auc Score: 0.99235\n",
      "--------------------------------------------------\n",
      "Model Performance for Test dataset\n",
      "Accuracy score: 0.984\n",
      "Precision Score: 1.0\n",
      "Recall Score: 0.96296\n",
      "f1 Score: 0.98113\n",
      "Roc_Auc Score: 0.98148\n",
      "**************************************************\n",
      "\n",
      "\n",
      "Extra Tree Classifier Model\n",
      "\n",
      "Model Performance for training dataset\n",
      "Accuracy score: 1.0\n",
      "Precision Score: 1.0\n",
      "Recall Score: 1.0\n",
      "f1 Score: 1.0\n",
      "Roc_Auc Score: 1.0\n",
      "--------------------------------------------------\n",
      "Model Performance for Test dataset\n",
      "Accuracy score: 0.992\n",
      "Precision Score: 1.0\n",
      "Recall Score: 0.98148\n",
      "f1 Score: 0.99065\n",
      "Roc_Auc Score: 0.99074\n",
      "**************************************************\n",
      "\n",
      "\n",
      "AdaBoost Classifier Model\n",
      "\n",
      "Model Performance for training dataset\n",
      "Accuracy score: 1.0\n",
      "Precision Score: 1.0\n",
      "Recall Score: 1.0\n",
      "f1 Score: 1.0\n",
      "Roc_Auc Score: 1.0\n",
      "--------------------------------------------------\n",
      "Model Performance for Test dataset\n",
      "Accuracy score: 0.976\n",
      "Precision Score: 1.0\n",
      "Recall Score: 0.94444\n",
      "f1 Score: 0.97143\n",
      "Roc_Auc Score: 0.97222\n",
      "**************************************************\n",
      "\n",
      "\n",
      "GradientBoost Classifier Model\n",
      "\n",
      "Model Performance for training dataset\n",
      "Accuracy score: 1.0\n",
      "Precision Score: 1.0\n",
      "Recall Score: 1.0\n",
      "f1 Score: 1.0\n",
      "Roc_Auc Score: 1.0\n",
      "--------------------------------------------------\n",
      "Model Performance for Test dataset\n",
      "Accuracy score: 0.992\n",
      "Precision Score: 1.0\n",
      "Recall Score: 0.98148\n",
      "f1 Score: 0.99065\n",
      "Roc_Auc Score: 0.99074\n",
      "**************************************************\n",
      "\n",
      "\n",
      "XGBoost Classifier Model\n",
      "\n",
      "Model Performance for training dataset\n",
      "Accuracy score: 1.0\n",
      "Precision Score: 1.0\n",
      "Recall Score: 1.0\n",
      "f1 Score: 1.0\n",
      "Roc_Auc Score: 1.0\n",
      "--------------------------------------------------\n",
      "Model Performance for Test dataset\n",
      "Accuracy score: 0.992\n",
      "Precision Score: 1.0\n",
      "Recall Score: 0.98148\n",
      "f1 Score: 0.99065\n",
      "Roc_Auc Score: 0.99074\n",
      "**************************************************\n",
      "\n",
      "\n"
     ]
    }
   ],
   "source": [
    "### Creating empty list to store model names\n",
    "model_list=[]\n",
    "### creating empty list to store accuracy score for each model\n",
    "acc_score_list=[]\n",
    "### creating empty list for storing precision score\n",
    "prec_score_list=[]\n",
    "### creating list to store recall score\n",
    "recall_list=[]\n",
    "### creating list to store f1_score score\n",
    "f1_score_list=[]\n",
    "### creating list to store roc_auc score\n",
    "roc_auc_list=[]\n",
    "\n",
    "\n",
    "### Training all models and getting their performance and storing it in empty list\n",
    "for num in range(len(list(models))):\n",
    "    ### selecting model\n",
    "    model=list(models.values())[num]\n",
    "\n",
    "    ### getting training data prediction and test data prediction\n",
    "    y_pred, pred_val=model_trainer(model,X_train, y_train, X_test)\n",
    "\n",
    "    ### Getting model performance parameters for training data\n",
    "    acc_score, prec_score, rec_score, f1_score, roc_auc=model_evaluator(y_train,y_pred )\n",
    "    print(\"{} Model\\n\".format(list(models.keys())[num]))\n",
    "    print(\"Model Performance for training dataset\")\n",
    "    print(\"Accuracy score: {}\\nPrecision Score: {}\\nRecall Score: {}\\nf1 Score: {}\\nRoc_Auc Score: {}\".format(acc_score,prec_score, rec_score, f1_score, roc_auc))\n",
    "    print(\"-\"*50)\n",
    "\n",
    "    ### Getting model performance parameters for test data\n",
    "    acc_score, prec_score, rec_score, f1_score, roc_auc=model_evaluator(y_test,pred_val)\n",
    "    print(\"Model Performance for Test dataset\")\n",
    "    print(\"Accuracy score: {}\\nPrecision Score: {}\\nRecall Score: {}\\nf1 Score: {}\\nRoc_Auc Score: {}\".format(acc_score,prec_score, rec_score, f1_score, roc_auc))\n",
    "\n",
    "    ### Appending model name and Performance score in seperate list so that models can be sorted in terms of performance\n",
    "    model_list.append(list(models.keys())[num])\n",
    "    acc_score_list.append(acc_score)\n",
    "    prec_score_list.append(prec_score)\n",
    "    recall_list.append(rec_score)\n",
    "    f1_score_list.append(f1_score)\n",
    "    roc_auc_list.append(roc_auc)\n",
    "    print(\"*\"*50)\n",
    "    print(\"\\n\")"
   ]
  },
  {
   "cell_type": "code",
   "execution_count": 304,
   "metadata": {
    "colab": {
     "base_uri": "https://localhost:8080/",
     "height": 331
    },
    "id": "FxVqnKtTtP5s",
    "outputId": "4146cbdd-dc94-49b2-ad5c-bc91f4e59844"
   },
   "outputs": [
    {
     "data": {
      "text/html": [
       "<div>\n",
       "<style scoped>\n",
       "    .dataframe tbody tr th:only-of-type {\n",
       "        vertical-align: middle;\n",
       "    }\n",
       "\n",
       "    .dataframe tbody tr th {\n",
       "        vertical-align: top;\n",
       "    }\n",
       "\n",
       "    .dataframe thead th {\n",
       "        text-align: right;\n",
       "    }\n",
       "</style>\n",
       "<table border=\"1\" class=\"dataframe\">\n",
       "  <thead>\n",
       "    <tr style=\"text-align: right;\">\n",
       "      <th></th>\n",
       "      <th>Model</th>\n",
       "      <th>Accuracy</th>\n",
       "      <th>Precision</th>\n",
       "      <th>Recall</th>\n",
       "      <th>F1 Score</th>\n",
       "      <th>Roc_Auc Score</th>\n",
       "    </tr>\n",
       "  </thead>\n",
       "  <tbody>\n",
       "    <tr>\n",
       "      <th>0</th>\n",
       "      <td>Random Forest Classifier</td>\n",
       "      <td>0.992</td>\n",
       "      <td>1.00000</td>\n",
       "      <td>0.98148</td>\n",
       "      <td>0.99065</td>\n",
       "      <td>0.99074</td>\n",
       "    </tr>\n",
       "    <tr>\n",
       "      <th>1</th>\n",
       "      <td>Extra Tree Classifier</td>\n",
       "      <td>0.992</td>\n",
       "      <td>1.00000</td>\n",
       "      <td>0.98148</td>\n",
       "      <td>0.99065</td>\n",
       "      <td>0.99074</td>\n",
       "    </tr>\n",
       "    <tr>\n",
       "      <th>2</th>\n",
       "      <td>GradientBoost Classifier</td>\n",
       "      <td>0.992</td>\n",
       "      <td>1.00000</td>\n",
       "      <td>0.98148</td>\n",
       "      <td>0.99065</td>\n",
       "      <td>0.99074</td>\n",
       "    </tr>\n",
       "    <tr>\n",
       "      <th>3</th>\n",
       "      <td>XGBoost Classifier</td>\n",
       "      <td>0.992</td>\n",
       "      <td>1.00000</td>\n",
       "      <td>0.98148</td>\n",
       "      <td>0.99065</td>\n",
       "      <td>0.99074</td>\n",
       "    </tr>\n",
       "    <tr>\n",
       "      <th>4</th>\n",
       "      <td>Logistic Regression</td>\n",
       "      <td>0.984</td>\n",
       "      <td>1.00000</td>\n",
       "      <td>0.96296</td>\n",
       "      <td>0.98113</td>\n",
       "      <td>0.98148</td>\n",
       "    </tr>\n",
       "    <tr>\n",
       "      <th>5</th>\n",
       "      <td>Support Vector Classifier</td>\n",
       "      <td>0.984</td>\n",
       "      <td>1.00000</td>\n",
       "      <td>0.96296</td>\n",
       "      <td>0.98113</td>\n",
       "      <td>0.98148</td>\n",
       "    </tr>\n",
       "    <tr>\n",
       "      <th>6</th>\n",
       "      <td>Bagging Classifier</td>\n",
       "      <td>0.984</td>\n",
       "      <td>1.00000</td>\n",
       "      <td>0.96296</td>\n",
       "      <td>0.98113</td>\n",
       "      <td>0.98148</td>\n",
       "    </tr>\n",
       "    <tr>\n",
       "      <th>7</th>\n",
       "      <td>AdaBoost Classifier</td>\n",
       "      <td>0.976</td>\n",
       "      <td>1.00000</td>\n",
       "      <td>0.94444</td>\n",
       "      <td>0.97143</td>\n",
       "      <td>0.97222</td>\n",
       "    </tr>\n",
       "    <tr>\n",
       "      <th>8</th>\n",
       "      <td>Decision Tree Classifier</td>\n",
       "      <td>0.928</td>\n",
       "      <td>0.94118</td>\n",
       "      <td>0.88889</td>\n",
       "      <td>0.91429</td>\n",
       "      <td>0.92332</td>\n",
       "    </tr>\n",
       "  </tbody>\n",
       "</table>\n",
       "</div>"
      ],
      "text/plain": [
       "                       Model  Accuracy  Precision   Recall  F1 Score  \\\n",
       "0   Random Forest Classifier     0.992    1.00000  0.98148   0.99065   \n",
       "1      Extra Tree Classifier     0.992    1.00000  0.98148   0.99065   \n",
       "2   GradientBoost Classifier     0.992    1.00000  0.98148   0.99065   \n",
       "3         XGBoost Classifier     0.992    1.00000  0.98148   0.99065   \n",
       "4        Logistic Regression     0.984    1.00000  0.96296   0.98113   \n",
       "5  Support Vector Classifier     0.984    1.00000  0.96296   0.98113   \n",
       "6         Bagging Classifier     0.984    1.00000  0.96296   0.98113   \n",
       "7        AdaBoost Classifier     0.976    1.00000  0.94444   0.97143   \n",
       "8   Decision Tree Classifier     0.928    0.94118  0.88889   0.91429   \n",
       "\n",
       "   Roc_Auc Score  \n",
       "0        0.99074  \n",
       "1        0.99074  \n",
       "2        0.99074  \n",
       "3        0.99074  \n",
       "4        0.98148  \n",
       "5        0.98148  \n",
       "6        0.98148  \n",
       "7        0.97222  \n",
       "8        0.92332  "
      ]
     },
     "execution_count": 304,
     "metadata": {},
     "output_type": "execute_result"
    }
   ],
   "source": [
    "### Tabulating model performance in dataframe\n",
    "### Sorting the model based on Recall as this is a health related problem statement\n",
    "### So our main objective is to reduce False Negatives which may lead to serious medical complications.\n",
    "### False Negative => The person has cancer but model prediction is Negative(No Cancer).\n",
    "model_perf=pd.DataFrame(list(zip(model_list, acc_score_list,prec_score_list, recall_list,f1_score_list, roc_auc_list)), columns=['Model', 'Accuracy', 'Precision', 'Recall', 'F1 Score', 'Roc_Auc Score']).sort_values(by=['Recall'], ascending=False,).reset_index()\n",
    "model_perf.drop('index', axis=1, inplace=True)\n",
    "model_perf"
   ]
  },
  {
   "cell_type": "markdown",
   "metadata": {
    "id": "woHiA1S1w2J2"
   },
   "source": [
    "# Hyperparameter tuning"
   ]
  },
  {
   "cell_type": "code",
   "execution_count": 305,
   "metadata": {
    "colab": {
     "base_uri": "https://localhost:8080/"
    },
    "id": "3AydHqJetmp0",
    "outputId": "0946031e-4c11-4960-f7c8-19fe17523825"
   },
   "outputs": [
    {
     "name": "stdout",
     "output_type": "stream",
     "text": [
      "Training Data Metrics:\n",
      "Accuracy: 1.00000\n",
      "Precision: 1.00000\n",
      "Recall: 1.00000\n",
      "F1 Score: 1.00000\n",
      "ROC AUC: 1.00000\n",
      "--------------------------------------------------\n",
      "Test Data Metrics:\n",
      "Accuracy: 0.99000\n",
      "Precision: 0.98485\n",
      "Recall: 1.00000\n",
      "F1 Score: 0.99237\n",
      "ROC AUC: 0.98571\n",
      "--------------------------------------------------\n"
     ]
    },
    {
     "name": "stderr",
     "output_type": "stream",
     "text": [
      "C:\\Users\\Lenovo\\anaconda3\\lib\\site-packages\\sklearn\\ensemble\\_forest.py:427: FutureWarning: `max_features='auto'` has been deprecated in 1.1 and will be removed in 1.3. To keep the past behaviour, explicitly set `max_features='sqrt'` or remove this parameter as it is also the default value for RandomForestClassifiers and ExtraTreesClassifiers.\n",
      "  warn(\n"
     ]
    }
   ],
   "source": [
    "from sklearn.ensemble import RandomForestClassifier\n",
    "from sklearn.metrics import accuracy_score, precision_score, recall_score, f1_score, roc_auc_score\n",
    "from sklearn.model_selection import train_test_split\n",
    "\n",
    "# Split your data into training and test sets\n",
    "X_train, X_test, y_train, y_test = train_test_split(X, y, test_size=0.25, random_state=42)\n",
    "\n",
    "\n",
    "# Create a Random Forest Classifier with hyperparameters\n",
    "random_forest_model = RandomForestClassifier(\n",
    "    n_estimators=100,             # Number of decision trees in the forest\n",
    "    max_depth=None,               # Maximum depth of each decision tree, None allows full growth\n",
    "    min_samples_split=2,          # Minimum number of samples required to split an internal node\n",
    "    min_samples_leaf=1,           # Minimum number of samples required to be a leaf node\n",
    "    max_features='auto',          # Number of features to consider when looking for the best split ('auto' uses all features)\n",
    "    random_state=42               # Seed for random number generation (for reproducibility)\n",
    ")\n",
    "\n",
    "\n",
    "# Fit the model to the training data\n",
    "random_forest_model.fit(X_train, y_train)\n",
    "\n",
    "# Make predictions on the training data and test data\n",
    "y_train_pred = random_forest_model.predict(X_train)\n",
    "y_test_pred = random_forest_model.predict(X_test)\n",
    "\n",
    "# Evaluate the model's performance on both training and test data\n",
    "def evaluate_model(y_true, y_pred, label):\n",
    "    acc = accuracy_score(y_true, y_pred)\n",
    "    prec = precision_score(y_true, y_pred)\n",
    "    rec = recall_score(y_true, y_pred)\n",
    "    f1 = f1_score(y_true, y_pred)\n",
    "    roc_auc = roc_auc_score(y_true, y_pred)\n",
    "\n",
    "    print(f\"{label} Metrics:\")\n",
    "    print(f\"Accuracy: {acc:.5f}\")\n",
    "    print(f\"Precision: {prec:.5f}\")\n",
    "    print(f\"Recall: {rec:.5f}\")\n",
    "    print(f\"F1 Score: {f1:.5f}\")\n",
    "    print(f\"ROC AUC: {roc_auc:.5f}\")\n",
    "    print(\"-\" * 50)\n",
    "\n",
    "# Evaluate the model on training data\n",
    "evaluate_model(y_train, y_train_pred, \"Training Data\")\n",
    "\n",
    "# Evaluate the model on test data\n",
    "evaluate_model(y_test, y_test_pred, \"Test Data\")\n"
   ]
  },
  {
   "cell_type": "code",
   "execution_count": 306,
   "metadata": {},
   "outputs": [
    {
     "name": "stdout",
     "output_type": "stream",
     "text": [
      "Training Data Metrics:\n",
      "Accuracy: 1.00000\n",
      "Precision: 1.00000\n",
      "Recall: 1.00000\n",
      "F1 Score: 1.00000\n",
      "ROC AUC: 1.00000\n",
      "--------------------------------------------------\n",
      "Test Data Metrics:\n",
      "Accuracy: 0.99000\n",
      "Precision: 0.98485\n",
      "Recall: 1.00000\n",
      "F1 Score: 0.99237\n",
      "ROC AUC: 0.98571\n",
      "--------------------------------------------------\n"
     ]
    }
   ],
   "source": [
    "from sklearn.ensemble import RandomForestClassifier\n",
    "from sklearn.metrics import accuracy_score, precision_score, recall_score, f1_score, roc_auc_score\n",
    "from sklearn.model_selection import train_test_split\n",
    "\n",
    "# Split your data into training and test sets\n",
    "X_train, X_test, y_train, y_test = train_test_split(X, y, test_size=0.25, random_state=42)\n",
    "\n",
    "# Create a Random Forest Classifier without hyperparameters\n",
    "random_forest_model = RandomForestClassifier(random_state=42)\n",
    "\n",
    "# Fit the model to the training data\n",
    "random_forest_model.fit(X_train, y_train)\n",
    "\n",
    "# Make predictions on the training data and test data\n",
    "y_train_pred = random_forest_model.predict(X_train)\n",
    "y_test_pred = random_forest_model.predict(X_test)\n",
    "\n",
    "# Evaluate the model's performance on both training and test data\n",
    "def evaluate_model(y_true, y_pred, label):\n",
    "    acc = accuracy_score(y_true, y_pred)\n",
    "    prec = precision_score(y_true, y_pred)\n",
    "    rec = recall_score(y_true, y_pred)\n",
    "    f1 = f1_score(y_true, y_pred)\n",
    "    roc_auc = roc_auc_score(y_true, y_pred)\n",
    "\n",
    "    print(f\"{label} Metrics:\")\n",
    "    print(f\"Accuracy: {acc:.5f}\")\n",
    "    print(f\"Precision: {prec:.5f}\")\n",
    "    print(f\"Recall: {rec:.5f}\")\n",
    "    print(f\"F1 Score: {f1:.5f}\")\n",
    "    print(f\"ROC AUC: {roc_auc:.5f}\")\n",
    "    print(\"-\" * 50)\n",
    "\n",
    "# Evaluate the model on training data\n",
    "evaluate_model(y_train, y_train_pred, \"Training Data\")\n",
    "\n",
    "# Evaluate the model on test data\n",
    "evaluate_model(y_test, y_test_pred, \"Test Data\")\n"
   ]
  },
  {
   "cell_type": "code",
   "execution_count": 307,
   "metadata": {
    "colab": {
     "base_uri": "https://localhost:8080/"
    },
    "id": "6XpzIVUQtvk_",
    "outputId": "59b7d250-24a4-4e20-f9f2-1f374c1e40a6"
   },
   "outputs": [
    {
     "data": {
      "text/plain": [
       "array([[34,  1],\n",
       "       [ 0, 65]], dtype=int64)"
      ]
     },
     "execution_count": 307,
     "metadata": {},
     "output_type": "execute_result"
    }
   ],
   "source": [
    "cm = confusion_matrix(y_test, y_test_pred)\n",
    "cm"
   ]
  },
  {
   "cell_type": "code",
   "execution_count": 308,
   "metadata": {
    "colab": {
     "base_uri": "https://localhost:8080/",
     "height": 297
    },
    "id": "P4HH0gSMtydm",
    "outputId": "97812be6-5eef-4c50-dbf3-77e89e8b91ee"
   },
   "outputs": [
    {
     "data": {
      "image/png": "[encoded data removed]",
      "text/plain": [
       "<Figure size 216x216 with 2 Axes>"
      ]
     },
     "metadata": {
      "needs_background": "light"
     },
     "output_type": "display_data"
    }
   ],
   "source": [
    "from sklearn.metrics import confusion_matrix\n",
    "from sklearn.metrics import ConfusionMatrixDisplay\n",
    "# Calculate the confusion matrix\n",
    "cm = confusion_matrix(y_test, y_test_pred, labels=random_forest_model.classes_)\n",
    "\n",
    "# Create a smaller figure with the desired size\n",
    "plt.figure(figsize=(3, 3))  # Adjust the width and height as needed\n",
    "\n",
    "# Create the ConfusionMatrixDisplay object\n",
    "disp = ConfusionMatrixDisplay(confusion_matrix=cm, display_labels=random_forest_model.classes_)\n",
    "\n",
    "# Get the current axes and set the size within the axes\n",
    "ax = plt.gca()\n",
    "disp.plot(ax=ax)\n",
    "plt.show()"
   ]
  },
  {
   "cell_type": "code",
   "execution_count": 309,
   "metadata": {
    "colab": {
     "base_uri": "https://localhost:8080/"
    },
    "id": "_Mdmc4Iht1tX",
    "outputId": "4306d516-b55b-4b8b-94f2-434f8c9f2740"
   },
   "outputs": [
    {
     "name": "stdout",
     "output_type": "stream",
     "text": [
      "Random Forest Classification report\n",
      "              precision    recall  f1-score   support\n",
      "\n",
      "           0       1.00      0.97      0.99        35\n",
      "           1       0.98      1.00      0.99        65\n",
      "\n",
      "    accuracy                           0.99       100\n",
      "   macro avg       0.99      0.99      0.99       100\n",
      "weighted avg       0.99      0.99      0.99       100\n",
      "\n"
     ]
    }
   ],
   "source": [
    "# Getting metrices for the models\n",
    "from sklearn.metrics import classification_report\n",
    "\n",
    "print(\"Random Forest Classification report\")\n",
    "print( classification_report(y_test, y_test_pred))"
   ]
  },
  {
   "cell_type": "markdown",
   "metadata": {
    "id": "nLKhyM6nwo3n"
   },
   "source": [
    "# ROC AUC (Receiver Operating Characteristic Area Under the Curve)\n",
    "\n",
    "ROC AUC curve is a graphical representation of a machine learning model's ability to distinguish between two classes, often the positive class (e.g., \"disease present\") and the negative class (e.g., \"disease not present\"). It's a commonly used metric for evaluating the performance of binary classification models, such as those used in medical diagnosis, spam detection, and more.\n",
    "\n",
    "Here's how the ROC AUC curve works:\n",
    "\n",
    "1. **True Positive Rate (TPR) vs. False Positive Rate (FPR):** The ROC curve plots the TPR (Sensitivity or Recall) on the y-axis and the FPR (1 - Specificity) on the x-axis. TPR represents the proportion of actual positive cases correctly classified as positive by the model, while FPR represents the proportion of actual negative cases incorrectly classified as positive by the model.\n",
    "\n",
    "2. **Model Performance:** The ROC curve provides a visual representation of how well the model can discriminate between the two classes. Ideally, you want the model to have a high TPR (close to 1) and a low FPR (close to 0), indicating that it can correctly identify positive cases while minimizing false positives.\n",
    "\n",
    "3. **AUC Score:** The area under the ROC curve (AUC) quantifies the overall performance of the model. A perfect model would have an AUC of 1, indicating perfect discrimination, while a random model would have an AUC of 0.5 (the diagonal line). The higher the AUC, the better the model's ability to distinguish between the classes.\n",
    "\n",
    "In summary, the ROC AUC curve provides a visual tool to assess the trade-off between the true positive rate and the false positive rate for different classification thresholds."
   ]
  },
  {
   "cell_type": "code",
   "execution_count": 310,
   "metadata": {
    "colab": {
     "base_uri": "https://localhost:8080/",
     "height": 573
    },
    "id": "LH-l6xWvt3UO",
    "outputId": "7fbc28ce-5e99-4e1d-ba48-5a29e134e61d"
   },
   "outputs": [
    {
     "data": {
      "image/png": "[encoded data removed]",
      "text/plain": [
       "<Figure size 576x432 with 1 Axes>"
      ]
     },
     "metadata": {
      "needs_background": "light"
     },
     "output_type": "display_data"
    }
   ],
   "source": [
    "from sklearn.metrics import roc_curve, roc_auc_score\n",
    "import matplotlib.pyplot as plt\n",
    "\n",
    "# Calculate the ROC curve for the test data\n",
    "y_test_prob = random_forest_model.predict_proba(X_test)[:, 1]  # Probabilities of class 1\n",
    "fpr, tpr, thresholds = roc_curve(y_test, y_test_prob)\n",
    "\n",
    "# Calculate the AUC (Area Under the Curve) for the ROC curve\n",
    "roc_auc = roc_auc_score(y_test, y_test_prob)\n",
    "\n",
    "# Plot the ROC curve\n",
    "plt.figure(figsize=(8, 6))\n",
    "plt.plot(fpr, tpr, label=f'AUC = {roc_auc:.2f}')\n",
    "plt.plot([0, 1], [0, 1], 'k--')  # Diagonal line for random guessing\n",
    "plt.xlim([0.0, 1.0])\n",
    "plt.ylim([0.0, 1.05])\n",
    "plt.xlabel('False Positive Rate (FPR)')\n",
    "plt.ylabel('True Positive Rate (TPR)')\n",
    "plt.title('Receiver Operating Characteristic (ROC) Curve')\n",
    "plt.legend(loc='lower right')\n",
    "plt.show()"
   ]
  },
  {
   "cell_type": "code",
   "execution_count": 311,
   "metadata": {
    "id": "1CBm9I2Ot5nE"
   },
   "outputs": [],
   "source": [
    "import pickle\n",
    "\n",
    "# Writing the model to a file that will be used for deployment\n",
    "with open('model_kidney.sav', 'wb') as f:\n",
    "    pickle.dump(random_forest_model, f)\n"
   ]
  },
  {
   "cell_type": "markdown",
   "metadata": {},
   "source": [
    "## Making predictions"
   ]
  },
  {
   "cell_type": "code",
   "execution_count": 319,
   "metadata": {},
   "outputs": [
    {
     "name": "stdout",
     "output_type": "stream",
     "text": [
      "[1]\n"
     ]
    }
   ],
   "source": [
    "# Positive disease prediction\n",
    "\n",
    "# Load the pickled model from the file\n",
    "with open('model_kidney.sav', 'rb') as f:\n",
    "    loaded_model = pickle.load(f)\n",
    "\n",
    "# Assuming you have a feature vector `X_new` for prediction\n",
    "X_new = np.array([48, 80.0, 1.020, 1.0, 0.0, 0, 0, 0, 0, 121.0, 36, 1, 138, 5, 15, 44.0, 7800, 5.2, 1, 1, 0, 0, 0, 0]).reshape(1, -1)\n",
    "\n",
    "# Make predictions using the loaded model\n",
    "y_pred = loaded_model.predict(X_new)\n",
    "\n",
    "# Print or use the predictions as needed\n",
    "print(y_pred)\n"
   ]
  },
  {
   "cell_type": "code",
   "execution_count": 333,
   "metadata": {},
   "outputs": [
    {
     "name": "stdout",
     "output_type": "stream",
     "text": [
      "[0]\n"
     ]
    }
   ],
   "source": [
    "# Negative disease prediction\n",
    "\n",
    "# Load the pickled model from the file\n",
    "with open('model_kidney.sav', 'rb') as f:\n",
    "    loaded_model = pickle.load(f)\n",
    "\n",
    "# Assuming you have a feature vector `X_new` for prediction\n",
    "X_n = np.array([23.0, 80.0, 1.025, 1.0, 0.0, 0.0, 0.0, 0.0, 0.0, 70.0, 36.0, 1.0, 150.0, 4.6, 17.0, 52.0, 9800.0, 5.0, 0.0, 0.0, 0.0, 0.0, 0.0, 0.0]).reshape(1, -1)\n",
    "\n",
    "# Make predictions using the loaded model\n",
    "y_pred = loaded_model.predict(X_n)\n",
    "\n",
    "# Print or use the predictions as needed\n",
    "print(y_pred)\n"
   ]
  },
  {
   "cell_type": "markdown",
   "metadata": {
    "id": "Wh8w8hu60vLq"
   },
   "source": [
    "**Summary:**\n",
    "\n",
    "The analysis began by exploring the dataset and understanding its contents. Various preprocessing steps were performed to prepare the data for modeling. These steps included:\n",
    "\n",
    "1. **Handling Null Values**: Missing values were addressed using appropriate imputation strategies. Numerical features were imputed with the median, while categorical features were imputed with the most frequent values.\n",
    "\n",
    "2. **Data Cleaning**: The data contained '\\t' characters and '?' symbols, which were removed to ensure data consistency.\n",
    "\n",
    "3. **Data Type Conversion:** Some columns with numerical data were stored as objects, and they were converted to the appropriate data type (e.g., float or int).\n",
    "\n",
    "4. **Correlation Analysis**: Correlation coefficients were calculated to understand the relationships between features and the target variable. This analysis helped identify important features for model building.\n",
    "\n",
    "5. **Handling Class Imbalance:** As this is a medical prediction classification task, class imbalance was addressed to ensure that the model doesn't favor the majority class. Techniques like oversampling or undersampling were likely used to balance the dataset.\n",
    "\n",
    "6. **Model Building:** Classification models, such as Random Forest or XGBoost, were built to predict kidney disease. Model performance metrics, including accuracy, precision, recall, F1-score, and ROC AUC, were assessed on both training and test datasets.\n",
    "\n",
    "7. **Hyperparameter Tuning:** Hyperparameter tuning was performed to optimize the model's performance. In this case, the focus was on achieving the best recall score, as false negatives (missing cases of kidney disease) can have serious consequences in a medical context.\n",
    "\n",
    "8. **Model Serialization:** The final tuned model was serialized (pickled) for future use in making predictions on new, unseen data.\n",
    "\n",
    "**Conclusion:**\n",
    "\n",
    "In conclusion, the analysis successfully prepared the Kidney Disease Classification dataset for predictive modeling. The data preprocessing steps ensured that the data was clean and suitable for building machine learning models. Class imbalance was addressed, and the model was optimized for recall to minimize false negatives in predicting kidney disease cases. The serialized model can now be used for making predictions in a real-world medical setting, where early detection of kidney disease is crucial for patient well-being."
   ]
  }
 ],
 "metadata": {
  "colab": {
   "provenance": []
  },
  "kernelspec": {
   "display_name": "Python 3 (ipykernel)",
   "language": "python",
   "name": "python3"
  },
  "language_info": {
   "codemirror_mode": {
    "name": "ipython",
    "version": 3
   },
   "file_extension": ".py",
   "mimetype": "text/x-python",
   "name": "python",
   "nbconvert_exporter": "python",
   "pygments_lexer": "ipython3",
   "version": "3.9.12"
  }
 },
 "nbformat": 4,
 "nbformat_minor": 1
}
